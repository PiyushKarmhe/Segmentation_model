{
  "cells": [
    {
      "cell_type": "markdown",
      "metadata": {
        "id": "NlEd9QBXAzFi"
      },
      "source": [
        "# Land Cover Classification of RGB Satellite Images"
      ]
    },
    {
      "cell_type": "markdown",
      "metadata": {
        "id": "R4W8NxqCAzFt"
      },
      "source": [
        "## Data Understanding"
      ]
    },
    {
      "cell_type": "markdown",
      "metadata": {
        "id": "wMNBPbyVAzFt"
      },
      "source": [
        "For this project, I am using RGB satellite images from [EuroSAT: A Novel Dataset and Deep Learning Benchmark for Land Use and Land Cover Classification](https://zenodo.org/record/7711810#.ZCtEhOzMJQK)."
      ]
    },
    {
      "cell_type": "markdown",
      "metadata": {
        "id": "Rf7DI1OdAzFt"
      },
      "source": [
        "This dataset contains 27,000 RGB Satellite Images across 10 classes:\n",
        "- Annual Crop\n",
        "- Forest\n",
        "- Herbaceous Vegetation\n",
        "- Highway\n",
        "- Industrial\n",
        "- Pasture\n",
        "- Permanent Crop\n",
        "- Residential\n",
        "- River\n",
        "- Sea or Lake <br><br>\n",
        "\n",
        "There are about 2,500 images per class."
      ]
    },
    {
      "cell_type": "code",
      "execution_count": null,
      "metadata": {
        "id": "eVs2TRVkAzFu"
      },
      "outputs": [],
      "source": [
        "#Import needed libraries\n",
        "import os, shutil\n",
        "from PIL import Image, ImageOps\n",
        "\n",
        "#Standard Libraries\n",
        "import numpy as np\n",
        "import pandas as pd\n",
        "\n",
        "# Visualizations\n",
        "from matplotlib import pyplot as plt\n",
        "import seaborn as sns\n",
        "\n",
        "from sklearn.metrics import confusion_matrix, multilabel_confusion_matrix, classification_report, ConfusionMatrixDisplay\n",
        "\n",
        "#TensorFlow\n",
        "import tensorflow as tf\n",
        "from tensorflow.keras.preprocessing.image import ImageDataGenerator, array_to_img\n",
        "from keras import models, layers, optimizers, regularizers\n",
        "from tensorflow.keras import Model\n",
        "from tensorflow.data.experimental import cardinality\n",
        "from tensorflow.keras.utils import to_categorical\n",
        "from tensorflow.keras.models import Sequential\n",
        "from tensorflow.keras.layers import Dense # creates densely connected layer object\n",
        "from tensorflow.keras.layers import Flatten # takes 2D input and turns into 1D array\n",
        "from tensorflow.keras.layers import Conv2D # convolution layer\n",
        "from tensorflow.keras.layers import MaxPooling2D # max pooling layer\n",
        "from tensorflow.keras.callbacks import EarlyStopping, ModelCheckpoint\n",
        "\n",
        "#Transfer Learning\n",
        "from keras.applications import ResNet50, VGG19, VGG16"
      ]
    },
    {
      "cell_type": "markdown",
      "metadata": {
        "id": "aim-QQSxAzFv"
      },
      "source": [
        "### Import Data and Train/Validation/Test Split"
      ]
    },
    {
      "cell_type": "markdown",
      "metadata": {
        "id": "fdVofruBC5nl"
      },
      "source": [
        "Since the data is only available as one folder containing subclass folders of each image class, we have to split the data into train and test sets before importing it."
      ]
    },
    {
      "cell_type": "code",
      "execution_count": null,
      "metadata": {
        "id": "tVWgCGlwAzFv"
      },
      "outputs": [],
      "source": [
        "#Split Images into Train and Test folders using OS and Shutil"
      ]
    },
    {
      "cell_type": "code",
      "execution_count": null,
      "metadata": {
        "id": "keitW2mkAzFw"
      },
      "outputs": [],
      "source": [
        "#List image path for all categories\n",
        "data_AnnualCrop = '/Users/Aidan/Documents/Flatiron/Phase_5/EuroSAT_RGB/AnnualCrop'\n",
        "data_Forest = '/Users/Aidan/Documents/Flatiron/Phase_5/EuroSAT_RGB/Forest'\n",
        "data_HerbaceousVegetation = '/Users/Aidan/Documents/Flatiron/Phase_5/EuroSAT_RGB/HerbaceousVegetation'\n",
        "data_Highway = '/Users/Aidan/Documents/Flatiron/Phase_5/EuroSAT_RGB/Highway'\n",
        "data_Industrial = '/Users/Aidan/Documents/Flatiron/Phase_5/EuroSAT_RGB/Industrial'\n",
        "data_Pasture = '/Users/Aidan/Documents/Flatiron/Phase_5/EuroSAT_RGB/Pasture'\n",
        "data_PermanentCrop = '/Users/Aidan/Documents/Flatiron/Phase_5/EuroSAT_RGB/PermanentCrop'\n",
        "data_Residential = '/Users/Aidan/Documents/Flatiron/Phase_5/EuroSAT_RGB/Residential'\n",
        "data_River = '/Users/Aidan/Documents/Flatiron/Phase_5/EuroSAT_RGB/River'\n",
        "data_SeaLake = '/Users/Aidan/Documents/Flatiron/Phase_5/EuroSAT_RGB/SeaLake'\n",
        "\n",
        "\n",
        "new_dir = 'data/split/'"
      ]
    },
    {
      "cell_type": "code",
      "execution_count": null,
      "metadata": {
        "id": "wKC0YUHUAzFw"
      },
      "outputs": [],
      "source": [
        "#Create objects that store all the relevant image names.\n",
        "imgs_AnnualCrop = [file for file in os.listdir(data_AnnualCrop) if file.endswith('.jpg')]\n",
        "imgs_Forest = [file for file in os.listdir(data_Forest) if file.endswith('.jpg')]\n",
        "imgs_HerbaceousVegetation = [file for file in os.listdir(data_HerbaceousVegetation) if file.endswith('.jpg')]\n",
        "imgs_Highway = [file for file in os.listdir(data_Highway) if file.endswith('.jpg')]\n",
        "imgs_Industrial = [file for file in os.listdir(data_Industrial) if file.endswith('.jpg')]\n",
        "imgs_Pasture = [file for file in os.listdir(data_Pasture) if file.endswith('.jpg')]\n",
        "imgs_PermanentCrop = [file for file in os.listdir(data_PermanentCrop) if file.endswith('.jpg')]\n",
        "imgs_Residential = [file for file in os.listdir(data_Residential) if file.endswith('.jpg')]\n",
        "imgs_River = [file for file in os.listdir(data_River) if file.endswith('.jpg')]\n",
        "imgs_SeaLake = [file for file in os.listdir(data_SeaLake) if file.endswith('.jpg')]"
      ]
    },
    {
      "cell_type": "code",
      "execution_count": null,
      "metadata": {
        "id": "U9-GjhahAzFw"
      },
      "outputs": [],
      "source": [
        "# Make new split folder\n",
        "os.mkdir(new_dir)"
      ]
    },
    {
      "cell_type": "code",
      "execution_count": null,
      "metadata": {
        "id": "oEi_iIG_AzFx"
      },
      "outputs": [],
      "source": [
        "#Set up the Train folder and subfolders\n",
        "train_folder = os.path.join(new_dir, 'train')\n",
        "train_AnnualCrop = os.path.join(train_folder, 'AnnualCrop')\n",
        "train_Forest = os.path.join(train_folder, 'Forest')\n",
        "train_HerbaceousVegetation = os.path.join(train_folder, 'HerbaceousVegetation')\n",
        "train_Highway = os.path.join(train_folder, 'Highway')\n",
        "train_Industrial = os.path.join(train_folder, 'Industrial')\n",
        "train_Pasture = os.path.join(train_folder, 'Pasture')\n",
        "train_PermanentCrop = os.path.join(train_folder, 'PermanentCrop')\n",
        "train_Residential = os.path.join(train_folder, 'Residential')\n",
        "train_River = os.path.join(train_folder, 'River')\n",
        "train_SeaLake = os.path.join(train_folder, 'SeaLake')\n"
      ]
    },
    {
      "cell_type": "code",
      "execution_count": null,
      "metadata": {
        "id": "0DEfz7j5AzFx"
      },
      "outputs": [],
      "source": [
        "#Set up the Test folder and subfolders\n",
        "test_folder = os.path.join(new_dir, 'test')\n",
        "test_AnnualCrop = os.path.join(test_folder, 'AnnualCrop')\n",
        "test_Forest = os.path.join(test_folder, 'Forest')\n",
        "test_HerbaceousVegetation = os.path.join(test_folder, 'HerbaceousVegetation')\n",
        "test_Highway = os.path.join(test_folder, 'Highway')\n",
        "test_Industrial = os.path.join(test_folder, 'Industrial')\n",
        "test_Pasture = os.path.join(test_folder, 'Pasture')\n",
        "test_PermanentCrop = os.path.join(test_folder, 'PermanentCrop')\n",
        "test_Residential = os.path.join(test_folder, 'Residential')\n",
        "test_River = os.path.join(test_folder, 'River')\n",
        "test_SeaLake = os.path.join(test_folder, 'SeaLake')"
      ]
    },
    {
      "cell_type": "code",
      "execution_count": null,
      "metadata": {
        "id": "5NUak31sAzFx"
      },
      "outputs": [],
      "source": [
        "# Make the Train directories(folders)\n",
        "os.mkdir(train_folder)\n",
        "os.mkdir(train_AnnualCrop)\n",
        "os.mkdir(train_Forest)\n",
        "os.mkdir(train_HerbaceousVegetation)\n",
        "os.mkdir(train_Highway)\n",
        "os.mkdir(train_Industrial)\n",
        "os.mkdir(train_Pasture)\n",
        "os.mkdir(train_PermanentCrop)\n",
        "os.mkdir(train_Residential)\n",
        "os.mkdir(train_River)\n",
        "os.mkdir(train_SeaLake)\n",
        "\n",
        "# Make the Test directories(folders)\n",
        "os.mkdir(test_folder)\n",
        "os.mkdir(test_AnnualCrop)\n",
        "os.mkdir(test_Forest)\n",
        "os.mkdir(test_HerbaceousVegetation)\n",
        "os.mkdir(test_Highway)\n",
        "os.mkdir(test_Industrial)\n",
        "os.mkdir(test_Pasture)\n",
        "os.mkdir(test_PermanentCrop)\n",
        "os.mkdir(test_Residential)\n",
        "os.mkdir(test_River)\n",
        "os.mkdir(test_SeaLake)"
      ]
    },
    {
      "cell_type": "code",
      "execution_count": null,
      "metadata": {
        "id": "SDoSqY4OAzFy"
      },
      "outputs": [],
      "source": [
        "# Compile 80% of images into folders- Train\n",
        "imgs = imgs_AnnualCrop[:2400]\n",
        "for img in imgs:\n",
        "    origin = os.path.join(data_AnnualCrop, img)\n",
        "    destination = os.path.join(train_AnnualCrop, img)\n",
        "    shutil.copyfile(origin, destination)\n",
        "\n",
        "imgs = imgs_Forest[:2400]\n",
        "for img in imgs:\n",
        "    origin = os.path.join(data_Forest, img)\n",
        "    destination = os.path.join(train_Forest, img)\n",
        "    shutil.copyfile(origin, destination)\n",
        "\n",
        "imgs = imgs_HerbaceousVegetation[:2400]\n",
        "for img in imgs:\n",
        "    origin = os.path.join(data_HerbaceousVegetation, img)\n",
        "    destination = os.path.join(train_HerbaceousVegetation, img)\n",
        "    shutil.copyfile(origin, destination)\n",
        "\n",
        "imgs = imgs_Highway[:2000]\n",
        "for img in imgs:\n",
        "    origin = os.path.join(data_Highway, img)\n",
        "    destination = os.path.join(train_Highway, img)\n",
        "    shutil.copyfile(origin, destination)\n",
        "\n",
        "imgs = imgs_Industrial[:2000]\n",
        "for img in imgs:\n",
        "    origin = os.path.join(data_Industrial, img)\n",
        "    destination = os.path.join(train_Industrial, img)\n",
        "    shutil.copyfile(origin, destination)\n",
        "\n",
        "imgs = imgs_Pasture[:1600]\n",
        "for img in imgs:\n",
        "    origin = os.path.join(data_Pasture, img)\n",
        "    destination = os.path.join(train_Pasture, img)\n",
        "    shutil.copyfile(origin, destination)\n",
        "\n",
        "imgs = imgs_PermanentCrop[:2000]\n",
        "for img in imgs:\n",
        "    origin = os.path.join(data_PermanentCrop, img)\n",
        "    destination = os.path.join(train_PermanentCrop, img)\n",
        "    shutil.copyfile(origin, destination)\n",
        "\n",
        "imgs = imgs_Residential[:2400]\n",
        "for img in imgs:\n",
        "    origin = os.path.join(data_Residential, img)\n",
        "    destination = os.path.join(train_Residential, img)\n",
        "    shutil.copyfile(origin, destination)\n",
        "\n",
        "imgs = imgs_River[:2000]\n",
        "for img in imgs:\n",
        "    origin = os.path.join(data_River, img)\n",
        "    destination = os.path.join(train_River, img)\n",
        "    shutil.copyfile(origin, destination)\n",
        "\n",
        "imgs = imgs_SeaLake[:2400]\n",
        "for img in imgs:\n",
        "    origin = os.path.join(data_SeaLake, img)\n",
        "    destination = os.path.join(train_SeaLake, img)\n",
        "    shutil.copyfile(origin, destination)"
      ]
    },
    {
      "cell_type": "code",
      "execution_count": null,
      "metadata": {
        "id": "6tJmAqS4AzFy"
      },
      "outputs": [],
      "source": [
        "# Compile other 20% of images into folders- Test\n",
        "imgs = imgs_AnnualCrop[2400:] #600\n",
        "for img in imgs:\n",
        "    origin = os.path.join(data_AnnualCrop, img)\n",
        "    destination = os.path.join(test_AnnualCrop, img)\n",
        "    shutil.copyfile(origin, destination)\n",
        "\n",
        "imgs = imgs_Forest[2400:] #600\n",
        "for img in imgs:\n",
        "    origin = os.path.join(data_Forest, img)\n",
        "    destination = os.path.join(test_Forest, img)\n",
        "    shutil.copyfile(origin, destination)\n",
        "\n",
        "imgs = imgs_HerbaceousVegetation[2400:] #600\n",
        "for img in imgs:\n",
        "    origin = os.path.join(data_HerbaceousVegetation, img)\n",
        "    destination = os.path.join(test_HerbaceousVegetation, img)\n",
        "    shutil.copyfile(origin, destination)\n",
        "\n",
        "imgs = imgs_Highway[2000:] #500\n",
        "for img in imgs:\n",
        "    origin = os.path.join(data_Highway, img)\n",
        "    destination = os.path.join(test_Highway, img)\n",
        "    shutil.copyfile(origin, destination)\n",
        "\n",
        "imgs = imgs_Industrial[2000:] #500\n",
        "for img in imgs:\n",
        "    origin = os.path.join(data_Industrial, img)\n",
        "    destination = os.path.join(test_Industrial, img)\n",
        "    shutil.copyfile(origin, destination)\n",
        "\n",
        "imgs = imgs_Pasture[1600:] #400\n",
        "for img in imgs:\n",
        "    origin = os.path.join(data_Pasture, img)\n",
        "    destination = os.path.join(test_Pasture, img)\n",
        "    shutil.copyfile(origin, destination)\n",
        "\n",
        "imgs = imgs_PermanentCrop[2000:] #500\n",
        "for img in imgs:\n",
        "    origin = os.path.join(data_PermanentCrop, img)\n",
        "    destination = os.path.join(test_PermanentCrop, img)\n",
        "    shutil.copyfile(origin, destination)\n",
        "\n",
        "imgs = imgs_Residential[2400:] #600\n",
        "for img in imgs:\n",
        "    origin = os.path.join(data_Residential, img)\n",
        "    destination = os.path.join(test_Residential, img)\n",
        "    shutil.copyfile(origin, destination)\n",
        "\n",
        "imgs = imgs_River[2000:] #500\n",
        "for img in imgs:\n",
        "    origin = os.path.join(data_River, img)\n",
        "    destination = os.path.join(test_River, img)\n",
        "    shutil.copyfile(origin, destination)\n",
        "\n",
        "imgs = imgs_SeaLake[2400:] #600\n",
        "for img in imgs:\n",
        "    origin = os.path.join(data_SeaLake, img)\n",
        "    destination = os.path.join(test_SeaLake, img)\n",
        "    shutil.copyfile(origin, destination)"
      ]
    },
    {
      "cell_type": "code",
      "execution_count": null,
      "metadata": {
        "colab": {
          "base_uri": "https://localhost:8080/",
          "height": 425
        },
        "id": "kOkLuiV7AzF0",
        "outputId": "52e53429-fca3-46d1-eb4d-bf8ed4ee01d4"
      },
      "outputs": [
        {
          "name": "stdout",
          "output_type": "stream",
          "text": [
            "Found 18900 images belonging to 10 classes.\n",
            "Found 2700 images belonging to 10 classes.\n",
            "Found 5400 images belonging to 10 classes.\n"
          ]
        }
      ],
      "source": [
        "train_folder = 'data/split/train'\n",
        "test_folder = 'data/split/test'\n",
        "\n",
        "# Normalize images\n",
        "train_gen = ImageDataGenerator(rescale=1./255, validation_split = 0.125)\n",
        "test_gen = ImageDataGenerator(rescale=1./255)\n",
        "\n",
        "#Import data as 70% Train (10% Validation of orginal data set) and 20% Test\n",
        "train_generator = train_gen.flow_from_directory(train_folder,\n",
        "                                                class_mode = 'categorical',\n",
        "                                                subset ='training',\n",
        "                                                batch_size=128,\n",
        "                                                shuffle=True,\n",
        "                                                seed=42)\n",
        "\n",
        "val_generator= train_gen.flow_from_directory(train_folder,\n",
        "                                             class_mode= 'categorical',\n",
        "                                             subset = \"validation\",\n",
        "                                             batch_size=128,\n",
        "                                             shuffle=True,\n",
        "                                             seed=42)\n",
        "\n",
        "test_generator= test_gen.flow_from_directory(test_folder,\n",
        "                                              class_mode= 'categorical',\n",
        "                                              batch_size=128,\n",
        "                                              shuffle=False,\n",
        "                                              seed=42)"
      ]
    },
    {
      "cell_type": "code",
      "execution_count": null,
      "metadata": {
        "id": "uyAGupOSAzF1"
      },
      "outputs": [],
      "source": [
        "# create the data sets\n",
        "train_images, train_labels = next(train_generator)\n",
        "test_images, test_labels = next(test_generator)\n",
        "val_images, val_labels = next(val_generator)"
      ]
    },
    {
      "cell_type": "markdown",
      "metadata": {
        "id": "ApQ1qbmuAzF1"
      },
      "source": [
        "### Explore Data"
      ]
    },
    {
      "cell_type": "markdown",
      "metadata": {
        "id": "U7IV0oKiC5nm"
      },
      "source": [
        "Let's look at our image counts of each class across the train, validation, and test datasets."
      ]
    },
    {
      "cell_type": "code",
      "execution_count": null,
      "metadata": {
        "id": "G_xM--0hAzF1",
        "outputId": "2f2ec8f0-8739-4715-b813-5fe0ebd9748d"
      },
      "outputs": [
        {
          "name": "stdout",
          "output_type": "stream",
          "text": [
            "Train ~ [(0, 2100), (1, 2100), (2, 2100), (3, 1750), (4, 1750), (5, 1400), (6, 1750), (7, 2100), (8, 1750), (9, 2100)]\n",
            "Validation ~ [(0, 300), (1, 300), (2, 300), (3, 250), (4, 250), (5, 200), (6, 250), (7, 300), (8, 250), (9, 300)]\n",
            "Test ~ [(0, 600), (1, 600), (2, 600), (3, 500), (4, 500), (5, 400), (6, 500), (7, 600), (8, 500), (9, 600)]\n"
          ]
        }
      ],
      "source": [
        "#Confirm class balance for train and test\n",
        "train_classes = train_generator.classes\n",
        "val_classes = val_generator.classes\n",
        "test_classes = test_generator.classes\n",
        "\n",
        "#Look at image distribution by class across train, test, and validation sets.\n",
        "train_class, train_count = np.unique(train_classes, return_counts=True)\n",
        "val_class, val_count = np.unique(val_classes, return_counts=True)\n",
        "test_class, test_count = np.unique(test_classes, return_counts=True)\n",
        "\n",
        "print('Train ~ {}'.format(list(zip(train_class, train_count))))\n",
        "print('Validation ~ {}'.format(list(zip(val_class, val_count))))\n",
        "print('Test ~ {}'.format(list(zip(test_class, test_count))))"
      ]
    },
    {
      "cell_type": "code",
      "execution_count": null,
      "metadata": {
        "id": "zF7KS8FIAzF2",
        "outputId": "25fd9b87-d1a8-43e5-86c8-5f224b856d09",
        "scrolled": false
      },
      "outputs": [
        {
          "name": "stdout",
          "output_type": "stream",
          "text": [
            "Train: {'AnnualCrop': 0, 'Forest': 1, 'HerbaceousVegetation': 2, 'Highway': 3, 'Industrial': 4, 'Pasture': 5, 'PermanentCrop': 6, 'Residential': 7, 'River': 8, 'SeaLake': 9}\n",
            "Validation: {'AnnualCrop': 0, 'Forest': 1, 'HerbaceousVegetation': 2, 'Highway': 3, 'Industrial': 4, 'Pasture': 5, 'PermanentCrop': 6, 'Residential': 7, 'River': 8, 'SeaLake': 9}\n",
            "Train: {'AnnualCrop': 0, 'Forest': 1, 'HerbaceousVegetation': 2, 'Highway': 3, 'Industrial': 4, 'Pasture': 5, 'PermanentCrop': 6, 'Residential': 7, 'River': 8, 'SeaLake': 9}\n"
          ]
        }
      ],
      "source": [
        "#Checking the classes in our train data\n",
        "train_class_names = train_generator.class_indices\n",
        "print('Train:', train_class_names)\n",
        "\n",
        "#Checking the classes in our validation data\n",
        "val_class_names = val_generator.class_indices\n",
        "print('Validation:', val_class_names)\n",
        "\n",
        "#Checking the classes in our test data\n",
        "test_class_names = test_generator.class_indices\n",
        "print('Train:', test_class_names)"
      ]
    },
    {
      "cell_type": "code",
      "execution_count": null,
      "metadata": {
        "id": "dukgFJwrAzF2",
        "outputId": "ed55f809-bdef-410e-c3cc-25a159186d18"
      },
      "outputs": [
        {
          "name": "stdout",
          "output_type": "stream",
          "text": [
            "Train\n",
            "(128, 256, 256, 3)\n",
            "(128, 10)\n",
            "Validation\n",
            "(128, 256, 256, 3)\n",
            "(128, 10)\n",
            "Test\n",
            "(128, 256, 256, 3)\n",
            "(128, 10)\n"
          ]
        }
      ],
      "source": [
        "# Preview the shape of both the images and labels for both the train, validation, and test sets (8 objects total)\n",
        "print(\"Train\")\n",
        "print(np.shape(train_images))\n",
        "print(np.shape(train_labels))\n",
        "print(\"Validation\")\n",
        "print(np.shape(val_images))\n",
        "print(np.shape(val_labels))\n",
        "print(\"Test\")\n",
        "print(np.shape(test_images))\n",
        "print(np.shape(test_labels))"
      ]
    },
    {
      "cell_type": "code",
      "execution_count": null,
      "metadata": {
        "id": "Lwc91RwOAzF2",
        "outputId": "6e7cba57-4d1c-41fe-c611-b7dc608b55c4"
      },
      "outputs": [
        {
          "name": "stdout",
          "output_type": "stream",
          "text": [
            "[0. 0. 0. 0. 0. 0. 0. 0. 0. 1.]\n"
          ]
        },
        {
          "data": {
            "image/png": "[encoded data removed]",
            "text/plain": [
              "<PIL.Image.Image image mode=RGB size=256x256 at 0x7FF692526610>"
            ]
          },
          "execution_count": 18,
          "metadata": {},
          "output_type": "execute_result"
        }
      ],
      "source": [
        "# Preview a train data image\n",
        "print(train_labels[0])\n",
        "array_to_img(train_images[0])"
      ]
    },
    {
      "cell_type": "markdown",
      "metadata": {
        "id": "VnZbRbAwC5nm"
      },
      "source": [
        "The above image is an example of the \"Sea or Lake\" class."
      ]
    },
    {
      "cell_type": "code",
      "execution_count": null,
      "metadata": {
        "id": "_IAaxbXwAzF2",
        "outputId": "67d3dcc8-04ec-4b11-82da-d1806be9b83b"
      },
      "outputs": [
        {
          "name": "stdout",
          "output_type": "stream",
          "text": [
            "[0. 0. 0. 0. 1. 0. 0. 0. 0. 0.]\n"
          ]
        },
        {
          "data": {
            "image/png": "[encoded data removed]",
            "text/plain": [
              "<PIL.Image.Image image mode=RGB size=256x256 at 0x7FF689F5DA00>"
            ]
          },
          "execution_count": 19,
          "metadata": {},
          "output_type": "execute_result"
        }
      ],
      "source": [
        "# Preview a test data image\n",
        "print(test_labels[0])\n",
        "array_to_img(test_images[0])"
      ]
    },
    {
      "cell_type": "markdown",
      "metadata": {
        "id": "9rE7bNT8AzF3"
      },
      "source": [
        "The above image is an example of the \"Industrial\" class."
      ]
    },
    {
      "cell_type": "markdown",
      "metadata": {
        "id": "bHuwAxNVAzF3"
      },
      "source": [
        "## Modeling"
      ]
    },
    {
      "cell_type": "markdown",
      "metadata": {
        "id": "PwnuxVWZAzF3"
      },
      "source": [
        "### Baseline Model"
      ]
    },
    {
      "cell_type": "markdown",
      "metadata": {
        "id": "BIdfid5hAzF3"
      },
      "source": [
        "For our baseline model, we will create a simple Sequential Neural Network with one Convolutional Layer, one Max Pooling Layer, and one Dense Layer (not including our output layer)."
      ]
    },
    {
      "cell_type": "code",
      "execution_count": null,
      "metadata": {
        "id": "VUFKYIPmAzF3",
        "outputId": "dfffde53-f665-4606-e543-f3c6538683ab"
      },
      "outputs": [
        {
          "name": "stdout",
          "output_type": "stream",
          "text": [
            "Model: \"sequential_3\"\n",
            "_________________________________________________________________\n",
            "Layer (type)                 Output Shape              Param #   \n",
            "=================================================================\n",
            "conv2d_5 (Conv2D)            (None, 254, 254, 32)      896       \n",
            "_________________________________________________________________\n",
            "max_pooling2d_4 (MaxPooling2 (None, 127, 127, 32)      0         \n",
            "_________________________________________________________________\n",
            "flatten_2 (Flatten)          (None, 516128)            0         \n",
            "_________________________________________________________________\n",
            "dense_6 (Dense)              (None, 64)                33032256  \n",
            "_________________________________________________________________\n",
            "dense_7 (Dense)              (None, 10)                650       \n",
            "=================================================================\n",
            "Total params: 33,033,802\n",
            "Trainable params: 33,033,802\n",
            "Non-trainable params: 0\n",
            "_________________________________________________________________\n"
          ]
        }
      ],
      "source": [
        "#Instantiate a Sequential model\n",
        "baseline_model = Sequential()\n",
        "\n",
        "\n",
        "# Input Layer- Convolution\n",
        "baseline_model.add(Conv2D(filters=32,\n",
        "                          kernel_size=(3, 3),\n",
        "                          activation='relu',\n",
        "                          input_shape= (256, 256, 3)))\n",
        "\n",
        "\n",
        "# Layer 1- max pool in 2x2 window\n",
        "baseline_model.add(MaxPooling2D(pool_size=(2, 2)))\n",
        "\n",
        "# Layer 2- connect all nodes with dense layer\n",
        "baseline_model.add(Flatten())\n",
        "baseline_model.add(Dense(64, activation='relu'))\n",
        "\n",
        "# Output Layer- softmax activiation for multi-categorical with 10 classes\n",
        "baseline_model.add(Dense(10, activation='softmax'))\n",
        "\n",
        "#Compile the sequential CNN model- adam optimizer,\n",
        "# categorical_crossentropy loss, and set our metric to accuracy\n",
        "baseline_model.compile(optimizer='adam',\n",
        "                       loss='categorical_crossentropy',\n",
        "                       metrics=['accuracy'])\n",
        "\n",
        "# print model summary\n",
        "baseline_model.summary()"
      ]
    },
    {
      "cell_type": "code",
      "execution_count": null,
      "metadata": {
        "id": "FB11RqMEAzF3",
        "outputId": "3268cf17-8f4a-4c75-cd95-098475c1c0bf"
      },
      "outputs": [
        {
          "name": "stdout",
          "output_type": "stream",
          "text": [
            "Epoch 1/20\n",
            "148/148 [==============================] - 327s 2s/step - loss: 3.3877 - accuracy: 0.2939 - val_loss: 1.6197 - val_accuracy: 0.3700\n",
            "Epoch 2/20\n",
            "148/148 [==============================] - 353s 2s/step - loss: 1.5218 - accuracy: 0.4223 - val_loss: 1.4075 - val_accuracy: 0.4696\n",
            "Epoch 3/20\n",
            "148/148 [==============================] - 375s 3s/step - loss: 1.2251 - accuracy: 0.5588 - val_loss: 1.0713 - val_accuracy: 0.6007\n",
            "Epoch 4/20\n",
            "148/148 [==============================] - 310s 2s/step - loss: 1.0015 - accuracy: 0.6423 - val_loss: 1.0096 - val_accuracy: 0.6422\n",
            "Epoch 5/20\n",
            "148/148 [==============================] - 296s 2s/step - loss: 0.8978 - accuracy: 0.6808 - val_loss: 0.9568 - val_accuracy: 0.6426\n",
            "Epoch 6/20\n",
            "148/148 [==============================] - 296s 2s/step - loss: 0.8389 - accuracy: 0.7003 - val_loss: 0.9141 - val_accuracy: 0.6644\n",
            "Epoch 7/20\n",
            "148/148 [==============================] - 298s 2s/step - loss: 0.7665 - accuracy: 0.7302 - val_loss: 0.9494 - val_accuracy: 0.6615\n",
            "Epoch 8/20\n",
            "148/148 [==============================] - 296s 2s/step - loss: 0.7125 - accuracy: 0.7523 - val_loss: 0.9027 - val_accuracy: 0.6656\n",
            "Epoch 9/20\n",
            "148/148 [==============================] - 298s 2s/step - loss: 0.6604 - accuracy: 0.7748 - val_loss: 0.8528 - val_accuracy: 0.6907\n",
            "Epoch 10/20\n",
            "148/148 [==============================] - 323s 2s/step - loss: 0.5992 - accuracy: 0.8001 - val_loss: 0.8202 - val_accuracy: 0.7204\n",
            "Epoch 11/20\n",
            "148/148 [==============================] - 306s 2s/step - loss: 0.5203 - accuracy: 0.8258 - val_loss: 0.8082 - val_accuracy: 0.7163\n",
            "Epoch 12/20\n",
            "148/148 [==============================] - 328s 2s/step - loss: 0.4612 - accuracy: 0.8526 - val_loss: 0.8119 - val_accuracy: 0.7174\n",
            "Epoch 13/20\n",
            "148/148 [==============================] - 329s 2s/step - loss: 0.4023 - accuracy: 0.8755 - val_loss: 0.8557 - val_accuracy: 0.7115\n",
            "Epoch 14/20\n",
            "148/148 [==============================] - 309s 2s/step - loss: 0.3558 - accuracy: 0.8920 - val_loss: 0.8262 - val_accuracy: 0.7237\n",
            "Epoch 15/20\n",
            "148/148 [==============================] - 306s 2s/step - loss: 0.3132 - accuracy: 0.9081 - val_loss: 0.8719 - val_accuracy: 0.7167\n",
            "Epoch 16/20\n",
            "148/148 [==============================] - 314s 2s/step - loss: 0.2626 - accuracy: 0.9238 - val_loss: 0.8958 - val_accuracy: 0.7263\n",
            "Epoch 17/20\n",
            "148/148 [==============================] - 316s 2s/step - loss: 0.2401 - accuracy: 0.9327 - val_loss: 0.9385 - val_accuracy: 0.7033\n",
            "Epoch 18/20\n",
            "148/148 [==============================] - 320s 2s/step - loss: 0.1822 - accuracy: 0.9534 - val_loss: 0.9168 - val_accuracy: 0.7281\n",
            "Epoch 19/20\n",
            "148/148 [==============================] - 325s 2s/step - loss: 0.1773 - accuracy: 0.9526 - val_loss: 1.0057 - val_accuracy: 0.7167\n",
            "Epoch 20/20\n",
            "148/148 [==============================] - 317s 2s/step - loss: 0.1472 - accuracy: 0.9641 - val_loss: 1.0582 - val_accuracy: 0.7226\n"
          ]
        }
      ],
      "source": [
        "#Fit the model\n",
        "baseline_history = baseline_model.fit(train_generator,\n",
        "                                      epochs = 20,\n",
        "                                      batch_size= 128,\n",
        "                                      verbose = 1,\n",
        "                                      validation_data = val_generator)"
      ]
    },
    {
      "cell_type": "code",
      "execution_count": null,
      "metadata": {
        "id": "vEkMfN8uAzF4",
        "outputId": "767222a2-164b-4e56-9f57-dff888323d38"
      },
      "outputs": [
        {
          "name": "stdout",
          "output_type": "stream",
          "text": [
            "43/43 [==============================] - 25s 585ms/step - loss: 1.0459 - accuracy: 0.7411\n",
            "Test loss:  1.0459473133087158\n",
            "Test accuracy:  0.7411110997200012\n"
          ]
        }
      ],
      "source": [
        "#Check loss and accuracy on test data\n",
        "test_loss, test_acc = baseline_model.evaluate(test_generator, verbose = 1)\n",
        "\n",
        "print('Test loss: ', test_loss)\n",
        "print('Test accuracy: ', test_acc)"
      ]
    },
    {
      "cell_type": "markdown",
      "metadata": {
        "id": "nY32LY7VAzF4"
      },
      "source": [
        "It looks like after 20 Epochs our baseline model overfit with a 96.4% train accuracy and a 74.1% test accuracy. In the future, we will also want to use Early Stopping to prevent the model from continuing to overfit."
      ]
    },
    {
      "cell_type": "markdown",
      "metadata": {
        "id": "lEEys1tgAzF4"
      },
      "source": [
        "### First Model"
      ]
    },
    {
      "cell_type": "markdown",
      "metadata": {
        "id": "nHrqIvBAAzF4"
      },
      "source": [
        "Let's make our CNN \"deeper\" and add additonal convolution and max pooling layers."
      ]
    },
    {
      "cell_type": "code",
      "execution_count": null,
      "metadata": {
        "id": "z2s-Cl4jAzF4",
        "outputId": "84846d79-7e08-49bd-afa8-7dde054410ee"
      },
      "outputs": [
        {
          "name": "stdout",
          "output_type": "stream",
          "text": [
            "Model: \"sequential_5\"\n",
            "_________________________________________________________________\n",
            "Layer (type)                 Output Shape              Param #   \n",
            "=================================================================\n",
            "conv2d_6 (Conv2D)            (None, 254, 254, 32)      896       \n",
            "_________________________________________________________________\n",
            "max_pooling2d_5 (MaxPooling2 (None, 127, 127, 32)      0         \n",
            "_________________________________________________________________\n",
            "conv2d_7 (Conv2D)            (None, 125, 125, 32)      9248      \n",
            "_________________________________________________________________\n",
            "max_pooling2d_6 (MaxPooling2 (None, 62, 62, 32)        0         \n",
            "_________________________________________________________________\n",
            "flatten_3 (Flatten)          (None, 123008)            0         \n",
            "_________________________________________________________________\n",
            "dense_8 (Dense)              (None, 64)                7872576   \n",
            "_________________________________________________________________\n",
            "dense_9 (Dense)              (None, 10)                650       \n",
            "=================================================================\n",
            "Total params: 7,883,370\n",
            "Trainable params: 7,883,370\n",
            "Non-trainable params: 0\n",
            "_________________________________________________________________\n"
          ]
        }
      ],
      "source": [
        "#Instantiate a Sequential model\n",
        "model_one = Sequential()\n",
        "\n",
        "\n",
        "# Input Layer- Convolution\n",
        "model_one.add(Conv2D(filters=32,\n",
        "                          kernel_size=(3, 3),\n",
        "                          activation='relu',\n",
        "                          input_shape= (256, 256, 3)))\n",
        "\n",
        "\n",
        "# Layer 1- max pool in 2x2 window\n",
        "model_one.add(MaxPooling2D(pool_size=(2, 2)))\n",
        "\n",
        "# Layer 2- another convolution layer\n",
        "model_one.add(layers.Conv2D(32, (3, 3), activation='relu'))\n",
        "\n",
        "# Layer 3- another max pool layer\n",
        "model_one.add(layers.MaxPooling2D((2, 2)))\n",
        "\n",
        "# Layer 4- connect all nodes with dense layer\n",
        "model_one.add(Flatten())\n",
        "model_one.add(Dense(64, activation='relu'))\n",
        "\n",
        "# Output Layer- softmax activiation for multi-categorical with 10 classes\n",
        "model_one.add(Dense(10, activation='softmax'))\n",
        "\n",
        "#Compile the sequential CNN model- adam optimizer,\n",
        "# categorical_crossentropy loss, and set our metric to accuracy\n",
        "model_one.compile(optimizer='adam',\n",
        "                       loss='categorical_crossentropy',\n",
        "                       metrics=['accuracy'])\n",
        "\n",
        "# print model summary\n",
        "model_one.summary()"
      ]
    },
    {
      "cell_type": "markdown",
      "metadata": {
        "id": "w4lN_Dk5AzF5"
      },
      "source": [
        "Let's also add a stopping criteria as well."
      ]
    },
    {
      "cell_type": "code",
      "execution_count": null,
      "metadata": {
        "id": "IlsLQQfbAzF5",
        "outputId": "ce69510c-4020-4911-ebf6-2143e446ae58"
      },
      "outputs": [
        {
          "name": "stdout",
          "output_type": "stream",
          "text": [
            "Epoch 1/20\n",
            "148/148 [==============================] - 444s 3s/step - loss: 1.5299 - accuracy: 0.4476 - val_loss: 1.1410 - val_accuracy: 0.5926\n",
            "Epoch 2/20\n",
            "148/148 [==============================] - 452s 3s/step - loss: 1.0054 - accuracy: 0.6348 - val_loss: 0.9596 - val_accuracy: 0.6463\n",
            "Epoch 3/20\n",
            "148/148 [==============================] - 449s 3s/step - loss: 0.8038 - accuracy: 0.7134 - val_loss: 0.8036 - val_accuracy: 0.6993\n",
            "Epoch 4/20\n",
            "148/148 [==============================] - 490s 3s/step - loss: 0.6379 - accuracy: 0.7755 - val_loss: 0.7442 - val_accuracy: 0.7374\n",
            "Epoch 5/20\n",
            "148/148 [==============================] - 553s 4s/step - loss: 0.5075 - accuracy: 0.8248 - val_loss: 0.6600 - val_accuracy: 0.7711\n",
            "Epoch 6/20\n",
            "148/148 [==============================] - 451s 3s/step - loss: 0.4197 - accuracy: 0.8556 - val_loss: 0.7485 - val_accuracy: 0.7367\n",
            "Epoch 7/20\n",
            "148/148 [==============================] - 440s 3s/step - loss: 0.3318 - accuracy: 0.8915 - val_loss: 0.6621 - val_accuracy: 0.7807\n",
            "Epoch 00007: early stopping\n"
          ]
        }
      ],
      "source": [
        "# Define Stopping Criteria\n",
        "valcallback = EarlyStopping(monitor='val_loss', mode='min', verbose = 1, patience = 2)\n",
        "\n",
        "\n",
        "# Fit the model\n",
        "model_one_history = model_one.fit(train_generator,\n",
        "                                  epochs= 20,\n",
        "                                  validation_data = val_generator,\n",
        "                                  callbacks= valcallback,\n",
        "                                  batch_size=128,\n",
        "                                  verbose = 1)"
      ]
    },
    {
      "cell_type": "code",
      "execution_count": null,
      "metadata": {
        "id": "5LzoxWKnAzF5",
        "outputId": "b7465a10-c586-4f02-b852-4bc39a441682"
      },
      "outputs": [
        {
          "name": "stdout",
          "output_type": "stream",
          "text": [
            "43/43 [==============================] - 36s 827ms/step - loss: 0.6744 - accuracy: 0.7857\n",
            "Test loss:  0.6743987798690796\n",
            "Test accuracy:  0.7857407331466675\n"
          ]
        }
      ],
      "source": [
        "#Check loss and accuracy on test data\n",
        "test_loss, test_acc = model_one.evaluate(test_generator, verbose = 1)\n",
        "\n",
        "print('Test loss: ', test_loss)\n",
        "print('Test accuracy: ', test_acc)"
      ]
    },
    {
      "cell_type": "markdown",
      "metadata": {
        "id": "JjPqzWWHAzF5"
      },
      "source": [
        "Making our model deeper and adding early stopping seemed to help; our model stopped after 7 Epochs once validation loss stopped decreasing. Our model is still overfit but less so with a 89.2% Train accuracy and a 78.6% Test accuracy."
      ]
    },
    {
      "cell_type": "markdown",
      "metadata": {
        "id": "5GcPQn-HAzF6"
      },
      "source": [
        "### Adding Regularization"
      ]
    },
    {
      "cell_type": "markdown",
      "metadata": {
        "id": "_C0yAQYzAzF6"
      },
      "source": [
        "To help with the consistent overfitting, let's try out a few regularization techniques: L1, L2, and Dropout Layers."
      ]
    },
    {
      "cell_type": "markdown",
      "metadata": {
        "id": "cgok0pFhAzF6"
      },
      "source": [
        "#### Model 2- L1 Regularization"
      ]
    },
    {
      "cell_type": "code",
      "execution_count": null,
      "metadata": {
        "id": "J54q8WtwAzF7",
        "outputId": "0acff9d5-99ff-46eb-cda3-049be830210e"
      },
      "outputs": [
        {
          "name": "stdout",
          "output_type": "stream",
          "text": [
            "Model: \"sequential_11\"\n",
            "_________________________________________________________________\n",
            "Layer (type)                 Output Shape              Param #   \n",
            "=================================================================\n",
            "conv2d_11 (Conv2D)           (None, 254, 254, 32)      896       \n",
            "_________________________________________________________________\n",
            "max_pooling2d_9 (MaxPooling2 (None, 127, 127, 32)      0         \n",
            "_________________________________________________________________\n",
            "conv2d_12 (Conv2D)           (None, 125, 125, 32)      9248      \n",
            "_________________________________________________________________\n",
            "max_pooling2d_10 (MaxPooling (None, 62, 62, 32)        0         \n",
            "_________________________________________________________________\n",
            "flatten_9 (Flatten)          (None, 123008)            0         \n",
            "_________________________________________________________________\n",
            "dense_18 (Dense)             (None, 64)                7872576   \n",
            "_________________________________________________________________\n",
            "dense_19 (Dense)             (None, 10)                650       \n",
            "=================================================================\n",
            "Total params: 7,883,370\n",
            "Trainable params: 7,883,370\n",
            "Non-trainable params: 0\n",
            "_________________________________________________________________\n"
          ]
        }
      ],
      "source": [
        "#Instantiate a Sequential model\n",
        "model_l1 = Sequential()\n",
        "\n",
        "\n",
        "# Input Layer- Convolution\n",
        "model_l1.add(Conv2D(filters=32,\n",
        "                          kernel_size=(3, 3),\n",
        "                          activation='relu',\n",
        "                          input_shape= (256, 256, 3),\n",
        "                     kernel_regularizer=regularizers.l1(0.005)))\n",
        "\n",
        "\n",
        "# Layer 1- max pool in 2x2 window\n",
        "model_l1.add(MaxPooling2D(pool_size=(2, 2)))\n",
        "\n",
        "# Layer 2- another convolution layer\n",
        "model_l1.add(layers.Conv2D(32, (3, 3),\n",
        "                            activation='relu',\n",
        "                            kernel_regularizer=regularizers.l1(0.005)))\n",
        "\n",
        "# Layer 3- another max pool layer\n",
        "model_l1.add(layers.MaxPooling2D((2, 2)))\n",
        "\n",
        "# Layer 4- connect all nodes with dense layer\n",
        "model_l1.add(Flatten())\n",
        "model_l1.add(Dense(64,\n",
        "                    activation='relu',\n",
        "                    kernel_regularizer=regularizers.l1(0.005)))\n",
        "\n",
        "# Output Layer- softmax activiation for multi-categorical with 10 classes\n",
        "model_l1.add(Dense(10, activation='softmax'))\n",
        "\n",
        "#Compile the sequential CNN model- adam optimizer,\n",
        "# categorical_crossentropy loss, and set our metric to accuracy\n",
        "model_l1.compile(optimizer='adam',\n",
        "                       loss='categorical_crossentropy',\n",
        "                       metrics=['accuracy'])\n",
        "\n",
        "# print model summary\n",
        "model_l1.summary()"
      ]
    },
    {
      "cell_type": "code",
      "execution_count": null,
      "metadata": {
        "id": "THU1ZdHMAzF7",
        "outputId": "69c2f0c8-f9b8-492f-dcec-dfee4ef5b093"
      },
      "outputs": [
        {
          "name": "stdout",
          "output_type": "stream",
          "text": [
            "Epoch 1/20\n",
            "148/148 [==============================] - 442s 3s/step - loss: 13.5989 - accuracy: 0.1928 - val_loss: 7.3832 - val_accuracy: 0.2019\n",
            "Epoch 2/20\n",
            "148/148 [==============================] - 432s 3s/step - loss: 7.1454 - accuracy: 0.2334 - val_loss: 6.8890 - val_accuracy: 0.2422\n",
            "Epoch 3/20\n",
            "148/148 [==============================] - 433s 3s/step - loss: 6.8911 - accuracy: 0.2394 - val_loss: 6.7559 - val_accuracy: 0.2585\n",
            "Epoch 4/20\n",
            "148/148 [==============================] - 440s 3s/step - loss: 6.7881 - accuracy: 0.2473 - val_loss: 6.7858 - val_accuracy: 0.2333\n",
            "Epoch 5/20\n",
            "148/148 [==============================] - 426s 3s/step - loss: 6.7365 - accuracy: 0.2517 - val_loss: 6.7388 - val_accuracy: 0.2959\n",
            "Epoch 6/20\n",
            "148/148 [==============================] - 431s 3s/step - loss: 6.7060 - accuracy: 0.2513 - val_loss: 6.6780 - val_accuracy: 0.2541\n",
            "Epoch 7/20\n",
            "148/148 [==============================] - 428s 3s/step - loss: 6.6548 - accuracy: 0.2603 - val_loss: 6.6618 - val_accuracy: 0.2311\n",
            "Epoch 8/20\n",
            "148/148 [==============================] - 427s 3s/step - loss: 6.6269 - accuracy: 0.2657 - val_loss: 6.5992 - val_accuracy: 0.2730\n",
            "Epoch 9/20\n",
            "148/148 [==============================] - 429s 3s/step - loss: 6.6214 - accuracy: 0.2676 - val_loss: 6.5711 - val_accuracy: 0.2615\n",
            "Epoch 10/20\n",
            "148/148 [==============================] - 431s 3s/step - loss: 6.5939 - accuracy: 0.2741 - val_loss: 6.7074 - val_accuracy: 0.2441\n",
            "Epoch 11/20\n",
            "148/148 [==============================] - 428s 3s/step - loss: 6.5794 - accuracy: 0.2789 - val_loss: 6.5057 - val_accuracy: 0.2648\n",
            "Epoch 12/20\n",
            "148/148 [==============================] - 436s 3s/step - loss: 6.5395 - accuracy: 0.2841 - val_loss: 6.5433 - val_accuracy: 0.3022\n",
            "Epoch 13/20\n",
            "148/148 [==============================] - 437s 3s/step - loss: 6.5210 - accuracy: 0.2904 - val_loss: 6.6076 - val_accuracy: 0.2556\n",
            "Epoch 00013: early stopping\n"
          ]
        }
      ],
      "source": [
        "# Define Stopping Criteria\n",
        "valcallback = EarlyStopping(monitor='val_loss', mode='min', verbose = 1, patience = 2)\n",
        "\n",
        "\n",
        "# Fit the model\n",
        "model_l1_history = model_l1.fit(train_generator,\n",
        "                                  epochs= 20,\n",
        "                                  validation_data = val_generator,\n",
        "                                  callbacks= valcallback,\n",
        "                                  batch_size=128,\n",
        "                                  verbose = 1)"
      ]
    },
    {
      "cell_type": "code",
      "execution_count": null,
      "metadata": {
        "id": "rAPsNJOuAzF7",
        "outputId": "10a66788-32c8-4dd8-a81a-65b58b9ff0ff"
      },
      "outputs": [
        {
          "name": "stdout",
          "output_type": "stream",
          "text": [
            "43/43 [==============================] - 33s 768ms/step - loss: 6.5977 - accuracy: 0.2669\n",
            "Test loss:  6.597667217254639\n",
            "Test accuracy:  0.26685184240341187\n"
          ]
        }
      ],
      "source": [
        "#Check loss and accuracy on test data\n",
        "test_loss, test_acc = model_l1.evaluate(test_generator, verbose = 1)\n",
        "\n",
        "print('Test loss: ', test_loss)\n",
        "print('Test accuracy: ', test_acc)"
      ]
    },
    {
      "cell_type": "markdown",
      "metadata": {
        "id": "ISi0rFcNC5nn"
      },
      "source": [
        "This model could be better if it didn't stop training early, but still after 13 epochs it is only 25.5% validation accuracy."
      ]
    },
    {
      "cell_type": "markdown",
      "metadata": {
        "id": "9bVIxnMTAzF7"
      },
      "source": [
        "#### Model 3- L2 Regularization"
      ]
    },
    {
      "cell_type": "code",
      "execution_count": null,
      "metadata": {
        "id": "fgTlZQhOAzF7",
        "outputId": "6bab477a-8fa0-433c-cdcb-26a417b4604a"
      },
      "outputs": [
        {
          "name": "stdout",
          "output_type": "stream",
          "text": [
            "Model: \"sequential_12\"\n",
            "_________________________________________________________________\n",
            "Layer (type)                 Output Shape              Param #   \n",
            "=================================================================\n",
            "conv2d_13 (Conv2D)           (None, 254, 254, 32)      896       \n",
            "_________________________________________________________________\n",
            "max_pooling2d_11 (MaxPooling (None, 127, 127, 32)      0         \n",
            "_________________________________________________________________\n",
            "conv2d_14 (Conv2D)           (None, 125, 125, 32)      9248      \n",
            "_________________________________________________________________\n",
            "max_pooling2d_12 (MaxPooling (None, 62, 62, 32)        0         \n",
            "_________________________________________________________________\n",
            "flatten_10 (Flatten)         (None, 123008)            0         \n",
            "_________________________________________________________________\n",
            "dense_20 (Dense)             (None, 64)                7872576   \n",
            "_________________________________________________________________\n",
            "dense_21 (Dense)             (None, 10)                650       \n",
            "=================================================================\n",
            "Total params: 7,883,370\n",
            "Trainable params: 7,883,370\n",
            "Non-trainable params: 0\n",
            "_________________________________________________________________\n"
          ]
        }
      ],
      "source": [
        "#Instantiate a Sequential model\n",
        "model_l2 = Sequential()\n",
        "\n",
        "\n",
        "# Input Layer- Convolution\n",
        "model_l2.add(Conv2D(filters=32,\n",
        "                          kernel_size=(3, 3),\n",
        "                          activation='relu',\n",
        "                          input_shape= (256, 256, 3),\n",
        "                     kernel_regularizer=regularizers.l2(0.005)))\n",
        "\n",
        "\n",
        "# Layer 1- max pool in 2x2 window\n",
        "model_l2.add(MaxPooling2D(pool_size=(2, 2)))\n",
        "\n",
        "# Layer 2- another convolution layer\n",
        "model_l2.add(layers.Conv2D(32, (3, 3),\n",
        "                            activation='relu',\n",
        "                            kernel_regularizer=regularizers.l2(0.005)))\n",
        "\n",
        "# Layer 3- another max pool layer\n",
        "model_l2.add(layers.MaxPooling2D((2, 2)))\n",
        "\n",
        "# Layer 4- connect all nodes with dense layer\n",
        "model_l2.add(Flatten())\n",
        "model_l2.add(Dense(64,\n",
        "                    activation='relu',\n",
        "                    kernel_regularizer=regularizers.l2(0.005)))\n",
        "\n",
        "# Output Layer- softmax activiation for multi-categorical with 10 classes\n",
        "model_l2.add(Dense(10, activation='softmax'))\n",
        "\n",
        "#Compile the sequential CNN model- adam optimizer,\n",
        "# categorical_crossentropy loss, and set our metric to accuracy\n",
        "model_l2.compile(optimizer='adam',\n",
        "                       loss='categorical_crossentropy',\n",
        "                       metrics=['accuracy'])\n",
        "\n",
        "# print model summary\n",
        "model_l2.summary()"
      ]
    },
    {
      "cell_type": "code",
      "execution_count": null,
      "metadata": {
        "id": "HSZCxTV1AzF8",
        "outputId": "07979bac-6e35-4474-ad42-1fdda1e8d43d"
      },
      "outputs": [
        {
          "name": "stdout",
          "output_type": "stream",
          "text": [
            "Epoch 1/20\n",
            "148/148 [==============================] - 432s 3s/step - loss: 2.1379 - accuracy: 0.3422 - val_loss: 1.9591 - val_accuracy: 0.3393\n",
            "Epoch 2/20\n",
            "148/148 [==============================] - 430s 3s/step - loss: 1.6320 - accuracy: 0.4792 - val_loss: 1.5435 - val_accuracy: 0.4852\n",
            "Epoch 3/20\n",
            "148/148 [==============================] - 430s 3s/step - loss: 1.4293 - accuracy: 0.5686 - val_loss: 1.3838 - val_accuracy: 0.5859\n",
            "Epoch 4/20\n",
            "148/148 [==============================] - 431s 3s/step - loss: 1.3499 - accuracy: 0.5898 - val_loss: 1.3529 - val_accuracy: 0.5700\n",
            "Epoch 5/20\n",
            "148/148 [==============================] - 437s 3s/step - loss: 1.2759 - accuracy: 0.6182 - val_loss: 1.2808 - val_accuracy: 0.6100\n",
            "Epoch 6/20\n",
            "148/148 [==============================] - 430s 3s/step - loss: 1.2131 - accuracy: 0.6368 - val_loss: 1.1424 - val_accuracy: 0.6789\n",
            "Epoch 7/20\n",
            "148/148 [==============================] - 429s 3s/step - loss: 1.1644 - accuracy: 0.6528 - val_loss: 1.1429 - val_accuracy: 0.6578\n",
            "Epoch 8/20\n",
            "148/148 [==============================] - 432s 3s/step - loss: 1.1263 - accuracy: 0.6613 - val_loss: 1.1465 - val_accuracy: 0.6585\n",
            "Epoch 00008: early stopping\n"
          ]
        }
      ],
      "source": [
        "# Define Stopping Criteria\n",
        "valcallback = EarlyStopping(monitor='val_loss', mode='min', verbose = 1, patience = 2)\n",
        "\n",
        "\n",
        "# Fit the model\n",
        "model_l2_history = model_l2.fit(train_generator,\n",
        "                                  epochs= 20,\n",
        "                                  validation_data = val_generator,\n",
        "                                  callbacks= valcallback,\n",
        "                                  batch_size=128,\n",
        "                                  verbose = 1)"
      ]
    },
    {
      "cell_type": "code",
      "execution_count": null,
      "metadata": {
        "id": "TGslLDKFAzF8",
        "outputId": "d161add8-e0b2-459d-a715-d2179f587ac2"
      },
      "outputs": [
        {
          "name": "stdout",
          "output_type": "stream",
          "text": [
            "43/43 [==============================] - 35s 806ms/step - loss: 1.1507 - accuracy: 0.6563\n",
            "Test loss:  1.150733232498169\n",
            "Test accuracy:  0.6562963128089905\n"
          ]
        }
      ],
      "source": [
        "#Check loss and accuracy on test data\n",
        "test_loss, test_acc = model_l2.evaluate(test_generator, verbose = 1)\n",
        "\n",
        "print('Test loss: ', test_loss)\n",
        "print('Test accuracy: ', test_acc)"
      ]
    },
    {
      "cell_type": "markdown",
      "metadata": {
        "id": "nrxXddJ0C5no"
      },
      "source": [
        "Compared to L1 regularization, L2 regularization worked much better on overfitting and even gave us a higher validation (65.85%) and test (65.6%) accuracy after only 8 epochs."
      ]
    },
    {
      "cell_type": "markdown",
      "metadata": {
        "id": "LKZ_oj7EAzF8"
      },
      "source": [
        "#### Model 4- Dropout Regularization"
      ]
    },
    {
      "cell_type": "code",
      "execution_count": null,
      "metadata": {
        "id": "phuuEiQLAzF8",
        "outputId": "d6bc0f1d-30a8-47be-cba7-3b4dc7eca3a9"
      },
      "outputs": [
        {
          "name": "stdout",
          "output_type": "stream",
          "text": [
            "Model: \"sequential_16\"\n",
            "_________________________________________________________________\n",
            "Layer (type)                 Output Shape              Param #   \n",
            "=================================================================\n",
            "dropout_10 (Dropout)         (None, 256, 256, 3)       0         \n",
            "_________________________________________________________________\n",
            "conv2d_19 (Conv2D)           (None, 254, 254, 32)      896       \n",
            "_________________________________________________________________\n",
            "max_pooling2d_17 (MaxPooling (None, 127, 127, 32)      0         \n",
            "_________________________________________________________________\n",
            "dropout_11 (Dropout)         (None, 127, 127, 32)      0         \n",
            "_________________________________________________________________\n",
            "conv2d_20 (Conv2D)           (None, 125, 125, 32)      9248      \n",
            "_________________________________________________________________\n",
            "max_pooling2d_18 (MaxPooling (None, 62, 62, 32)        0         \n",
            "_________________________________________________________________\n",
            "dropout_12 (Dropout)         (None, 62, 62, 32)        0         \n",
            "_________________________________________________________________\n",
            "flatten_14 (Flatten)         (None, 123008)            0         \n",
            "_________________________________________________________________\n",
            "dense_29 (Dense)             (None, 64)                7872576   \n",
            "_________________________________________________________________\n",
            "dropout_13 (Dropout)         (None, 64)                0         \n",
            "_________________________________________________________________\n",
            "dense_30 (Dense)             (None, 10)                650       \n",
            "=================================================================\n",
            "Total params: 7,883,370\n",
            "Trainable params: 7,883,370\n",
            "Non-trainable params: 0\n",
            "_________________________________________________________________\n"
          ]
        }
      ],
      "source": [
        "#Instantiate a Sequential model\n",
        "model_dropout = Sequential()\n",
        "\n",
        "\n",
        "# Input Layer- Dropout\n",
        "model_dropout.add(layers.Dropout(0.2, input_shape= (256, 256, 3)))\n",
        "\n",
        "#Convolution Layer\n",
        "model_dropout.add(Conv2D(filters=32,\n",
        "                          kernel_size=(3, 3),\n",
        "                          activation='relu'))\n",
        "\n",
        "# Layer 1- max pool in 2x2 window\n",
        "model_dropout.add(MaxPooling2D(pool_size=(2, 2)))\n",
        "\n",
        "model_dropout.add(layers.Dropout(0.2))\n",
        "\n",
        "# Layer 2- another convolution layer\n",
        "model_dropout.add(layers.Conv2D(32, (3, 3), activation='relu'))\n",
        "\n",
        "# Layer 3- another max pool layer\n",
        "model_dropout.add(layers.MaxPooling2D((2, 2)))\n",
        "\n",
        "model_dropout.add(layers.Dropout(0.2))\n",
        "\n",
        "# Layer 4- connect all nodes with dense layer\n",
        "model_dropout.add(Flatten())\n",
        "model_dropout.add(Dense(64, activation='relu'))\n",
        "\n",
        "model_dropout.add(layers.Dropout(0.2))\n",
        "\n",
        "# Output Layer- softmax activiation for multi-categorical with 10 classes\n",
        "model_dropout.add(Dense(10, activation='softmax'))\n",
        "\n",
        "#Compile the sequential CNN model- adam optimizer,\n",
        "# categorical_crossentropy loss, and set our metric to accuracy\n",
        "model_dropout.compile(optimizer='adam',\n",
        "                       loss='categorical_crossentropy',\n",
        "                       metrics=['accuracy'])\n",
        "\n",
        "# print model summary\n",
        "model_dropout.summary()"
      ]
    },
    {
      "cell_type": "code",
      "execution_count": null,
      "metadata": {
        "id": "soMD5CkSAzF8",
        "outputId": "6f9eaf3e-7cab-4ecf-8d18-afc423d7eba3"
      },
      "outputs": [
        {
          "name": "stdout",
          "output_type": "stream",
          "text": [
            "Epoch 1/20\n",
            "148/148 [==============================] - 517s 3s/step - loss: 2.4970 - accuracy: 0.1553 - val_loss: 2.1980 - val_accuracy: 0.1674\n",
            "Epoch 2/20\n",
            "148/148 [==============================] - 514s 3s/step - loss: 1.9059 - accuracy: 0.2441 - val_loss: 2.0253 - val_accuracy: 0.2404\n",
            "Epoch 3/20\n",
            "148/148 [==============================] - 513s 3s/step - loss: 1.7884 - accuracy: 0.2856 - val_loss: 1.8434 - val_accuracy: 0.3511\n",
            "Epoch 4/20\n",
            "148/148 [==============================] - 514s 3s/step - loss: 1.7333 - accuracy: 0.3106 - val_loss: 1.7482 - val_accuracy: 0.3663\n",
            "Epoch 5/20\n",
            "148/148 [==============================] - 512s 3s/step - loss: 1.6867 - accuracy: 0.3358 - val_loss: 1.7402 - val_accuracy: 0.3463\n",
            "Epoch 6/20\n",
            "148/148 [==============================] - 513s 3s/step - loss: 1.6566 - accuracy: 0.3614 - val_loss: 1.6861 - val_accuracy: 0.3889\n",
            "Epoch 7/20\n",
            "148/148 [==============================] - 519s 4s/step - loss: 1.5778 - accuracy: 0.4080 - val_loss: 1.8090 - val_accuracy: 0.3348\n",
            "Epoch 8/20\n",
            "148/148 [==============================] - 512s 3s/step - loss: 1.5274 - accuracy: 0.4299 - val_loss: 1.7019 - val_accuracy: 0.3752\n",
            "Epoch 00008: early stopping\n"
          ]
        }
      ],
      "source": [
        "# Define Stopping Criteria\n",
        "valcallback = EarlyStopping(monitor='val_loss', mode='min', verbose = 1, patience = 2)\n",
        "\n",
        "\n",
        "# Fit the model\n",
        "model_dropout_history = model_dropout.fit(train_generator,\n",
        "                                  epochs= 20,\n",
        "                                  validation_data = val_generator,\n",
        "                                  callbacks= valcallback,\n",
        "                                  batch_size=128,\n",
        "                                  verbose = 1)"
      ]
    },
    {
      "cell_type": "code",
      "execution_count": null,
      "metadata": {
        "id": "HEP2QxsmAzF9",
        "outputId": "d1b03292-bb82-441b-c09d-c35e9e7e46ef"
      },
      "outputs": [
        {
          "name": "stdout",
          "output_type": "stream",
          "text": [
            "43/43 [==============================] - 33s 774ms/step - loss: 1.7064 - accuracy: 0.3637\n",
            "Test loss:  1.7064480781555176\n",
            "Test accuracy:  0.3637036979198456\n"
          ]
        }
      ],
      "source": [
        "#Check loss and accuracy on test data\n",
        "test_loss, test_acc = model_dropout.evaluate(test_generator, verbose = 1)\n",
        "\n",
        "print('Test loss: ', test_loss)\n",
        "print('Test accuracy: ', test_acc)"
      ]
    },
    {
      "cell_type": "markdown",
      "metadata": {
        "id": "Y0WBYcvTAzF9"
      },
      "source": [
        "Dropout seemed to work the second best (36.7% Test accuracy), but also stopped after 8 Epochs."
      ]
    },
    {
      "cell_type": "markdown",
      "metadata": {
        "id": "PNMP0TFiAzF9"
      },
      "source": [
        "#### Model 5- Dropout and L2 Regularization"
      ]
    },
    {
      "cell_type": "markdown",
      "metadata": {
        "id": "o5avaDj2C5no"
      },
      "source": [
        "Droput and L2 were the better two regularization techniques; let's see what happens when we use them together."
      ]
    },
    {
      "cell_type": "code",
      "execution_count": null,
      "metadata": {
        "id": "nZuooflMAzF9",
        "outputId": "1d375878-a12b-441c-e3da-1438c685cef3"
      },
      "outputs": [
        {
          "name": "stdout",
          "output_type": "stream",
          "text": [
            "Model: \"sequential_17\"\n",
            "_________________________________________________________________\n",
            "Layer (type)                 Output Shape              Param #   \n",
            "=================================================================\n",
            "conv2d_21 (Conv2D)           (None, 254, 254, 32)      896       \n",
            "_________________________________________________________________\n",
            "max_pooling2d_19 (MaxPooling (None, 127, 127, 32)      0         \n",
            "_________________________________________________________________\n",
            "dropout_14 (Dropout)         (None, 127, 127, 32)      0         \n",
            "_________________________________________________________________\n",
            "conv2d_22 (Conv2D)           (None, 125, 125, 32)      9248      \n",
            "_________________________________________________________________\n",
            "max_pooling2d_20 (MaxPooling (None, 62, 62, 32)        0         \n",
            "_________________________________________________________________\n",
            "dropout_15 (Dropout)         (None, 62, 62, 32)        0         \n",
            "_________________________________________________________________\n",
            "flatten_15 (Flatten)         (None, 123008)            0         \n",
            "_________________________________________________________________\n",
            "dense_31 (Dense)             (None, 32)                3936288   \n",
            "_________________________________________________________________\n",
            "dense_32 (Dense)             (None, 64)                2112      \n",
            "_________________________________________________________________\n",
            "dense_33 (Dense)             (None, 10)                650       \n",
            "=================================================================\n",
            "Total params: 3,949,194\n",
            "Trainable params: 3,949,194\n",
            "Non-trainable params: 0\n",
            "_________________________________________________________________\n"
          ]
        }
      ],
      "source": [
        "#Instantiate a Sequential model\n",
        "model_five = Sequential()\n",
        "\n",
        "# Input Layer- Convolution\n",
        "model_five.add(Conv2D(filters=32,\n",
        "                          kernel_size=(3, 3),\n",
        "                          activation='relu',\n",
        "                          input_shape= (256, 256, 3),\n",
        "                     kernel_regularizer=regularizers.l2(0.005)))\n",
        "\n",
        "# Layer 1- max pool in 2x2 window\n",
        "model_five.add(MaxPooling2D(pool_size=(2, 2)))\n",
        "model_five.add(layers.Dropout(0.2))\n",
        "\n",
        "# Layer 2- another convolution layer\n",
        "model_five.add(layers.Conv2D(32, (3, 3), activation='relu', kernel_regularizer=regularizers.l2(0.005)))\n",
        "\n",
        "# Layer 3- another max pool layer\n",
        "model_five.add(layers.MaxPooling2D((2, 2)))\n",
        "model_five.add(layers.Dropout(0.2))\n",
        "\n",
        "# Layer 4- connect all nodes with dense layer\n",
        "model_five.add(Flatten())\n",
        "model_five.add(Dense(32, activation='relu', kernel_regularizer=regularizers.l2(0.005)))\n",
        "\n",
        "#Layer 5\n",
        "model_five.add(Dense(64, activation='relu', kernel_regularizer=regularizers.l2(0.005)))\n",
        "\n",
        "# Output Layer- softmax activiation for multi-categorical with 10 classes\n",
        "model_five.add(Dense(10, activation='softmax'))\n",
        "\n",
        "#Compile the sequential CNN model- adam optimizer,\n",
        "# categorical_crossentropy loss, and set our metric to accuracy\n",
        "model_five.compile(optimizer='adam',\n",
        "                       loss='categorical_crossentropy',\n",
        "                       metrics=['accuracy'])\n",
        "\n",
        "# print model summary\n",
        "model_five.summary()"
      ]
    },
    {
      "cell_type": "code",
      "execution_count": null,
      "metadata": {
        "id": "WbUzRiT9AzF9",
        "outputId": "252d7e32-cbc4-475c-a28d-70589f062b61"
      },
      "outputs": [
        {
          "name": "stdout",
          "output_type": "stream",
          "text": [
            "Epoch 1/20\n",
            "148/148 [==============================] - 490s 3s/step - loss: 2.4675 - accuracy: 0.1976 - val_loss: 1.9717 - val_accuracy: 0.3196\n",
            "Epoch 2/20\n",
            "148/148 [==============================] - 490s 3s/step - loss: 1.8828 - accuracy: 0.3471 - val_loss: 1.7990 - val_accuracy: 0.3978\n",
            "Epoch 3/20\n",
            "148/148 [==============================] - 490s 3s/step - loss: 1.7338 - accuracy: 0.4206 - val_loss: 1.6767 - val_accuracy: 0.4407\n",
            "Epoch 4/20\n",
            "148/148 [==============================] - 491s 3s/step - loss: 1.6063 - accuracy: 0.4655 - val_loss: 1.5370 - val_accuracy: 0.5059\n",
            "Epoch 5/20\n",
            "148/148 [==============================] - 490s 3s/step - loss: 1.5095 - accuracy: 0.5031 - val_loss: 1.4821 - val_accuracy: 0.5026\n",
            "Epoch 6/20\n",
            "148/148 [==============================] - 502s 3s/step - loss: 1.4447 - accuracy: 0.5267 - val_loss: 1.4239 - val_accuracy: 0.5456\n",
            "Epoch 7/20\n",
            "148/148 [==============================] - 490s 3s/step - loss: 1.4236 - accuracy: 0.5341 - val_loss: 1.4637 - val_accuracy: 0.5156\n",
            "Epoch 8/20\n",
            "148/148 [==============================] - 490s 3s/step - loss: 1.3587 - accuracy: 0.5542 - val_loss: 1.4379 - val_accuracy: 0.5337\n",
            "Epoch 00008: early stopping\n"
          ]
        }
      ],
      "source": [
        "# Define Stopping Criteria\n",
        "valcallback = EarlyStopping(monitor='val_loss', mode='min', verbose = 1, patience = 2)\n",
        "\n",
        "\n",
        "# Fit the model\n",
        "model_five_history = model_five.fit(train_generator,\n",
        "                                  epochs= 20,\n",
        "                                  validation_data = val_generator,\n",
        "                                  callbacks= valcallback,\n",
        "                                  batch_size=128,\n",
        "                                  verbose = 1)"
      ]
    },
    {
      "cell_type": "code",
      "execution_count": null,
      "metadata": {
        "id": "AdrV3QuaAzF9",
        "outputId": "4d2955b5-8cd5-4afc-84fc-190e430b6d9f"
      },
      "outputs": [
        {
          "name": "stdout",
          "output_type": "stream",
          "text": [
            "43/43 [==============================] - 32s 754ms/step - loss: 1.4017 - accuracy: 0.5459\n",
            "Test loss:  1.4017235040664673\n",
            "Test accuracy:  0.5459259152412415\n"
          ]
        }
      ],
      "source": [
        "#Check loss and accuracy on test data\n",
        "test_loss, test_acc = model_five.evaluate(test_generator, verbose = 1)\n",
        "\n",
        "print('Test loss: ', test_loss)\n",
        "print('Test accuracy: ', test_acc)"
      ]
    },
    {
      "cell_type": "markdown",
      "metadata": {
        "id": "U09M-LGkC5no"
      },
      "source": [
        "Overfitting is very low on this model, but all these regularization techniques seem to lower our accuracy below our baseline model's accuracy."
      ]
    },
    {
      "cell_type": "markdown",
      "metadata": {
        "id": "tnc8jps8AzF-"
      },
      "source": [
        "### Model 6- Increasing initial Convolution Layer's Filter and Kernal size."
      ]
    },
    {
      "cell_type": "markdown",
      "metadata": {
        "id": "vt7XW51yAzF-"
      },
      "source": [
        "Let's try a restructure of our 2 Conv2d Layer model. Also we'll arrange our Dense layers by decreasing number of nodes."
      ]
    },
    {
      "cell_type": "code",
      "execution_count": null,
      "metadata": {
        "id": "QW6A4r8HAzF-",
        "outputId": "7affe412-da5d-4892-f2b7-fd8b364a7899"
      },
      "outputs": [
        {
          "name": "stdout",
          "output_type": "stream",
          "text": [
            "Model: \"sequential\"\n",
            "_________________________________________________________________\n",
            "Layer (type)                 Output Shape              Param #   \n",
            "=================================================================\n",
            "conv2d (Conv2D)              (None, 252, 252, 64)      4864      \n",
            "_________________________________________________________________\n",
            "max_pooling2d (MaxPooling2D) (None, 126, 126, 64)      0         \n",
            "_________________________________________________________________\n",
            "conv2d_1 (Conv2D)            (None, 124, 124, 32)      18464     \n",
            "_________________________________________________________________\n",
            "max_pooling2d_1 (MaxPooling2 (None, 62, 62, 32)        0         \n",
            "_________________________________________________________________\n",
            "flatten (Flatten)            (None, 123008)            0         \n",
            "_________________________________________________________________\n",
            "dense (Dense)                (None, 64)                7872576   \n",
            "_________________________________________________________________\n",
            "dense_1 (Dense)              (None, 32)                2080      \n",
            "_________________________________________________________________\n",
            "dense_2 (Dense)              (None, 10)                330       \n",
            "=================================================================\n",
            "Total params: 7,898,314\n",
            "Trainable params: 7,898,314\n",
            "Non-trainable params: 0\n",
            "_________________________________________________________________\n"
          ]
        }
      ],
      "source": [
        "#Instantiate a Sequential model\n",
        "model_six = Sequential()\n",
        "\n",
        "# Input Layer- Convolution\n",
        "model_six.add(Conv2D(filters=64,\n",
        "                          kernel_size=(5, 5),\n",
        "                          activation='relu',\n",
        "                          input_shape= (256, 256, 3)))\n",
        "\n",
        "# Layer 1- max pool in 2x2 window\n",
        "model_six.add(MaxPooling2D(pool_size=(2, 2)))\n",
        "\n",
        "# Layer 2- another convolution layer\n",
        "model_six.add(layers.Conv2D(32, (3, 3), activation='relu'))\n",
        "\n",
        "# Layer 3- another max pool layer\n",
        "model_six.add(layers.MaxPooling2D((2, 2)))\n",
        "\n",
        "# Layer 4- connect all nodes with dense layer\n",
        "model_six.add(Flatten())\n",
        "model_six.add(Dense(64, activation='relu'))\n",
        "\n",
        "#Layer 5\n",
        "model_six.add(Dense(32, activation='relu'))\n",
        "\n",
        "# Output Layer- softmax activiation for multi-categorical with 10 classes\n",
        "model_six.add(Dense(10, activation='softmax'))\n",
        "\n",
        "#Compile the sequential CNN model- adam optimizer,\n",
        "# categorical_crossentropy loss, and set our metric to accuracy\n",
        "model_six.compile(optimizer='adam',\n",
        "                       loss='categorical_crossentropy',\n",
        "                       metrics=['accuracy'])\n",
        "\n",
        "# print model summary\n",
        "model_six.summary()"
      ]
    },
    {
      "cell_type": "code",
      "execution_count": null,
      "metadata": {
        "id": "v-B_kyOaAzF-",
        "outputId": "1692e907-81ed-4ddb-e337-d7a4136efb29"
      },
      "outputs": [
        {
          "name": "stdout",
          "output_type": "stream",
          "text": [
            "Epoch 1/20\n",
            "148/148 [==============================] - 1051s 7s/step - loss: 2.0885 - accuracy: 0.2260 - val_loss: 1.8681 - val_accuracy: 0.2626\n",
            "Epoch 2/20\n",
            "148/148 [==============================] - 1014s 7s/step - loss: 1.7389 - accuracy: 0.3028 - val_loss: 1.6575 - val_accuracy: 0.3219\n",
            "Epoch 3/20\n",
            "148/148 [==============================] - 996s 7s/step - loss: 1.5863 - accuracy: 0.3687 - val_loss: 1.5469 - val_accuracy: 0.4181\n",
            "Epoch 4/20\n",
            "148/148 [==============================] - 974s 7s/step - loss: 1.5005 - accuracy: 0.4251 - val_loss: 1.4903 - val_accuracy: 0.4241\n",
            "Epoch 5/20\n",
            "148/148 [==============================] - 955s 6s/step - loss: 1.4163 - accuracy: 0.4676 - val_loss: 1.4474 - val_accuracy: 0.4526\n",
            "Epoch 6/20\n",
            "148/148 [==============================] - 957s 6s/step - loss: 1.3258 - accuracy: 0.5107 - val_loss: 1.4705 - val_accuracy: 0.4389\n",
            "Epoch 7/20\n",
            "148/148 [==============================] - 945s 6s/step - loss: 1.2367 - accuracy: 0.5442 - val_loss: 1.3537 - val_accuracy: 0.4919\n",
            "Epoch 8/20\n",
            "148/148 [==============================] - 963s 7s/step - loss: 1.1416 - accuracy: 0.5841 - val_loss: 1.3715 - val_accuracy: 0.5048\n",
            "Epoch 9/20\n",
            "148/148 [==============================] - 956s 6s/step - loss: 1.0401 - accuracy: 0.6261 - val_loss: 1.2836 - val_accuracy: 0.5393\n",
            "Epoch 10/20\n",
            "148/148 [==============================] - 949s 6s/step - loss: 0.9935 - accuracy: 0.6438 - val_loss: 1.3660 - val_accuracy: 0.5148\n",
            "Epoch 11/20\n",
            "148/148 [==============================] - 960s 6s/step - loss: 0.9111 - accuracy: 0.6721 - val_loss: 1.4051 - val_accuracy: 0.5300\n",
            "Epoch 00011: early stopping\n"
          ]
        }
      ],
      "source": [
        "# Define Stopping Criteria\n",
        "valcallback = EarlyStopping(monitor='val_loss', mode='min', verbose = 1, patience = 2)\n",
        "\n",
        "\n",
        "# Fit the model\n",
        "model_six_history = model_six.fit(train_generator,\n",
        "                                  epochs= 20,\n",
        "                                  validation_data = val_generator,\n",
        "                                  callbacks= valcallback,\n",
        "                                  batch_size=128,\n",
        "                                  verbose = 1)"
      ]
    },
    {
      "cell_type": "code",
      "execution_count": null,
      "metadata": {
        "id": "taXwk4xNAzF-",
        "outputId": "7b2addba-80c5-4686-ed5a-04378cf57d4e"
      },
      "outputs": [
        {
          "name": "stdout",
          "output_type": "stream",
          "text": [
            "43/43 [==============================] - 59s 1s/step - loss: 1.3475 - accuracy: 0.5319\n",
            "Test loss:  1.3474699258804321\n",
            "Test accuracy:  0.5318518280982971\n"
          ]
        }
      ],
      "source": [
        "#Check loss and accuracy on test data\n",
        "test_loss, test_acc = model_six.evaluate(test_generator, verbose = 1)\n",
        "\n",
        "print('Test loss: ', test_loss)\n",
        "print('Test accuracy: ', test_acc)"
      ]
    },
    {
      "cell_type": "markdown",
      "metadata": {
        "id": "h8YBxfCnAzF-"
      },
      "source": [
        "Changing our Conv2D layer's kernal size and the number of filters seem to negatively affect our accuracy. We will go back to our 32 filters and (3,3) kernal next."
      ]
    },
    {
      "cell_type": "markdown",
      "metadata": {
        "id": "oWLDU44_AzF-"
      },
      "source": [
        "### Model 7- Add Dense(128) Layer"
      ]
    },
    {
      "cell_type": "code",
      "execution_count": null,
      "metadata": {
        "id": "3T2C5Go9AzF_",
        "outputId": "370250be-a404-4188-c8b3-47af16996c0e"
      },
      "outputs": [
        {
          "name": "stdout",
          "output_type": "stream",
          "text": [
            "Model: \"sequential_1\"\n",
            "_________________________________________________________________\n",
            "Layer (type)                 Output Shape              Param #   \n",
            "=================================================================\n",
            "conv2d_2 (Conv2D)            (None, 254, 254, 32)      896       \n",
            "_________________________________________________________________\n",
            "max_pooling2d_2 (MaxPooling2 (None, 127, 127, 32)      0         \n",
            "_________________________________________________________________\n",
            "conv2d_3 (Conv2D)            (None, 125, 125, 32)      9248      \n",
            "_________________________________________________________________\n",
            "max_pooling2d_3 (MaxPooling2 (None, 62, 62, 32)        0         \n",
            "_________________________________________________________________\n",
            "flatten_1 (Flatten)          (None, 123008)            0         \n",
            "_________________________________________________________________\n",
            "dense_3 (Dense)              (None, 128)               15745152  \n",
            "_________________________________________________________________\n",
            "dense_4 (Dense)              (None, 64)                8256      \n",
            "_________________________________________________________________\n",
            "dense_5 (Dense)              (None, 32)                2080      \n",
            "_________________________________________________________________\n",
            "dense_6 (Dense)              (None, 10)                330       \n",
            "=================================================================\n",
            "Total params: 15,765,962\n",
            "Trainable params: 15,765,962\n",
            "Non-trainable params: 0\n",
            "_________________________________________________________________\n"
          ]
        }
      ],
      "source": [
        "#Instantiate a Sequential model\n",
        "model_seven = Sequential()\n",
        "\n",
        "# Input Layer- Convolution\n",
        "model_seven.add(Conv2D(filters=32,\n",
        "                          kernel_size=(3, 3),\n",
        "                          activation='relu',\n",
        "                          input_shape= (256, 256, 3)))\n",
        "\n",
        "# Layer 1- max pool in 2x2 window\n",
        "model_seven.add(MaxPooling2D(pool_size=(2, 2)))\n",
        "\n",
        "# Layer 2- another convolution layer\n",
        "model_seven.add(layers.Conv2D(32, (3, 3), activation='relu'))\n",
        "\n",
        "# Layer 3- another max pool layer\n",
        "model_seven.add(layers.MaxPooling2D((2, 2)))\n",
        "\n",
        "# Layer 4- connect all nodes with dense layer\n",
        "model_seven.add(Flatten())\n",
        "model_seven.add(Dense(128, activation='relu'))\n",
        "\n",
        "# Layer 5- dense layer\n",
        "model_seven.add(Dense(64, activation='relu'))\n",
        "\n",
        "# Layer 6- dense layer\n",
        "model_seven.add(Dense(32, activation='relu'))\n",
        "\n",
        "# Output Layer- softmax activiation for multi-categorical with 10 classes\n",
        "model_seven.add(Dense(10, activation='softmax'))\n",
        "\n",
        "#Compile the sequential CNN model- adam optimizer,\n",
        "# categorical_crossentropy loss, and set our metric to accuracy\n",
        "model_seven.compile(optimizer='adam',\n",
        "                       loss='categorical_crossentropy',\n",
        "                       metrics=['accuracy'])\n",
        "\n",
        "# print model summary\n",
        "model_seven.summary()"
      ]
    },
    {
      "cell_type": "code",
      "execution_count": null,
      "metadata": {
        "id": "bnA0ed59AzF_",
        "outputId": "9ec7e7ae-8432-4fe4-f60a-b4a3a878369f"
      },
      "outputs": [
        {
          "name": "stdout",
          "output_type": "stream",
          "text": [
            "Epoch 1/20\n",
            "148/148 [==============================] - 431s 3s/step - loss: 1.7042 - accuracy: 0.3772 - val_loss: 1.3390 - val_accuracy: 0.5141\n",
            "Epoch 2/20\n",
            "148/148 [==============================] - 429s 3s/step - loss: 1.2923 - accuracy: 0.5213 - val_loss: 1.2157 - val_accuracy: 0.5633\n",
            "Epoch 3/20\n",
            "148/148 [==============================] - 429s 3s/step - loss: 1.1309 - accuracy: 0.5794 - val_loss: 1.1131 - val_accuracy: 0.5915\n",
            "Epoch 4/20\n",
            "148/148 [==============================] - 427s 3s/step - loss: 1.0286 - accuracy: 0.6232 - val_loss: 1.0793 - val_accuracy: 0.6115\n",
            "Epoch 5/20\n",
            "148/148 [==============================] - 429s 3s/step - loss: 0.9325 - accuracy: 0.6661 - val_loss: 0.9119 - val_accuracy: 0.6815\n",
            "Epoch 6/20\n",
            "148/148 [==============================] - 429s 3s/step - loss: 0.7214 - accuracy: 0.7420 - val_loss: 0.7592 - val_accuracy: 0.7244\n",
            "Epoch 7/20\n",
            "148/148 [==============================] - 433s 3s/step - loss: 0.5805 - accuracy: 0.7905 - val_loss: 0.7856 - val_accuracy: 0.7289\n",
            "Epoch 8/20\n",
            "148/148 [==============================] - 429s 3s/step - loss: 0.4392 - accuracy: 0.8489 - val_loss: 0.7429 - val_accuracy: 0.7504\n",
            "Epoch 9/20\n",
            "148/148 [==============================] - 429s 3s/step - loss: 0.3402 - accuracy: 0.8849 - val_loss: 0.8058 - val_accuracy: 0.7430\n",
            "Epoch 10/20\n",
            "148/148 [==============================] - 431s 3s/step - loss: 0.2509 - accuracy: 0.9196 - val_loss: 0.7860 - val_accuracy: 0.7596\n",
            "Epoch 00010: early stopping\n"
          ]
        }
      ],
      "source": [
        "# Define Stopping Criteria\n",
        "valcallback = EarlyStopping(monitor='val_loss', mode='min', verbose = 1, patience = 2)\n",
        "\n",
        "\n",
        "# Fit the model\n",
        "model_seven_history = model_seven.fit(train_generator,\n",
        "                                  epochs= 20,\n",
        "                                  validation_data = val_generator,\n",
        "                                  callbacks= valcallback,\n",
        "                                  batch_size=128,\n",
        "                                  verbose = 1)"
      ]
    },
    {
      "cell_type": "code",
      "execution_count": null,
      "metadata": {
        "id": "OZasdjbdAzF_",
        "outputId": "c8a061e0-de8b-478a-9e5a-6be2cd6503e1"
      },
      "outputs": [
        {
          "name": "stdout",
          "output_type": "stream",
          "text": [
            "43/43 [==============================] - 33s 758ms/step - loss: 0.7563 - accuracy: 0.7769\n",
            "Test loss:  0.7563361525535583\n",
            "Test accuracy:  0.7768518328666687\n"
          ]
        }
      ],
      "source": [
        "#Check loss and accuracy on test data\n",
        "test_loss, test_acc = model_seven.evaluate(test_generator, verbose = 1)\n",
        "\n",
        "print('Test loss: ', test_loss)\n",
        "print('Test accuracy: ', test_acc)"
      ]
    },
    {
      "cell_type": "markdown",
      "metadata": {
        "id": "oyMrfSq9AzGA"
      },
      "source": [
        "Adding an addtional dense layers gave us 77.7% Test accuracy, which is better than our baseline, but worse than our first iterative model."
      ]
    },
    {
      "cell_type": "markdown",
      "metadata": {
        "id": "Ja3QvzByAzGA"
      },
      "source": [
        "### Model 8- Deeper CNN"
      ]
    },
    {
      "cell_type": "markdown",
      "metadata": {
        "id": "PrjvgQJEAzGA"
      },
      "source": [
        "First, we'll deepen the model and add another Convolutional with Max Pooling Layer.  Also let's change our EarlyStopping callback to monitor validation accuracy instead of validation loss."
      ]
    },
    {
      "cell_type": "code",
      "execution_count": null,
      "metadata": {
        "id": "W03EaByCAzGA",
        "outputId": "df52b576-bd20-433b-ca0b-d31919b51a15"
      },
      "outputs": [
        {
          "name": "stdout",
          "output_type": "stream",
          "text": [
            "Model: \"sequential_3\"\n",
            "_________________________________________________________________\n",
            "Layer (type)                 Output Shape              Param #   \n",
            "=================================================================\n",
            "conv2d_3 (Conv2D)            (None, 254, 254, 32)      896       \n",
            "_________________________________________________________________\n",
            "max_pooling2d_3 (MaxPooling2 (None, 127, 127, 32)      0         \n",
            "_________________________________________________________________\n",
            "conv2d_4 (Conv2D)            (None, 125, 125, 32)      9248      \n",
            "_________________________________________________________________\n",
            "max_pooling2d_4 (MaxPooling2 (None, 62, 62, 32)        0         \n",
            "_________________________________________________________________\n",
            "conv2d_5 (Conv2D)            (None, 60, 60, 32)        9248      \n",
            "_________________________________________________________________\n",
            "max_pooling2d_5 (MaxPooling2 (None, 30, 30, 32)        0         \n",
            "_________________________________________________________________\n",
            "flatten_3 (Flatten)          (None, 28800)             0         \n",
            "_________________________________________________________________\n",
            "dense_7 (Dense)              (None, 64)                1843264   \n",
            "_________________________________________________________________\n",
            "dense_8 (Dense)              (None, 64)                4160      \n",
            "_________________________________________________________________\n",
            "dense_9 (Dense)              (None, 10)                650       \n",
            "=================================================================\n",
            "Total params: 1,867,466\n",
            "Trainable params: 1,867,466\n",
            "Non-trainable params: 0\n",
            "_________________________________________________________________\n"
          ]
        }
      ],
      "source": [
        "#Instantiate a Sequential model\n",
        "model_eight = Sequential()\n",
        "\n",
        "\n",
        "# Input Layer- Convolution\n",
        "model_eight.add(Conv2D(filters=32,\n",
        "                          kernel_size=(3, 3),\n",
        "                          activation='relu',\n",
        "                          input_shape= (256, 256, 3)))\n",
        "\n",
        "\n",
        "# Layer 1- max pool in 2x2 window\n",
        "model_eight.add(MaxPooling2D(pool_size=(2, 2)))\n",
        "\n",
        "# Layer 2- another convolution layer\n",
        "model_eight.add(layers.Conv2D(32, (3, 3), activation='relu'))\n",
        "\n",
        "# Layer 3- another max pool layer\n",
        "model_eight.add(layers.MaxPooling2D((2, 2)))\n",
        "\n",
        "# Layer 4- another convolution layer\n",
        "model_eight.add(layers.Conv2D(32, (3, 3), activation='relu'))\n",
        "\n",
        "# Layer 5- another max pool layer\n",
        "model_eight.add(layers.MaxPooling2D((2, 2)))\n",
        "\n",
        "# Layer 6- connect all nodes with dense layer\n",
        "model_eight.add(Flatten())\n",
        "model_eight.add(Dense(64, activation='relu'))\n",
        "\n",
        "# Layer 7- dense layer\n",
        "model_eight.add(Dense(64, activation='relu'))\n",
        "\n",
        "# Output Layer- softmax activiation for multi-categorical with 10 classes\n",
        "model_eight.add(Dense(10, activation='softmax'))\n",
        "\n",
        "#Compile the sequential CNN model- adam optimizer,\n",
        "# categorical_crossentropy loss, and set our metric to accuracy\n",
        "model_eight.compile(optimizer='adam',\n",
        "                       loss='categorical_crossentropy',\n",
        "                       metrics=['accuracy'])\n",
        "\n",
        "# print model summary\n",
        "model_eight.summary()"
      ]
    },
    {
      "cell_type": "code",
      "execution_count": null,
      "metadata": {
        "id": "N-_f1rzHAzGA",
        "outputId": "d7f2d6db-d4a8-46e2-fcdb-6b5e839ef4f5"
      },
      "outputs": [
        {
          "name": "stdout",
          "output_type": "stream",
          "text": [
            "Epoch 1/20\n",
            "148/148 [==============================] - 527s 4s/step - loss: 1.6420 - accuracy: 0.3805 - val_loss: 1.2893 - val_accuracy: 0.5274\n",
            "Epoch 2/20\n",
            "148/148 [==============================] - 574s 4s/step - loss: 1.1483 - accuracy: 0.5761 - val_loss: 1.0552 - val_accuracy: 0.6193\n",
            "Epoch 3/20\n",
            "148/148 [==============================] - 586s 4s/step - loss: 0.9700 - accuracy: 0.6397 - val_loss: 0.8785 - val_accuracy: 0.6837\n",
            "Epoch 4/20\n",
            "148/148 [==============================] - 501s 3s/step - loss: 0.7638 - accuracy: 0.7220 - val_loss: 0.8687 - val_accuracy: 0.6863\n",
            "Epoch 5/20\n",
            "148/148 [==============================] - 478s 3s/step - loss: 0.6472 - accuracy: 0.7644 - val_loss: 0.7288 - val_accuracy: 0.7363\n",
            "Epoch 6/20\n",
            "148/148 [==============================] - 568s 4s/step - loss: 0.5564 - accuracy: 0.7957 - val_loss: 0.6097 - val_accuracy: 0.7800\n",
            "Epoch 7/20\n",
            "148/148 [==============================] - 547s 4s/step - loss: 0.4814 - accuracy: 0.8262 - val_loss: 0.6907 - val_accuracy: 0.7600\n",
            "Epoch 8/20\n",
            "148/148 [==============================] - 508s 3s/step - loss: 0.4337 - accuracy: 0.8431 - val_loss: 0.5844 - val_accuracy: 0.7889\n",
            "Epoch 9/20\n",
            "148/148 [==============================] - 548s 4s/step - loss: 0.3971 - accuracy: 0.8590 - val_loss: 0.6085 - val_accuracy: 0.7859\n",
            "Epoch 10/20\n",
            "148/148 [==============================] - 503s 3s/step - loss: 0.3338 - accuracy: 0.8838 - val_loss: 0.6405 - val_accuracy: 0.7837\n",
            "Epoch 00010: early stopping\n"
          ]
        }
      ],
      "source": [
        "# Define Stopping Criteria\n",
        "valcallback = EarlyStopping(monitor='val_accuracy', mode='max', verbose = 1, patience = 2)\n",
        "\n",
        "\n",
        "# Fit the model\n",
        "model_eight_history = model_eight.fit(train_generator,\n",
        "                                  epochs= 20,\n",
        "                                  validation_data = val_generator,\n",
        "                                  callbacks= valcallback,\n",
        "                                  batch_size=128,\n",
        "                                  verbose = 1)"
      ]
    },
    {
      "cell_type": "code",
      "execution_count": null,
      "metadata": {
        "id": "wveApKWIAzGA",
        "outputId": "86ad5322-70a1-461a-9b22-527fc93059a3"
      },
      "outputs": [
        {
          "name": "stdout",
          "output_type": "stream",
          "text": [
            "43/43 [==============================] - 36s 846ms/step - loss: 0.6190 - accuracy: 0.7902\n",
            "Test loss:  0.619040846824646\n",
            "Test accuracy:  0.7901852130889893\n"
          ]
        }
      ],
      "source": [
        "#Check loss and accuracy on test data\n",
        "test_loss, test_acc = model_eight.evaluate(test_generator, verbose = 1)\n",
        "\n",
        "print('Test loss: ', test_loss)\n",
        "print('Test accuracy: ', test_acc)"
      ]
    },
    {
      "cell_type": "markdown",
      "metadata": {
        "id": "ZFe0NGR4C5nq"
      },
      "source": [
        "The deeper model gave us our best test accuracy yet at 79.0%, however we are still overfitting."
      ]
    },
    {
      "cell_type": "markdown",
      "metadata": {
        "id": "HZ8sT6SrAzGB"
      },
      "source": [
        "### Model 9- Deeper CNN with 0.5 Dropout"
      ]
    },
    {
      "cell_type": "markdown",
      "metadata": {
        "id": "l9iEv6d0AzGB"
      },
      "source": [
        "Adding two 0.5 Dropout Layers after two Dense layers to help address overfitting."
      ]
    },
    {
      "cell_type": "code",
      "execution_count": null,
      "metadata": {
        "id": "WYnaZOQ_AzGB",
        "outputId": "ce0f275a-7631-46af-bd0d-def4734becd3"
      },
      "outputs": [
        {
          "name": "stdout",
          "output_type": "stream",
          "text": [
            "Model: \"sequential_4\"\n",
            "_________________________________________________________________\n",
            "Layer (type)                 Output Shape              Param #   \n",
            "=================================================================\n",
            "conv2d_6 (Conv2D)            (None, 254, 254, 32)      896       \n",
            "_________________________________________________________________\n",
            "max_pooling2d_6 (MaxPooling2 (None, 127, 127, 32)      0         \n",
            "_________________________________________________________________\n",
            "conv2d_7 (Conv2D)            (None, 125, 125, 32)      9248      \n",
            "_________________________________________________________________\n",
            "max_pooling2d_7 (MaxPooling2 (None, 62, 62, 32)        0         \n",
            "_________________________________________________________________\n",
            "conv2d_8 (Conv2D)            (None, 60, 60, 32)        9248      \n",
            "_________________________________________________________________\n",
            "max_pooling2d_8 (MaxPooling2 (None, 30, 30, 32)        0         \n",
            "_________________________________________________________________\n",
            "flatten_4 (Flatten)          (None, 28800)             0         \n",
            "_________________________________________________________________\n",
            "dense_10 (Dense)             (None, 64)                1843264   \n",
            "_________________________________________________________________\n",
            "dropout (Dropout)            (None, 64)                0         \n",
            "_________________________________________________________________\n",
            "dense_11 (Dense)             (None, 32)                2080      \n",
            "_________________________________________________________________\n",
            "dropout_1 (Dropout)          (None, 32)                0         \n",
            "_________________________________________________________________\n",
            "dense_12 (Dense)             (None, 10)                330       \n",
            "=================================================================\n",
            "Total params: 1,865,066\n",
            "Trainable params: 1,865,066\n",
            "Non-trainable params: 0\n",
            "_________________________________________________________________\n"
          ]
        }
      ],
      "source": [
        "#Instantiate a Sequential model\n",
        "model_nine = Sequential()\n",
        "\n",
        "\n",
        "# Input Layer- Convolution\n",
        "model_nine.add(Conv2D(filters=32,\n",
        "                          kernel_size=(3, 3),\n",
        "                          activation='relu',\n",
        "                          input_shape= (256, 256, 3)))\n",
        "\n",
        "\n",
        "# Layer 1- max pool in 2x2 window\n",
        "model_nine.add(MaxPooling2D(pool_size=(2, 2)))\n",
        "\n",
        "# Layer 2- another convolution layer\n",
        "model_nine.add(layers.Conv2D(32, (3, 3), activation='relu'))\n",
        "\n",
        "# Layer 3- another max pool layer\n",
        "model_nine.add(layers.MaxPooling2D((2, 2)))\n",
        "\n",
        "# Layer 4- another convolution layer\n",
        "model_nine.add(layers.Conv2D(32, (3, 3), activation='relu'))\n",
        "\n",
        "# Layer 5- another max pool layer\n",
        "model_nine.add(layers.MaxPooling2D((2, 2)))\n",
        "\n",
        "# Layer 6- connect all nodes with dense layer\n",
        "model_nine.add(Flatten())\n",
        "model_nine.add(Dense(64, activation='relu'))\n",
        "model_nine.add(layers.Dropout(0.5))\n",
        "\n",
        "# Layer 7- dense layer\n",
        "model_nine.add(Dense(32, activation='relu'))\n",
        "model_nine.add(layers.Dropout(0.5))\n",
        "\n",
        "# Output Layer- softmax activiation for multi-categorical with 10 classes\n",
        "model_nine.add(Dense(10, activation='softmax'))\n",
        "\n",
        "#Compile the sequential CNN model- adam optimizer,\n",
        "# categorical_crossentropy loss, and set our metric to accuracy\n",
        "model_nine.compile(optimizer='adam',\n",
        "                       loss='categorical_crossentropy',\n",
        "                       metrics=['accuracy'])\n",
        "\n",
        "# print model summary\n",
        "model_nine.summary()"
      ]
    },
    {
      "cell_type": "code",
      "execution_count": null,
      "metadata": {
        "id": "EAHmuIuMAzGB",
        "outputId": "3e975c93-539d-4bd7-fd51-3be3a8a3474d"
      },
      "outputs": [
        {
          "name": "stdout",
          "output_type": "stream",
          "text": [
            "Epoch 1/20\n",
            "148/148 [==============================] - 515s 3s/step - loss: 2.0381 - accuracy: 0.2160 - val_loss: 1.6584 - val_accuracy: 0.3137\n",
            "Epoch 2/20\n",
            "148/148 [==============================] - 539s 4s/step - loss: 1.7128 - accuracy: 0.3208 - val_loss: 1.4542 - val_accuracy: 0.4937\n",
            "Epoch 3/20\n",
            "148/148 [==============================] - 482s 3s/step - loss: 1.5734 - accuracy: 0.3838 - val_loss: 1.3543 - val_accuracy: 0.5067\n",
            "Epoch 4/20\n",
            "148/148 [==============================] - 475s 3s/step - loss: 1.4843 - accuracy: 0.4311 - val_loss: 1.2336 - val_accuracy: 0.5541\n",
            "Epoch 5/20\n",
            "148/148 [==============================] - 475s 3s/step - loss: 1.4023 - accuracy: 0.4672 - val_loss: 1.1401 - val_accuracy: 0.5885\n",
            "Epoch 6/20\n",
            "148/148 [==============================] - 477s 3s/step - loss: 1.3401 - accuracy: 0.4953 - val_loss: 1.0915 - val_accuracy: 0.6515\n",
            "Epoch 7/20\n",
            "148/148 [==============================] - 538s 4s/step - loss: 1.2818 - accuracy: 0.5334 - val_loss: 1.0660 - val_accuracy: 0.6463\n",
            "Epoch 8/20\n",
            "148/148 [==============================] - 536s 4s/step - loss: 1.2300 - accuracy: 0.5551 - val_loss: 0.9922 - val_accuracy: 0.6741\n",
            "Epoch 9/20\n",
            "148/148 [==============================] - 503s 3s/step - loss: 1.1809 - accuracy: 0.5719 - val_loss: 0.9365 - val_accuracy: 0.6841\n",
            "Epoch 10/20\n",
            "148/148 [==============================] - 507s 3s/step - loss: 1.1222 - accuracy: 0.5968 - val_loss: 0.8946 - val_accuracy: 0.7174\n",
            "Epoch 11/20\n",
            "148/148 [==============================] - 554s 4s/step - loss: 1.0781 - accuracy: 0.6135 - val_loss: 0.9728 - val_accuracy: 0.6652\n",
            "Epoch 12/20\n",
            "148/148 [==============================] - 606s 4s/step - loss: 1.0273 - accuracy: 0.6298 - val_loss: 0.8342 - val_accuracy: 0.7185\n",
            "Epoch 13/20\n",
            "148/148 [==============================] - 572s 4s/step - loss: 0.9910 - accuracy: 0.6461 - val_loss: 0.8403 - val_accuracy: 0.7022\n",
            "Epoch 14/20\n",
            "148/148 [==============================] - 496s 3s/step - loss: 0.9381 - accuracy: 0.6638 - val_loss: 0.7685 - val_accuracy: 0.7493\n",
            "Epoch 15/20\n",
            "148/148 [==============================] - 505s 3s/step - loss: 0.9261 - accuracy: 0.6722 - val_loss: 0.7644 - val_accuracy: 0.7448\n",
            "Epoch 16/20\n",
            "148/148 [==============================] - 481s 3s/step - loss: 0.8680 - accuracy: 0.6907 - val_loss: 0.7356 - val_accuracy: 0.7611\n",
            "Epoch 17/20\n",
            "148/148 [==============================] - 496s 3s/step - loss: 0.8666 - accuracy: 0.6947 - val_loss: 0.7464 - val_accuracy: 0.7556\n",
            "Epoch 18/20\n",
            "148/148 [==============================] - 475s 3s/step - loss: 0.8222 - accuracy: 0.7078 - val_loss: 0.7817 - val_accuracy: 0.7344\n",
            "Epoch 00018: early stopping\n"
          ]
        }
      ],
      "source": [
        "# Define Stopping Criteria\n",
        "valcallback = EarlyStopping(monitor='val_accuracy', mode='max', verbose = 1, patience = 2)\n",
        "\n",
        "\n",
        "# Fit the model\n",
        "model_nine_history = model_nine.fit(train_generator,\n",
        "                                  epochs= 20,\n",
        "                                  validation_data = val_generator,\n",
        "                                  callbacks= valcallback,\n",
        "                                  batch_size=128,\n",
        "                                  verbose = 1)"
      ]
    },
    {
      "cell_type": "code",
      "execution_count": null,
      "metadata": {
        "id": "xAkqgCw_AzGB",
        "outputId": "c8116956-2c74-456c-eda7-c0c3d0639cb0"
      },
      "outputs": [
        {
          "name": "stdout",
          "output_type": "stream",
          "text": [
            "43/43 [==============================] - 41s 961ms/step - loss: 0.7606 - accuracy: 0.7452\n",
            "Test loss:  0.760615348815918\n",
            "Test accuracy:  0.7451851963996887\n"
          ]
        }
      ],
      "source": [
        "#Check loss and accuracy on test data\n",
        "test_loss, test_acc = model_nine.evaluate(test_generator, verbose = 1)\n",
        "\n",
        "print('Test loss: ', test_loss)\n",
        "print('Test accuracy: ', test_acc)"
      ]
    },
    {
      "cell_type": "markdown",
      "metadata": {
        "id": "oiq1qmwRC5nq"
      },
      "source": [
        "Adding the Dropout Layers reduced overfitting but also reduced our accuracy overall. Maybe we need a less agressive dropout layer."
      ]
    },
    {
      "cell_type": "markdown",
      "metadata": {
        "id": "DABtFT_oAzGB"
      },
      "source": [
        "### Model 10- Add Dense (16) and 0.2 Dropout Layers"
      ]
    },
    {
      "cell_type": "markdown",
      "metadata": {
        "id": "kTs6jFD-AzGC"
      },
      "source": [
        "We are adding an addtional Dense Layer, changing our Dropout Layers to 0.2 to regularize less, and increased number of Epochs to 50."
      ]
    },
    {
      "cell_type": "code",
      "execution_count": null,
      "metadata": {
        "id": "wtcrN6XiAzGC",
        "outputId": "fbd4583d-7677-44e1-ecb7-68f62508fb69"
      },
      "outputs": [
        {
          "name": "stdout",
          "output_type": "stream",
          "text": [
            "Model: \"sequential_7\"\n",
            "_________________________________________________________________\n",
            "Layer (type)                 Output Shape              Param #   \n",
            "=================================================================\n",
            "conv2d_9 (Conv2D)            (None, 254, 254, 32)      896       \n",
            "_________________________________________________________________\n",
            "max_pooling2d_9 (MaxPooling2 (None, 127, 127, 32)      0         \n",
            "_________________________________________________________________\n",
            "conv2d_10 (Conv2D)           (None, 125, 125, 32)      9248      \n",
            "_________________________________________________________________\n",
            "max_pooling2d_10 (MaxPooling (None, 62, 62, 32)        0         \n",
            "_________________________________________________________________\n",
            "conv2d_11 (Conv2D)           (None, 60, 60, 32)        9248      \n",
            "_________________________________________________________________\n",
            "max_pooling2d_11 (MaxPooling (None, 30, 30, 32)        0         \n",
            "_________________________________________________________________\n",
            "flatten_8 (Flatten)          (None, 28800)             0         \n",
            "_________________________________________________________________\n",
            "dense_15 (Dense)             (None, 64)                1843264   \n",
            "_________________________________________________________________\n",
            "dropout_2 (Dropout)          (None, 64)                0         \n",
            "_________________________________________________________________\n",
            "dense_16 (Dense)             (None, 32)                2080      \n",
            "_________________________________________________________________\n",
            "dropout_3 (Dropout)          (None, 32)                0         \n",
            "_________________________________________________________________\n",
            "dense_17 (Dense)             (None, 16)                528       \n",
            "_________________________________________________________________\n",
            "dropout_4 (Dropout)          (None, 16)                0         \n",
            "_________________________________________________________________\n",
            "dense_18 (Dense)             (None, 10)                170       \n",
            "=================================================================\n",
            "Total params: 1,865,434\n",
            "Trainable params: 1,865,434\n",
            "Non-trainable params: 0\n",
            "_________________________________________________________________\n"
          ]
        }
      ],
      "source": [
        "#Instantiate a Sequential model\n",
        "model_ten = Sequential()\n",
        "\n",
        "\n",
        "# Input Layer- Convolution\n",
        "model_ten.add(Conv2D(filters=32,\n",
        "                          kernel_size=(3, 3),\n",
        "                          activation='relu',\n",
        "                          input_shape= (256, 256, 3)))\n",
        "\n",
        "\n",
        "# Layer 1- max pool in 2x2 window\n",
        "model_ten.add(MaxPooling2D(pool_size=(2, 2)))\n",
        "\n",
        "# Layer 2- another convolution layer\n",
        "model_ten.add(layers.Conv2D(32, (3, 3), activation='relu'))\n",
        "\n",
        "# Layer 3- another max pool layer\n",
        "model_ten.add(layers.MaxPooling2D((2, 2)))\n",
        "\n",
        "# Layer 4- another convolution layer\n",
        "model_ten.add(layers.Conv2D(32, (3, 3), activation='relu'))\n",
        "\n",
        "# Layer 5- another max pool layer\n",
        "model_ten.add(layers.MaxPooling2D((2, 2)))\n",
        "\n",
        "# Layer 6- connect all nodes with dense layer\n",
        "model_ten.add(Flatten())\n",
        "model_ten.add(Dense(64, activation='relu'))\n",
        "model_ten.add(layers.Dropout(0.2))\n",
        "\n",
        "# Layer 7- dense layer\n",
        "model_ten.add(Dense(32, activation='relu'))\n",
        "model_ten.add(layers.Dropout(0.2))\n",
        "\n",
        "# Layer 7- dense layer\n",
        "model_ten.add(Dense(16, activation='relu'))\n",
        "model_ten.add(layers.Dropout(0.2))\n",
        "\n",
        "# Output Layer- softmax activiation for multi-categorical with 10 classes\n",
        "model_ten.add(Dense(10, activation='softmax'))\n",
        "\n",
        "#Compile the sequential CNN model- adam optimizer,\n",
        "# categorical_crossentropy loss, and set our metric to accuracy\n",
        "model_ten.compile(optimizer='adam',\n",
        "                       loss='categorical_crossentropy',\n",
        "                       metrics=['accuracy'])\n",
        "\n",
        "# print model summary\n",
        "model_ten.summary()"
      ]
    },
    {
      "cell_type": "code",
      "execution_count": null,
      "metadata": {
        "id": "MEnJDx4kAzGC",
        "outputId": "652a50b2-2afd-4b0c-bfbc-784dca6f1eb8"
      },
      "outputs": [
        {
          "name": "stdout",
          "output_type": "stream",
          "text": [
            "Epoch 1/50\n",
            "148/148 [==============================] - 622s 4s/step - loss: 2.0001 - accuracy: 0.2441 - val_loss: 1.4877 - val_accuracy: 0.4644\n",
            "Epoch 2/50\n",
            "148/148 [==============================] - 544s 4s/step - loss: 1.5896 - accuracy: 0.3908 - val_loss: 1.2697 - val_accuracy: 0.5296\n",
            "Epoch 3/50\n",
            "148/148 [==============================] - 521s 4s/step - loss: 1.4313 - accuracy: 0.4567 - val_loss: 1.2073 - val_accuracy: 0.5552\n",
            "Epoch 4/50\n",
            "148/148 [==============================] - 520s 4s/step - loss: 1.3009 - accuracy: 0.5120 - val_loss: 1.0292 - val_accuracy: 0.6367\n",
            "Epoch 5/50\n",
            "148/148 [==============================] - 519s 4s/step - loss: 1.1568 - accuracy: 0.5681 - val_loss: 0.9088 - val_accuracy: 0.6719\n",
            "Epoch 6/50\n",
            "148/148 [==============================] - 528s 4s/step - loss: 1.0614 - accuracy: 0.6100 - val_loss: 0.8606 - val_accuracy: 0.7063\n",
            "Epoch 7/50\n",
            "148/148 [==============================] - 522s 4s/step - loss: 0.9663 - accuracy: 0.6494 - val_loss: 0.8364 - val_accuracy: 0.6933\n",
            "Epoch 8/50\n",
            "148/148 [==============================] - 487s 3s/step - loss: 0.9072 - accuracy: 0.6733 - val_loss: 0.8075 - val_accuracy: 0.7385\n",
            "Epoch 9/50\n",
            "148/148 [==============================] - 498s 3s/step - loss: 0.8207 - accuracy: 0.7096 - val_loss: 0.7680 - val_accuracy: 0.7463\n",
            "Epoch 10/50\n",
            "148/148 [==============================] - 509s 3s/step - loss: 0.7634 - accuracy: 0.7321 - val_loss: 0.7371 - val_accuracy: 0.7604\n",
            "Epoch 11/50\n",
            "148/148 [==============================] - 456s 3s/step - loss: 0.7232 - accuracy: 0.7505 - val_loss: 0.7084 - val_accuracy: 0.7767\n",
            "Epoch 12/50\n",
            "148/148 [==============================] - 485s 3s/step - loss: 0.6728 - accuracy: 0.7715 - val_loss: 0.7213 - val_accuracy: 0.7663\n",
            "Epoch 13/50\n",
            "148/148 [==============================] - 577s 4s/step - loss: 0.6131 - accuracy: 0.7892 - val_loss: 0.7271 - val_accuracy: 0.7567\n",
            "Epoch 00013: early stopping\n"
          ]
        }
      ],
      "source": [
        "# Define Stopping Criteria\n",
        "valcallback = EarlyStopping(monitor='val_accuracy', mode='max', verbose = 1, patience = 2)\n",
        "\n",
        "\n",
        "# Fit the model\n",
        "model_ten_history = model_ten.fit(train_generator,\n",
        "                                  epochs= 50,\n",
        "                                  validation_data = val_generator,\n",
        "                                  callbacks= valcallback,\n",
        "                                  batch_size=128,\n",
        "                                  verbose = 1)"
      ]
    },
    {
      "cell_type": "code",
      "execution_count": null,
      "metadata": {
        "id": "0dEuaRbqAzGC",
        "outputId": "acd702e1-dafa-4418-ad4f-dc488e5ff6e7"
      },
      "outputs": [
        {
          "name": "stdout",
          "output_type": "stream",
          "text": [
            "43/43 [==============================] - 36s 839ms/step - loss: 0.7133 - accuracy: 0.7635\n",
            "Test loss:  0.7133249044418335\n",
            "Test accuracy:  0.7635185122489929\n"
          ]
        }
      ],
      "source": [
        "#Check loss and accuracy on test data\n",
        "test_loss, test_acc = model_ten.evaluate(test_generator, verbose = 1)\n",
        "\n",
        "print('Test loss: ', test_loss)\n",
        "print('Test accuracy: ', test_acc)"
      ]
    },
    {
      "cell_type": "markdown",
      "metadata": {
        "id": "DQCYhVD7C5nr"
      },
      "source": [
        "Not our best accuracy yet, but the overfitting is done and our accuracy is going back up."
      ]
    },
    {
      "cell_type": "markdown",
      "metadata": {
        "id": "AkECx578AzGC"
      },
      "source": [
        "### Model 11- Wider CNN with 0.2 Dropout"
      ]
    },
    {
      "cell_type": "markdown",
      "metadata": {
        "id": "_ms99qsiC5nr"
      },
      "source": [
        "Maybe adding more nodes to (i.e. widening) our Dense layers will help. We will use layers decreasing in node number starting with 512 nodes after our Convolution Layer."
      ]
    },
    {
      "cell_type": "code",
      "execution_count": null,
      "metadata": {
        "id": "EB1G-XD7AzGD",
        "outputId": "9d27ef5a-b327-4829-a694-943eeb270d86"
      },
      "outputs": [
        {
          "name": "stdout",
          "output_type": "stream",
          "text": [
            "Model: \"sequential\"\n",
            "_________________________________________________________________\n",
            "Layer (type)                 Output Shape              Param #   \n",
            "=================================================================\n",
            "conv2d (Conv2D)              (None, 254, 254, 32)      896       \n",
            "_________________________________________________________________\n",
            "max_pooling2d (MaxPooling2D) (None, 127, 127, 32)      0         \n",
            "_________________________________________________________________\n",
            "conv2d_1 (Conv2D)            (None, 125, 125, 32)      9248      \n",
            "_________________________________________________________________\n",
            "max_pooling2d_1 (MaxPooling2 (None, 62, 62, 32)        0         \n",
            "_________________________________________________________________\n",
            "conv2d_2 (Conv2D)            (None, 60, 60, 32)        9248      \n",
            "_________________________________________________________________\n",
            "max_pooling2d_2 (MaxPooling2 (None, 30, 30, 32)        0         \n",
            "_________________________________________________________________\n",
            "flatten (Flatten)            (None, 28800)             0         \n",
            "_________________________________________________________________\n",
            "dense (Dense)                (None, 512)               14746112  \n",
            "_________________________________________________________________\n",
            "dropout (Dropout)            (None, 512)               0         \n",
            "_________________________________________________________________\n",
            "dense_1 (Dense)              (None, 256)               131328    \n",
            "_________________________________________________________________\n",
            "dropout_1 (Dropout)          (None, 256)               0         \n",
            "_________________________________________________________________\n",
            "dense_2 (Dense)              (None, 32)                8224      \n",
            "_________________________________________________________________\n",
            "dropout_2 (Dropout)          (None, 32)                0         \n",
            "_________________________________________________________________\n",
            "dense_3 (Dense)              (None, 10)                330       \n",
            "=================================================================\n",
            "Total params: 14,905,386\n",
            "Trainable params: 14,905,386\n",
            "Non-trainable params: 0\n",
            "_________________________________________________________________\n"
          ]
        }
      ],
      "source": [
        "#Instantiate a Sequential model\n",
        "model_eleven = Sequential()\n",
        "\n",
        "\n",
        "# Input Layer- Convolution\n",
        "model_eleven.add(Conv2D(filters=32,\n",
        "                          kernel_size=(3, 3),\n",
        "                          activation='relu',\n",
        "                          input_shape= (256, 256, 3)))\n",
        "\n",
        "\n",
        "# Layer 1- max pool in 2x2 window\n",
        "model_eleven.add(MaxPooling2D(pool_size=(2, 2)))\n",
        "\n",
        "# Layer 2- another convolution layer\n",
        "model_eleven.add(layers.Conv2D(32, (3, 3), activation='relu'))\n",
        "\n",
        "# Layer 3- another max pool layer\n",
        "model_eleven.add(layers.MaxPooling2D((2, 2)))\n",
        "\n",
        "# Layer 4- another convolution layer\n",
        "model_eleven.add(layers.Conv2D(32, (3, 3), activation='relu'))\n",
        "\n",
        "# Layer 5- another max pool layer\n",
        "model_eleven.add(layers.MaxPooling2D((2, 2)))\n",
        "\n",
        "# Layer 6- connect all nodes with dense layer\n",
        "model_eleven.add(Flatten())\n",
        "model_eleven.add(Dense(512, activation='relu'))\n",
        "model_eleven.add(layers.Dropout(0.2))\n",
        "\n",
        "# Layer 7- dense layer\n",
        "model_eleven.add(Dense(256, activation='relu'))\n",
        "model_eleven.add(layers.Dropout(0.2))\n",
        "\n",
        "# Layer 7- dense layer\n",
        "model_eleven.add(Dense(32, activation='relu'))\n",
        "model_eleven.add(layers.Dropout(0.2))\n",
        "\n",
        "# Output Layer- softmax activiation for multi-categorical with 10 classes\n",
        "model_eleven.add(Dense(10, activation='softmax'))\n",
        "\n",
        "#Compile the sequential CNN model- adam optimizer,\n",
        "# categorical_crossentropy loss, and set our metric to accuracy\n",
        "model_eleven.compile(optimizer='adam',\n",
        "                       loss='categorical_crossentropy',\n",
        "                       metrics=['accuracy'])\n",
        "\n",
        "# print model summary\n",
        "model_eleven.summary()"
      ]
    },
    {
      "cell_type": "code",
      "execution_count": null,
      "metadata": {
        "id": "-s8QFs45AzGD",
        "outputId": "ffc9ad88-29a0-4188-b890-4c04f9c047d0"
      },
      "outputs": [
        {
          "name": "stdout",
          "output_type": "stream",
          "text": [
            "Epoch 1/50\n",
            "148/148 [==============================] - 481s 3s/step - loss: 1.8579 - accuracy: 0.2936 - val_loss: 1.3696 - val_accuracy: 0.5048\n",
            "Epoch 2/50\n",
            "148/148 [==============================] - 473s 3s/step - loss: 1.3091 - accuracy: 0.5207 - val_loss: 0.9868 - val_accuracy: 0.6448\n",
            "Epoch 3/50\n",
            "148/148 [==============================] - 472s 3s/step - loss: 1.0152 - accuracy: 0.6411 - val_loss: 0.7357 - val_accuracy: 0.7396\n",
            "Epoch 4/50\n",
            "148/148 [==============================] - 473s 3s/step - loss: 0.8238 - accuracy: 0.7134 - val_loss: 0.7913 - val_accuracy: 0.7152\n",
            "Epoch 5/50\n",
            "148/148 [==============================] - 474s 3s/step - loss: 0.7157 - accuracy: 0.7537 - val_loss: 0.6792 - val_accuracy: 0.7663\n",
            "Epoch 6/50\n",
            "148/148 [==============================] - 474s 3s/step - loss: 0.5819 - accuracy: 0.8019 - val_loss: 0.6211 - val_accuracy: 0.7774\n",
            "Epoch 7/50\n",
            "148/148 [==============================] - 473s 3s/step - loss: 0.4969 - accuracy: 0.8327 - val_loss: 0.5706 - val_accuracy: 0.8015\n",
            "Epoch 8/50\n",
            "148/148 [==============================] - 476s 3s/step - loss: 0.4347 - accuracy: 0.8554 - val_loss: 0.6551 - val_accuracy: 0.7941\n",
            "Epoch 9/50\n",
            "148/148 [==============================] - 476s 3s/step - loss: 0.3379 - accuracy: 0.8905 - val_loss: 0.7957 - val_accuracy: 0.7400\n",
            "Epoch 00009: early stopping\n"
          ]
        }
      ],
      "source": [
        "# Define Stopping Criteria\n",
        "valcallback = EarlyStopping(monitor='val_accuracy', mode='max', verbose = 1, patience = 2)\n",
        "\n",
        "\n",
        "# Fit the model\n",
        "model_eleven_history = model_eleven.fit(train_generator,\n",
        "                                  epochs= 50,\n",
        "                                  validation_data = val_generator,\n",
        "                                  callbacks= valcallback,\n",
        "                                  batch_size=128,\n",
        "                                  verbose = 1)"
      ]
    },
    {
      "cell_type": "code",
      "execution_count": null,
      "metadata": {
        "id": "xosvYvU7AzGD",
        "outputId": "fcb2671d-bf78-479d-990b-8f61188e4050"
      },
      "outputs": [
        {
          "name": "stdout",
          "output_type": "stream",
          "text": [
            "43/43 [==============================] - 35s 810ms/step - loss: 0.7885 - accuracy: 0.7443\n",
            "Test loss:  0.7884544134140015\n",
            "Test accuracy:  0.744259238243103\n"
          ]
        }
      ],
      "source": [
        "#Check loss and accuracy on test data\n",
        "test_loss, test_acc = model_eleven.evaluate(test_generator, verbose = 1)\n",
        "\n",
        "print('Test loss: ', test_loss)\n",
        "print('Test accuracy: ', test_acc)"
      ]
    },
    {
      "cell_type": "markdown",
      "metadata": {
        "id": "nMF-qvoWC5nr"
      },
      "source": [
        "This seemed to have the opposite effect than we hoped and increased overfitting while lowering our accuracy."
      ]
    },
    {
      "cell_type": "markdown",
      "metadata": {
        "id": "lpz05K2IBTHY"
      },
      "source": [
        "### Larger Models in Google Colab"
      ]
    },
    {
      "cell_type": "markdown",
      "metadata": {
        "id": "ZzaB4iO5BOi1"
      },
      "source": [
        "Our next few models are quite large so we may be best served opening and running them in Google Colab."
      ]
    },
    {
      "cell_type": "markdown",
      "metadata": {
        "id": "Ut1t7hp9AzFp"
      },
      "source": [
        "[![Open In Colab](https://colab.research.google.com/assets/colab-badge.svg)](https://colab.research.google.com/github//aokdata/Land_Cover_Classification/blob/main/Land_Cover_Classification_Notebook.ipynb)"
      ]
    },
    {
      "cell_type": "code",
      "execution_count": null,
      "metadata": {
        "colab": {
          "base_uri": "https://localhost:8080/"
        },
        "id": "-aq_S-xdBjIz",
        "outputId": "5da6502a-0c62-4753-d24b-dcb1d9be24cd"
      },
      "outputs": [
        {
          "name": "stdout",
          "output_type": "stream",
          "text": [
            "Mounted at /content/drive\n"
          ]
        }
      ],
      "source": [
        "#Mount Google Drive to access data\n",
        "from google.colab import drive\n",
        "drive.mount('/content/drive')"
      ]
    },
    {
      "cell_type": "markdown",
      "metadata": {
        "id": "zlfsBAa8AzGD"
      },
      "source": [
        "### Model 12- Decreasing filter size over 4 Conv2D Layers and 5 Dense Layers"
      ]
    },
    {
      "cell_type": "markdown",
      "metadata": {
        "id": "bZSUfYp1C5nr"
      },
      "source": [
        "Let's make our model considerably deeper since that seems to work best. We will also use 0.2 Dropout layers to help with the overfitting."
      ]
    },
    {
      "cell_type": "code",
      "execution_count": null,
      "metadata": {
        "colab": {
          "base_uri": "https://localhost:8080/"
        },
        "id": "KWXCLV6zC0P3",
        "outputId": "a8a578e0-2b94-422c-a4b8-12a724a233da"
      },
      "outputs": [
        {
          "name": "stdout",
          "output_type": "stream",
          "text": [
            "Found 18909 images belonging to 10 classes.\n",
            "Found 2701 images belonging to 10 classes.\n",
            "Found 5400 images belonging to 10 classes.\n"
          ]
        }
      ],
      "source": [
        "#Import Data from Google Drive to use in Google Colab\n",
        "train_folder = '/content/drive/MyDrive/Data/Land_Cover_Classification_Project/data/split/train'\n",
        "test_folder = '/content/drive/MyDrive/Data/Land_Cover_Classification_Project/data/split/test'\n",
        "\n",
        "# Normalize images\n",
        "train_gen = ImageDataGenerator(rescale=1./255, validation_split = 0.125)\n",
        "test_gen = ImageDataGenerator(rescale=1./255)\n",
        "\n",
        "#Import data as 70% Train (10% Validation of orginal data set) and 20% Test\n",
        "train_generator = train_gen.flow_from_directory(train_folder,\n",
        "                                                class_mode = 'categorical',\n",
        "                                                subset ='training',\n",
        "                                                batch_size=128,\n",
        "                                                shuffle=True,\n",
        "                                                seed=42)\n",
        "\n",
        "val_generator= train_gen.flow_from_directory(train_folder,\n",
        "                                             class_mode= 'categorical',\n",
        "                                             subset = \"validation\",\n",
        "                                             batch_size=128,\n",
        "                                             shuffle=True,\n",
        "                                             seed=42)\n",
        "\n",
        "test_generator= test_gen.flow_from_directory(test_folder,\n",
        "                                              class_mode= 'categorical',\n",
        "                                              batch_size=128,\n",
        "                                              shuffle=False,\n",
        "                                              seed=42)"
      ]
    },
    {
      "cell_type": "code",
      "execution_count": null,
      "metadata": {
        "colab": {
          "base_uri": "https://localhost:8080/"
        },
        "id": "JnkiQSqlAzGE",
        "outputId": "fb2c3a04-7af1-4060-aa5e-2582d7b31953"
      },
      "outputs": [
        {
          "name": "stdout",
          "output_type": "stream",
          "text": [
            "Model: \"sequential_2\"\n",
            "_________________________________________________________________\n",
            " Layer (type)                Output Shape              Param #   \n",
            "=================================================================\n",
            " conv2d (Conv2D)             (None, 254, 254, 128)     3584      \n",
            "                                                                 \n",
            " max_pooling2d (MaxPooling2D  (None, 127, 127, 128)    0         \n",
            " )                                                               \n",
            "                                                                 \n",
            " conv2d_1 (Conv2D)           (None, 125, 125, 64)      73792     \n",
            "                                                                 \n",
            " max_pooling2d_1 (MaxPooling  (None, 62, 62, 64)       0         \n",
            " 2D)                                                             \n",
            "                                                                 \n",
            " conv2d_2 (Conv2D)           (None, 60, 60, 32)        18464     \n",
            "                                                                 \n",
            " max_pooling2d_2 (MaxPooling  (None, 30, 30, 32)       0         \n",
            " 2D)                                                             \n",
            "                                                                 \n",
            " conv2d_3 (Conv2D)           (None, 28, 28, 16)        4624      \n",
            "                                                                 \n",
            " max_pooling2d_3 (MaxPooling  (None, 14, 14, 16)       0         \n",
            " 2D)                                                             \n",
            "                                                                 \n",
            " flatten_2 (Flatten)         (None, 3136)              0         \n",
            "                                                                 \n",
            " dense_4 (Dense)             (None, 512)               1606144   \n",
            "                                                                 \n",
            " dropout (Dropout)           (None, 512)               0         \n",
            "                                                                 \n",
            " dense_5 (Dense)             (None, 256)               131328    \n",
            "                                                                 \n",
            " dropout_1 (Dropout)         (None, 256)               0         \n",
            "                                                                 \n",
            " dense_6 (Dense)             (None, 128)               32896     \n",
            "                                                                 \n",
            " dropout_2 (Dropout)         (None, 128)               0         \n",
            "                                                                 \n",
            " dense_7 (Dense)             (None, 32)                4128      \n",
            "                                                                 \n",
            " dropout_3 (Dropout)         (None, 32)                0         \n",
            "                                                                 \n",
            " dense_8 (Dense)             (None, 16)                528       \n",
            "                                                                 \n",
            " dropout_4 (Dropout)         (None, 16)                0         \n",
            "                                                                 \n",
            " dense_9 (Dense)             (None, 10)                170       \n",
            "                                                                 \n",
            "=================================================================\n",
            "Total params: 1,875,658\n",
            "Trainable params: 1,875,658\n",
            "Non-trainable params: 0\n",
            "_________________________________________________________________\n"
          ]
        }
      ],
      "source": [
        "#Instantiate a Sequential model\n",
        "model_twelve = Sequential()\n",
        "\n",
        "\n",
        "# Input Layer- Convolution\n",
        "model_twelve.add(Conv2D(filters=128,\n",
        "                          kernel_size=(3, 3),\n",
        "                          activation='relu',\n",
        "                          input_shape= (256, 256, 3)))\n",
        "\n",
        "\n",
        "# Layer 1- max pool in 2x2 window\n",
        "model_twelve.add(MaxPooling2D(pool_size=(2, 2)))\n",
        "\n",
        "# Layer 2- another convolution layer\n",
        "model_twelve.add(layers.Conv2D(64, (3, 3), activation='relu'))\n",
        "\n",
        "# Layer 3- another max pool layer\n",
        "model_twelve.add(layers.MaxPooling2D((2, 2)))\n",
        "\n",
        "# Layer 4- another convolution layer\n",
        "model_twelve.add(layers.Conv2D(32, (3, 3), activation='relu'))\n",
        "\n",
        "# Layer 5- another max pool layer\n",
        "model_twelve.add(layers.MaxPooling2D((2, 2)))\n",
        "\n",
        "# Layer 6- another convolution layer\n",
        "model_twelve.add(layers.Conv2D(16, (3, 3), activation='relu'))\n",
        "\n",
        "# Layer 7- another max pool layer\n",
        "model_twelve.add(layers.MaxPooling2D((2, 2)))\n",
        "\n",
        "# Layer 8- connect all nodes with dense layer\n",
        "model_twelve.add(Flatten())\n",
        "model_twelve.add(Dense(512, activation='relu'))\n",
        "model_twelve.add(layers.Dropout(0.2))\n",
        "\n",
        "# Layer 9- dense layer\n",
        "model_twelve.add(Dense(256, activation='relu'))\n",
        "model_twelve.add(layers.Dropout(0.2))\n",
        "\n",
        "# Layer 10- dense layer\n",
        "model_twelve.add(Dense(128, activation='relu'))\n",
        "model_twelve.add(layers.Dropout(0.2))\n",
        "\n",
        "# Layer 11- dense layer\n",
        "model_twelve.add(Dense(32, activation='relu'))\n",
        "model_twelve.add(layers.Dropout(0.2))\n",
        "\n",
        "# Layer 12- dense layer\n",
        "model_twelve.add(Dense(16, activation='relu'))\n",
        "model_twelve.add(layers.Dropout(0.2))\n",
        "\n",
        "# Output Layer- softmax activiation for multi-categorical with 10 classes\n",
        "model_twelve.add(Dense(10, activation='softmax'))\n",
        "\n",
        "#Compile the sequential CNN model- adam optimizer,\n",
        "# categorical_crossentropy loss, and set our metric to accuracy\n",
        "model_twelve.compile(optimizer='adam',\n",
        "                       loss='categorical_crossentropy',\n",
        "                       metrics=['accuracy'])\n",
        "\n",
        "# print model summary\n",
        "model_twelve.summary()"
      ]
    },
    {
      "cell_type": "code",
      "execution_count": null,
      "metadata": {
        "colab": {
          "base_uri": "https://localhost:8080/"
        },
        "id": "j2qfUYAAAzGE",
        "outputId": "6a95e91d-50fb-4d8a-bbd4-c4d0c54fac05"
      },
      "outputs": [
        {
          "name": "stdout",
          "output_type": "stream",
          "text": [
            "Epoch 1/50\n",
            "148/148 [==============================] - 66s 386ms/step - loss: 2.0190 - accuracy: 0.2129 - val_loss: 1.7082 - val_accuracy: 0.2977\n",
            "Epoch 2/50\n",
            "148/148 [==============================] - 55s 374ms/step - loss: 1.6798 - accuracy: 0.3422 - val_loss: 1.3919 - val_accuracy: 0.4202\n",
            "Epoch 3/50\n",
            "148/148 [==============================] - 56s 375ms/step - loss: 1.4762 - accuracy: 0.3936 - val_loss: 1.2848 - val_accuracy: 0.4643\n",
            "Epoch 4/50\n",
            "148/148 [==============================] - 55s 373ms/step - loss: 1.3265 - accuracy: 0.4652 - val_loss: 1.1793 - val_accuracy: 0.5591\n",
            "Epoch 5/50\n",
            "148/148 [==============================] - 55s 373ms/step - loss: 1.1954 - accuracy: 0.5347 - val_loss: 1.0277 - val_accuracy: 0.6079\n",
            "Epoch 6/50\n",
            "148/148 [==============================] - 56s 375ms/step - loss: 1.0565 - accuracy: 0.6017 - val_loss: 1.1026 - val_accuracy: 0.6287\n",
            "Epoch 7/50\n",
            "148/148 [==============================] - 55s 372ms/step - loss: 0.9683 - accuracy: 0.6546 - val_loss: 0.8653 - val_accuracy: 0.7131\n",
            "Epoch 8/50\n",
            "148/148 [==============================] - 55s 374ms/step - loss: 0.8115 - accuracy: 0.7208 - val_loss: 0.8562 - val_accuracy: 0.7316\n",
            "Epoch 9/50\n",
            "148/148 [==============================] - 56s 376ms/step - loss: 0.7393 - accuracy: 0.7559 - val_loss: 0.7705 - val_accuracy: 0.7619\n",
            "Epoch 10/50\n",
            "148/148 [==============================] - 56s 376ms/step - loss: 0.6488 - accuracy: 0.7849 - val_loss: 0.7033 - val_accuracy: 0.7756\n",
            "Epoch 11/50\n",
            "148/148 [==============================] - 55s 372ms/step - loss: 0.5851 - accuracy: 0.8125 - val_loss: 0.7561 - val_accuracy: 0.7756\n",
            "Epoch 12/50\n",
            "148/148 [==============================] - 56s 376ms/step - loss: 0.5154 - accuracy: 0.8333 - val_loss: 0.6922 - val_accuracy: 0.7927\n",
            "Epoch 13/50\n",
            "148/148 [==============================] - 55s 374ms/step - loss: 0.4560 - accuracy: 0.8552 - val_loss: 0.6850 - val_accuracy: 0.8027\n",
            "Epoch 14/50\n",
            "148/148 [==============================] - 55s 373ms/step - loss: 0.4323 - accuracy: 0.8668 - val_loss: 0.6900 - val_accuracy: 0.7986\n",
            "Epoch 15/50\n",
            "148/148 [==============================] - 55s 375ms/step - loss: 0.3748 - accuracy: 0.8840 - val_loss: 0.7513 - val_accuracy: 0.7960\n",
            "Epoch 15: early stopping\n"
          ]
        }
      ],
      "source": [
        "# Define Stopping Criteria\n",
        "valcallback = EarlyStopping(monitor='val_accuracy', mode='max', verbose = 1, patience = 5)\n",
        "\n",
        "\n",
        "# Fit the model\n",
        "model_twelve_history = model_twelve.fit(train_generator,\n",
        "                                  epochs= 50,\n",
        "                                  validation_data = val_generator,\n",
        "                                  callbacks= valcallback,\n",
        "                                  batch_size=128,\n",
        "                                  verbose = 1)"
      ]
    },
    {
      "cell_type": "code",
      "execution_count": null,
      "metadata": {
        "colab": {
          "base_uri": "https://localhost:8080/"
        },
        "id": "Ku1QqDIdAzGE",
        "outputId": "62e983b3-e4ff-4f99-ff76-2060c5ceac92"
      },
      "outputs": [
        {
          "name": "stdout",
          "output_type": "stream",
          "text": [
            "43/43 [==============================] - 14s 321ms/step - loss: 0.7148 - accuracy: 0.8069\n",
            "Test loss:  0.7148383855819702\n",
            "Test accuracy:  0.806851863861084\n"
          ]
        }
      ],
      "source": [
        "#Check loss and accuracy on test data\n",
        "test_loss, test_acc = model_twelve.evaluate(test_generator, verbose = 1)\n",
        "\n",
        "print('Test loss: ', test_loss)\n",
        "print('Test accuracy: ', test_acc)"
      ]
    },
    {
      "cell_type": "markdown",
      "metadata": {
        "id": "sD9MvD2MAzGF"
      },
      "source": [
        "This is our best accuracy so far at 80.68% Test accuracy, but overfitting is still present."
      ]
    },
    {
      "cell_type": "markdown",
      "metadata": {
        "id": "2uvv7y-xAzGF"
      },
      "source": [
        "### Model 13- Transfer Learning: ResNet50"
      ]
    },
    {
      "cell_type": "markdown",
      "metadata": {
        "id": "auz1sFr3C5ns"
      },
      "source": [
        "If deeper models seem to work best, let's implement a very deep pre-trained model, ResNet50."
      ]
    },
    {
      "cell_type": "code",
      "execution_count": null,
      "metadata": {
        "colab": {
          "base_uri": "https://localhost:8080/"
        },
        "id": "B0kvNWH-AzGF",
        "outputId": "f9187e14-a2a6-4b55-c0bc-ea49359b0cfb"
      },
      "outputs": [
        {
          "name": "stdout",
          "output_type": "stream",
          "text": [
            "Found 18909 images belonging to 10 classes.\n",
            "Found 2701 images belonging to 10 classes.\n",
            "Found 5400 images belonging to 10 classes.\n"
          ]
        }
      ],
      "source": [
        "train_folder = '/content/drive/MyDrive/Data/Land_Cover_Classification_Project/data/split/train'\n",
        "test_folder = '/content/drive/MyDrive/Data/Land_Cover_Classification_Project/data/split/test'\n",
        "\n",
        "# Normalize images\n",
        "train_gen = ImageDataGenerator(rescale=1./255,\n",
        "                               preprocessing_function = tf.keras.applications.resnet50.preprocess_input,\n",
        "                               validation_split = 0.125)\n",
        "test_gen = ImageDataGenerator(rescale=1./255,\n",
        "                              preprocessing_function = tf.keras.applications.resnet50.preprocess_input)\n",
        "\n",
        "#Import data as 70% Train (10% Validation of orginal data set) and 20% Test\n",
        "rn_train_generator = train_gen.flow_from_directory(train_folder,\n",
        "                                                class_mode = 'categorical',\n",
        "                                                subset ='training',\n",
        "                                                batch_size=128,\n",
        "                                                shuffle=True,\n",
        "                                                seed=42)\n",
        "\n",
        "rn_val_generator= train_gen.flow_from_directory(train_folder,\n",
        "                                             class_mode= 'categorical',\n",
        "                                             subset = \"validation\",\n",
        "                                             batch_size=128,\n",
        "                                             shuffle=True,\n",
        "                                             seed=42)\n",
        "\n",
        "rn_test_generator= test_gen.flow_from_directory(test_folder,\n",
        "                                              class_mode= 'categorical',\n",
        "                                              batch_size=128,\n",
        "                                              shuffle=False,\n",
        "                                              seed=42)"
      ]
    },
    {
      "cell_type": "code",
      "execution_count": null,
      "metadata": {
        "colab": {
          "base_uri": "https://localhost:8080/"
        },
        "id": "6plgek1jAzGF",
        "outputId": "d31e3306-fb96-4be1-b75c-2113aa2d3850"
      },
      "outputs": [
        {
          "name": "stdout",
          "output_type": "stream",
          "text": [
            "Downloading data from https://storage.googleapis.com/tensorflow/keras-applications/resnet/resnet50_weights_tf_dim_ordering_tf_kernels_notop.h5\n",
            "94765736/94765736 [==============================] - 0s 0us/step\n"
          ]
        }
      ],
      "source": [
        "# Instantiate our Transfer Model Input Layer\n",
        "rn50 = ResNet50(weights='imagenet',\n",
        "                 include_top=False,\n",
        "                input_shape=(256, 256, 3))"
      ]
    },
    {
      "cell_type": "code",
      "execution_count": null,
      "metadata": {
        "colab": {
          "base_uri": "https://localhost:8080/"
        },
        "id": "HoOw-QUuAzGG",
        "outputId": "3934f88f-248b-4c0f-f10e-9751ae59336e",
        "scrolled": false
      },
      "outputs": [
        {
          "name": "stdout",
          "output_type": "stream",
          "text": [
            "Model: \"resnet50\"\n",
            "__________________________________________________________________________________________________\n",
            " Layer (type)                   Output Shape         Param #     Connected to                     \n",
            "==================================================================================================\n",
            " input_1 (InputLayer)           [(None, 256, 256, 3  0           []                               \n",
            "                                )]                                                                \n",
            "                                                                                                  \n",
            " conv1_pad (ZeroPadding2D)      (None, 262, 262, 3)  0           ['input_1[0][0]']                \n",
            "                                                                                                  \n",
            " conv1_conv (Conv2D)            (None, 128, 128, 64  9472        ['conv1_pad[0][0]']              \n",
            "                                )                                                                 \n",
            "                                                                                                  \n",
            " conv1_bn (BatchNormalization)  (None, 128, 128, 64  256         ['conv1_conv[0][0]']             \n",
            "                                )                                                                 \n",
            "                                                                                                  \n",
            " conv1_relu (Activation)        (None, 128, 128, 64  0           ['conv1_bn[0][0]']               \n",
            "                                )                                                                 \n",
            "                                                                                                  \n",
            " pool1_pad (ZeroPadding2D)      (None, 130, 130, 64  0           ['conv1_relu[0][0]']             \n",
            "                                )                                                                 \n",
            "                                                                                                  \n",
            " pool1_pool (MaxPooling2D)      (None, 64, 64, 64)   0           ['pool1_pad[0][0]']              \n",
            "                                                                                                  \n",
            " conv2_block1_1_conv (Conv2D)   (None, 64, 64, 64)   4160        ['pool1_pool[0][0]']             \n",
            "                                                                                                  \n",
            " conv2_block1_1_bn (BatchNormal  (None, 64, 64, 64)  256         ['conv2_block1_1_conv[0][0]']    \n",
            " ization)                                                                                         \n",
            "                                                                                                  \n",
            " conv2_block1_1_relu (Activatio  (None, 64, 64, 64)  0           ['conv2_block1_1_bn[0][0]']      \n",
            " n)                                                                                               \n",
            "                                                                                                  \n",
            " conv2_block1_2_conv (Conv2D)   (None, 64, 64, 64)   36928       ['conv2_block1_1_relu[0][0]']    \n",
            "                                                                                                  \n",
            " conv2_block1_2_bn (BatchNormal  (None, 64, 64, 64)  256         ['conv2_block1_2_conv[0][0]']    \n",
            " ization)                                                                                         \n",
            "                                                                                                  \n",
            " conv2_block1_2_relu (Activatio  (None, 64, 64, 64)  0           ['conv2_block1_2_bn[0][0]']      \n",
            " n)                                                                                               \n",
            "                                                                                                  \n",
            " conv2_block1_0_conv (Conv2D)   (None, 64, 64, 256)  16640       ['pool1_pool[0][0]']             \n",
            "                                                                                                  \n",
            " conv2_block1_3_conv (Conv2D)   (None, 64, 64, 256)  16640       ['conv2_block1_2_relu[0][0]']    \n",
            "                                                                                                  \n",
            " conv2_block1_0_bn (BatchNormal  (None, 64, 64, 256)  1024       ['conv2_block1_0_conv[0][0]']    \n",
            " ization)                                                                                         \n",
            "                                                                                                  \n",
            " conv2_block1_3_bn (BatchNormal  (None, 64, 64, 256)  1024       ['conv2_block1_3_conv[0][0]']    \n",
            " ization)                                                                                         \n",
            "                                                                                                  \n",
            " conv2_block1_add (Add)         (None, 64, 64, 256)  0           ['conv2_block1_0_bn[0][0]',      \n",
            "                                                                  'conv2_block1_3_bn[0][0]']      \n",
            "                                                                                                  \n",
            " conv2_block1_out (Activation)  (None, 64, 64, 256)  0           ['conv2_block1_add[0][0]']       \n",
            "                                                                                                  \n",
            " conv2_block2_1_conv (Conv2D)   (None, 64, 64, 64)   16448       ['conv2_block1_out[0][0]']       \n",
            "                                                                                                  \n",
            " conv2_block2_1_bn (BatchNormal  (None, 64, 64, 64)  256         ['conv2_block2_1_conv[0][0]']    \n",
            " ization)                                                                                         \n",
            "                                                                                                  \n",
            " conv2_block2_1_relu (Activatio  (None, 64, 64, 64)  0           ['conv2_block2_1_bn[0][0]']      \n",
            " n)                                                                                               \n",
            "                                                                                                  \n",
            " conv2_block2_2_conv (Conv2D)   (None, 64, 64, 64)   36928       ['conv2_block2_1_relu[0][0]']    \n",
            "                                                                                                  \n",
            " conv2_block2_2_bn (BatchNormal  (None, 64, 64, 64)  256         ['conv2_block2_2_conv[0][0]']    \n",
            " ization)                                                                                         \n",
            "                                                                                                  \n",
            " conv2_block2_2_relu (Activatio  (None, 64, 64, 64)  0           ['conv2_block2_2_bn[0][0]']      \n",
            " n)                                                                                               \n",
            "                                                                                                  \n",
            " conv2_block2_3_conv (Conv2D)   (None, 64, 64, 256)  16640       ['conv2_block2_2_relu[0][0]']    \n",
            "                                                                                                  \n",
            " conv2_block2_3_bn (BatchNormal  (None, 64, 64, 256)  1024       ['conv2_block2_3_conv[0][0]']    \n",
            " ization)                                                                                         \n",
            "                                                                                                  \n",
            " conv2_block2_add (Add)         (None, 64, 64, 256)  0           ['conv2_block1_out[0][0]',       \n",
            "                                                                  'conv2_block2_3_bn[0][0]']      \n",
            "                                                                                                  \n",
            " conv2_block2_out (Activation)  (None, 64, 64, 256)  0           ['conv2_block2_add[0][0]']       \n",
            "                                                                                                  \n",
            " conv2_block3_1_conv (Conv2D)   (None, 64, 64, 64)   16448       ['conv2_block2_out[0][0]']       \n",
            "                                                                                                  \n",
            " conv2_block3_1_bn (BatchNormal  (None, 64, 64, 64)  256         ['conv2_block3_1_conv[0][0]']    \n",
            " ization)                                                                                         \n",
            "                                                                                                  \n",
            " conv2_block3_1_relu (Activatio  (None, 64, 64, 64)  0           ['conv2_block3_1_bn[0][0]']      \n",
            " n)                                                                                               \n",
            "                                                                                                  \n",
            " conv2_block3_2_conv (Conv2D)   (None, 64, 64, 64)   36928       ['conv2_block3_1_relu[0][0]']    \n",
            "                                                                                                  \n",
            " conv2_block3_2_bn (BatchNormal  (None, 64, 64, 64)  256         ['conv2_block3_2_conv[0][0]']    \n",
            " ization)                                                                                         \n",
            "                                                                                                  \n",
            " conv2_block3_2_relu (Activatio  (None, 64, 64, 64)  0           ['conv2_block3_2_bn[0][0]']      \n",
            " n)                                                                                               \n",
            "                                                                                                  \n",
            " conv2_block3_3_conv (Conv2D)   (None, 64, 64, 256)  16640       ['conv2_block3_2_relu[0][0]']    \n",
            "                                                                                                  \n",
            " conv2_block3_3_bn (BatchNormal  (None, 64, 64, 256)  1024       ['conv2_block3_3_conv[0][0]']    \n",
            " ization)                                                                                         \n",
            "                                                                                                  \n",
            " conv2_block3_add (Add)         (None, 64, 64, 256)  0           ['conv2_block2_out[0][0]',       \n",
            "                                                                  'conv2_block3_3_bn[0][0]']      \n",
            "                                                                                                  \n",
            " conv2_block3_out (Activation)  (None, 64, 64, 256)  0           ['conv2_block3_add[0][0]']       \n",
            "                                                                                                  \n",
            " conv3_block1_1_conv (Conv2D)   (None, 32, 32, 128)  32896       ['conv2_block3_out[0][0]']       \n",
            "                                                                                                  \n",
            " conv3_block1_1_bn (BatchNormal  (None, 32, 32, 128)  512        ['conv3_block1_1_conv[0][0]']    \n",
            " ization)                                                                                         \n",
            "                                                                                                  \n",
            " conv3_block1_1_relu (Activatio  (None, 32, 32, 128)  0          ['conv3_block1_1_bn[0][0]']      \n",
            " n)                                                                                               \n",
            "                                                                                                  \n",
            " conv3_block1_2_conv (Conv2D)   (None, 32, 32, 128)  147584      ['conv3_block1_1_relu[0][0]']    \n",
            "                                                                                                  \n",
            " conv3_block1_2_bn (BatchNormal  (None, 32, 32, 128)  512        ['conv3_block1_2_conv[0][0]']    \n",
            " ization)                                                                                         \n",
            "                                                                                                  \n",
            " conv3_block1_2_relu (Activatio  (None, 32, 32, 128)  0          ['conv3_block1_2_bn[0][0]']      \n",
            " n)                                                                                               \n",
            "                                                                                                  \n",
            " conv3_block1_0_conv (Conv2D)   (None, 32, 32, 512)  131584      ['conv2_block3_out[0][0]']       \n",
            "                                                                                                  \n",
            " conv3_block1_3_conv (Conv2D)   (None, 32, 32, 512)  66048       ['conv3_block1_2_relu[0][0]']    \n",
            "                                                                                                  \n",
            " conv3_block1_0_bn (BatchNormal  (None, 32, 32, 512)  2048       ['conv3_block1_0_conv[0][0]']    \n",
            " ization)                                                                                         \n",
            "                                                                                                  \n",
            " conv3_block1_3_bn (BatchNormal  (None, 32, 32, 512)  2048       ['conv3_block1_3_conv[0][0]']    \n",
            " ization)                                                                                         \n",
            "                                                                                                  \n",
            " conv3_block1_add (Add)         (None, 32, 32, 512)  0           ['conv3_block1_0_bn[0][0]',      \n",
            "                                                                  'conv3_block1_3_bn[0][0]']      \n",
            "                                                                                                  \n",
            " conv3_block1_out (Activation)  (None, 32, 32, 512)  0           ['conv3_block1_add[0][0]']       \n",
            "                                                                                                  \n",
            " conv3_block2_1_conv (Conv2D)   (None, 32, 32, 128)  65664       ['conv3_block1_out[0][0]']       \n",
            "                                                                                                  \n",
            " conv3_block2_1_bn (BatchNormal  (None, 32, 32, 128)  512        ['conv3_block2_1_conv[0][0]']    \n",
            " ization)                                                                                         \n",
            "                                                                                                  \n",
            " conv3_block2_1_relu (Activatio  (None, 32, 32, 128)  0          ['conv3_block2_1_bn[0][0]']      \n",
            " n)                                                                                               \n",
            "                                                                                                  \n",
            " conv3_block2_2_conv (Conv2D)   (None, 32, 32, 128)  147584      ['conv3_block2_1_relu[0][0]']    \n",
            "                                                                                                  \n",
            " conv3_block2_2_bn (BatchNormal  (None, 32, 32, 128)  512        ['conv3_block2_2_conv[0][0]']    \n",
            " ization)                                                                                         \n",
            "                                                                                                  \n",
            " conv3_block2_2_relu (Activatio  (None, 32, 32, 128)  0          ['conv3_block2_2_bn[0][0]']      \n",
            " n)                                                                                               \n",
            "                                                                                                  \n",
            " conv3_block2_3_conv (Conv2D)   (None, 32, 32, 512)  66048       ['conv3_block2_2_relu[0][0]']    \n",
            "                                                                                                  \n",
            " conv3_block2_3_bn (BatchNormal  (None, 32, 32, 512)  2048       ['conv3_block2_3_conv[0][0]']    \n",
            " ization)                                                                                         \n",
            "                                                                                                  \n",
            " conv3_block2_add (Add)         (None, 32, 32, 512)  0           ['conv3_block1_out[0][0]',       \n",
            "                                                                  'conv3_block2_3_bn[0][0]']      \n",
            "                                                                                                  \n",
            " conv3_block2_out (Activation)  (None, 32, 32, 512)  0           ['conv3_block2_add[0][0]']       \n",
            "                                                                                                  \n",
            " conv3_block3_1_conv (Conv2D)   (None, 32, 32, 128)  65664       ['conv3_block2_out[0][0]']       \n",
            "                                                                                                  \n",
            " conv3_block3_1_bn (BatchNormal  (None, 32, 32, 128)  512        ['conv3_block3_1_conv[0][0]']    \n",
            " ization)                                                                                         \n",
            "                                                                                                  \n",
            " conv3_block3_1_relu (Activatio  (None, 32, 32, 128)  0          ['conv3_block3_1_bn[0][0]']      \n",
            " n)                                                                                               \n",
            "                                                                                                  \n",
            " conv3_block3_2_conv (Conv2D)   (None, 32, 32, 128)  147584      ['conv3_block3_1_relu[0][0]']    \n",
            "                                                                                                  \n",
            " conv3_block3_2_bn (BatchNormal  (None, 32, 32, 128)  512        ['conv3_block3_2_conv[0][0]']    \n",
            " ization)                                                                                         \n",
            "                                                                                                  \n",
            " conv3_block3_2_relu (Activatio  (None, 32, 32, 128)  0          ['conv3_block3_2_bn[0][0]']      \n",
            " n)                                                                                               \n",
            "                                                                                                  \n",
            " conv3_block3_3_conv (Conv2D)   (None, 32, 32, 512)  66048       ['conv3_block3_2_relu[0][0]']    \n",
            "                                                                                                  \n",
            " conv3_block3_3_bn (BatchNormal  (None, 32, 32, 512)  2048       ['conv3_block3_3_conv[0][0]']    \n",
            " ization)                                                                                         \n",
            "                                                                                                  \n",
            " conv3_block3_add (Add)         (None, 32, 32, 512)  0           ['conv3_block2_out[0][0]',       \n",
            "                                                                  'conv3_block3_3_bn[0][0]']      \n",
            "                                                                                                  \n",
            " conv3_block3_out (Activation)  (None, 32, 32, 512)  0           ['conv3_block3_add[0][0]']       \n",
            "                                                                                                  \n",
            " conv3_block4_1_conv (Conv2D)   (None, 32, 32, 128)  65664       ['conv3_block3_out[0][0]']       \n",
            "                                                                                                  \n",
            " conv3_block4_1_bn (BatchNormal  (None, 32, 32, 128)  512        ['conv3_block4_1_conv[0][0]']    \n",
            " ization)                                                                                         \n",
            "                                                                                                  \n",
            " conv3_block4_1_relu (Activatio  (None, 32, 32, 128)  0          ['conv3_block4_1_bn[0][0]']      \n",
            " n)                                                                                               \n",
            "                                                                                                  \n",
            " conv3_block4_2_conv (Conv2D)   (None, 32, 32, 128)  147584      ['conv3_block4_1_relu[0][0]']    \n",
            "                                                                                                  \n",
            " conv3_block4_2_bn (BatchNormal  (None, 32, 32, 128)  512        ['conv3_block4_2_conv[0][0]']    \n",
            " ization)                                                                                         \n",
            "                                                                                                  \n",
            " conv3_block4_2_relu (Activatio  (None, 32, 32, 128)  0          ['conv3_block4_2_bn[0][0]']      \n",
            " n)                                                                                               \n",
            "                                                                                                  \n",
            " conv3_block4_3_conv (Conv2D)   (None, 32, 32, 512)  66048       ['conv3_block4_2_relu[0][0]']    \n",
            "                                                                                                  \n",
            " conv3_block4_3_bn (BatchNormal  (None, 32, 32, 512)  2048       ['conv3_block4_3_conv[0][0]']    \n",
            " ization)                                                                                         \n",
            "                                                                                                  \n",
            " conv3_block4_add (Add)         (None, 32, 32, 512)  0           ['conv3_block3_out[0][0]',       \n",
            "                                                                  'conv3_block4_3_bn[0][0]']      \n",
            "                                                                                                  \n",
            " conv3_block4_out (Activation)  (None, 32, 32, 512)  0           ['conv3_block4_add[0][0]']       \n",
            "                                                                                                  \n",
            " conv4_block1_1_conv (Conv2D)   (None, 16, 16, 256)  131328      ['conv3_block4_out[0][0]']       \n",
            "                                                                                                  \n",
            " conv4_block1_1_bn (BatchNormal  (None, 16, 16, 256)  1024       ['conv4_block1_1_conv[0][0]']    \n",
            " ization)                                                                                         \n",
            "                                                                                                  \n",
            " conv4_block1_1_relu (Activatio  (None, 16, 16, 256)  0          ['conv4_block1_1_bn[0][0]']      \n",
            " n)                                                                                               \n",
            "                                                                                                  \n",
            " conv4_block1_2_conv (Conv2D)   (None, 16, 16, 256)  590080      ['conv4_block1_1_relu[0][0]']    \n",
            "                                                                                                  \n",
            " conv4_block1_2_bn (BatchNormal  (None, 16, 16, 256)  1024       ['conv4_block1_2_conv[0][0]']    \n",
            " ization)                                                                                         \n",
            "                                                                                                  \n",
            " conv4_block1_2_relu (Activatio  (None, 16, 16, 256)  0          ['conv4_block1_2_bn[0][0]']      \n",
            " n)                                                                                               \n",
            "                                                                                                  \n",
            " conv4_block1_0_conv (Conv2D)   (None, 16, 16, 1024  525312      ['conv3_block4_out[0][0]']       \n",
            "                                )                                                                 \n",
            "                                                                                                  \n",
            " conv4_block1_3_conv (Conv2D)   (None, 16, 16, 1024  263168      ['conv4_block1_2_relu[0][0]']    \n",
            "                                )                                                                 \n",
            "                                                                                                  \n",
            " conv4_block1_0_bn (BatchNormal  (None, 16, 16, 1024  4096       ['conv4_block1_0_conv[0][0]']    \n",
            " ization)                       )                                                                 \n",
            "                                                                                                  \n",
            " conv4_block1_3_bn (BatchNormal  (None, 16, 16, 1024  4096       ['conv4_block1_3_conv[0][0]']    \n",
            " ization)                       )                                                                 \n",
            "                                                                                                  \n",
            " conv4_block1_add (Add)         (None, 16, 16, 1024  0           ['conv4_block1_0_bn[0][0]',      \n",
            "                                )                                 'conv4_block1_3_bn[0][0]']      \n",
            "                                                                                                  \n",
            " conv4_block1_out (Activation)  (None, 16, 16, 1024  0           ['conv4_block1_add[0][0]']       \n",
            "                                )                                                                 \n",
            "                                                                                                  \n",
            " conv4_block2_1_conv (Conv2D)   (None, 16, 16, 256)  262400      ['conv4_block1_out[0][0]']       \n",
            "                                                                                                  \n",
            " conv4_block2_1_bn (BatchNormal  (None, 16, 16, 256)  1024       ['conv4_block2_1_conv[0][0]']    \n",
            " ization)                                                                                         \n",
            "                                                                                                  \n",
            " conv4_block2_1_relu (Activatio  (None, 16, 16, 256)  0          ['conv4_block2_1_bn[0][0]']      \n",
            " n)                                                                                               \n",
            "                                                                                                  \n",
            " conv4_block2_2_conv (Conv2D)   (None, 16, 16, 256)  590080      ['conv4_block2_1_relu[0][0]']    \n",
            "                                                                                                  \n",
            " conv4_block2_2_bn (BatchNormal  (None, 16, 16, 256)  1024       ['conv4_block2_2_conv[0][0]']    \n",
            " ization)                                                                                         \n",
            "                                                                                                  \n",
            " conv4_block2_2_relu (Activatio  (None, 16, 16, 256)  0          ['conv4_block2_2_bn[0][0]']      \n",
            " n)                                                                                               \n",
            "                                                                                                  \n",
            " conv4_block2_3_conv (Conv2D)   (None, 16, 16, 1024  263168      ['conv4_block2_2_relu[0][0]']    \n",
            "                                )                                                                 \n",
            "                                                                                                  \n",
            " conv4_block2_3_bn (BatchNormal  (None, 16, 16, 1024  4096       ['conv4_block2_3_conv[0][0]']    \n",
            " ization)                       )                                                                 \n",
            "                                                                                                  \n",
            " conv4_block2_add (Add)         (None, 16, 16, 1024  0           ['conv4_block1_out[0][0]',       \n",
            "                                )                                 'conv4_block2_3_bn[0][0]']      \n",
            "                                                                                                  \n",
            " conv4_block2_out (Activation)  (None, 16, 16, 1024  0           ['conv4_block2_add[0][0]']       \n",
            "                                )                                                                 \n",
            "                                                                                                  \n",
            " conv4_block3_1_conv (Conv2D)   (None, 16, 16, 256)  262400      ['conv4_block2_out[0][0]']       \n",
            "                                                                                                  \n",
            " conv4_block3_1_bn (BatchNormal  (None, 16, 16, 256)  1024       ['conv4_block3_1_conv[0][0]']    \n",
            " ization)                                                                                         \n",
            "                                                                                                  \n",
            " conv4_block3_1_relu (Activatio  (None, 16, 16, 256)  0          ['conv4_block3_1_bn[0][0]']      \n",
            " n)                                                                                               \n",
            "                                                                                                  \n",
            " conv4_block3_2_conv (Conv2D)   (None, 16, 16, 256)  590080      ['conv4_block3_1_relu[0][0]']    \n",
            "                                                                                                  \n",
            " conv4_block3_2_bn (BatchNormal  (None, 16, 16, 256)  1024       ['conv4_block3_2_conv[0][0]']    \n",
            " ization)                                                                                         \n",
            "                                                                                                  \n",
            " conv4_block3_2_relu (Activatio  (None, 16, 16, 256)  0          ['conv4_block3_2_bn[0][0]']      \n",
            " n)                                                                                               \n",
            "                                                                                                  \n",
            " conv4_block3_3_conv (Conv2D)   (None, 16, 16, 1024  263168      ['conv4_block3_2_relu[0][0]']    \n",
            "                                )                                                                 \n",
            "                                                                                                  \n",
            " conv4_block3_3_bn (BatchNormal  (None, 16, 16, 1024  4096       ['conv4_block3_3_conv[0][0]']    \n",
            " ization)                       )                                                                 \n",
            "                                                                                                  \n",
            " conv4_block3_add (Add)         (None, 16, 16, 1024  0           ['conv4_block2_out[0][0]',       \n",
            "                                )                                 'conv4_block3_3_bn[0][0]']      \n",
            "                                                                                                  \n",
            " conv4_block3_out (Activation)  (None, 16, 16, 1024  0           ['conv4_block3_add[0][0]']       \n",
            "                                )                                                                 \n",
            "                                                                                                  \n",
            " conv4_block4_1_conv (Conv2D)   (None, 16, 16, 256)  262400      ['conv4_block3_out[0][0]']       \n",
            "                                                                                                  \n",
            " conv4_block4_1_bn (BatchNormal  (None, 16, 16, 256)  1024       ['conv4_block4_1_conv[0][0]']    \n",
            " ization)                                                                                         \n",
            "                                                                                                  \n",
            " conv4_block4_1_relu (Activatio  (None, 16, 16, 256)  0          ['conv4_block4_1_bn[0][0]']      \n",
            " n)                                                                                               \n",
            "                                                                                                  \n",
            " conv4_block4_2_conv (Conv2D)   (None, 16, 16, 256)  590080      ['conv4_block4_1_relu[0][0]']    \n",
            "                                                                                                  \n",
            " conv4_block4_2_bn (BatchNormal  (None, 16, 16, 256)  1024       ['conv4_block4_2_conv[0][0]']    \n",
            " ization)                                                                                         \n",
            "                                                                                                  \n",
            " conv4_block4_2_relu (Activatio  (None, 16, 16, 256)  0          ['conv4_block4_2_bn[0][0]']      \n",
            " n)                                                                                               \n",
            "                                                                                                  \n",
            " conv4_block4_3_conv (Conv2D)   (None, 16, 16, 1024  263168      ['conv4_block4_2_relu[0][0]']    \n",
            "                                )                                                                 \n",
            "                                                                                                  \n",
            " conv4_block4_3_bn (BatchNormal  (None, 16, 16, 1024  4096       ['conv4_block4_3_conv[0][0]']    \n",
            " ization)                       )                                                                 \n",
            "                                                                                                  \n",
            " conv4_block4_add (Add)         (None, 16, 16, 1024  0           ['conv4_block3_out[0][0]',       \n",
            "                                )                                 'conv4_block4_3_bn[0][0]']      \n",
            "                                                                                                  \n",
            " conv4_block4_out (Activation)  (None, 16, 16, 1024  0           ['conv4_block4_add[0][0]']       \n",
            "                                )                                                                 \n",
            "                                                                                                  \n",
            " conv4_block5_1_conv (Conv2D)   (None, 16, 16, 256)  262400      ['conv4_block4_out[0][0]']       \n",
            "                                                                                                  \n",
            " conv4_block5_1_bn (BatchNormal  (None, 16, 16, 256)  1024       ['conv4_block5_1_conv[0][0]']    \n",
            " ization)                                                                                         \n",
            "                                                                                                  \n",
            " conv4_block5_1_relu (Activatio  (None, 16, 16, 256)  0          ['conv4_block5_1_bn[0][0]']      \n",
            " n)                                                                                               \n",
            "                                                                                                  \n",
            " conv4_block5_2_conv (Conv2D)   (None, 16, 16, 256)  590080      ['conv4_block5_1_relu[0][0]']    \n",
            "                                                                                                  \n",
            " conv4_block5_2_bn (BatchNormal  (None, 16, 16, 256)  1024       ['conv4_block5_2_conv[0][0]']    \n",
            " ization)                                                                                         \n",
            "                                                                                                  \n",
            " conv4_block5_2_relu (Activatio  (None, 16, 16, 256)  0          ['conv4_block5_2_bn[0][0]']      \n",
            " n)                                                                                               \n",
            "                                                                                                  \n",
            " conv4_block5_3_conv (Conv2D)   (None, 16, 16, 1024  263168      ['conv4_block5_2_relu[0][0]']    \n",
            "                                )                                                                 \n",
            "                                                                                                  \n",
            " conv4_block5_3_bn (BatchNormal  (None, 16, 16, 1024  4096       ['conv4_block5_3_conv[0][0]']    \n",
            " ization)                       )                                                                 \n",
            "                                                                                                  \n",
            " conv4_block5_add (Add)         (None, 16, 16, 1024  0           ['conv4_block4_out[0][0]',       \n",
            "                                )                                 'conv4_block5_3_bn[0][0]']      \n",
            "                                                                                                  \n",
            " conv4_block5_out (Activation)  (None, 16, 16, 1024  0           ['conv4_block5_add[0][0]']       \n",
            "                                )                                                                 \n",
            "                                                                                                  \n",
            " conv4_block6_1_conv (Conv2D)   (None, 16, 16, 256)  262400      ['conv4_block5_out[0][0]']       \n",
            "                                                                                                  \n",
            " conv4_block6_1_bn (BatchNormal  (None, 16, 16, 256)  1024       ['conv4_block6_1_conv[0][0]']    \n",
            " ization)                                                                                         \n",
            "                                                                                                  \n",
            " conv4_block6_1_relu (Activatio  (None, 16, 16, 256)  0          ['conv4_block6_1_bn[0][0]']      \n",
            " n)                                                                                               \n",
            "                                                                                                  \n",
            " conv4_block6_2_conv (Conv2D)   (None, 16, 16, 256)  590080      ['conv4_block6_1_relu[0][0]']    \n",
            "                                                                                                  \n",
            " conv4_block6_2_bn (BatchNormal  (None, 16, 16, 256)  1024       ['conv4_block6_2_conv[0][0]']    \n",
            " ization)                                                                                         \n",
            "                                                                                                  \n",
            " conv4_block6_2_relu (Activatio  (None, 16, 16, 256)  0          ['conv4_block6_2_bn[0][0]']      \n",
            " n)                                                                                               \n",
            "                                                                                                  \n",
            " conv4_block6_3_conv (Conv2D)   (None, 16, 16, 1024  263168      ['conv4_block6_2_relu[0][0]']    \n",
            "                                )                                                                 \n",
            "                                                                                                  \n",
            " conv4_block6_3_bn (BatchNormal  (None, 16, 16, 1024  4096       ['conv4_block6_3_conv[0][0]']    \n",
            " ization)                       )                                                                 \n",
            "                                                                                                  \n",
            " conv4_block6_add (Add)         (None, 16, 16, 1024  0           ['conv4_block5_out[0][0]',       \n",
            "                                )                                 'conv4_block6_3_bn[0][0]']      \n",
            "                                                                                                  \n",
            " conv4_block6_out (Activation)  (None, 16, 16, 1024  0           ['conv4_block6_add[0][0]']       \n",
            "                                )                                                                 \n",
            "                                                                                                  \n",
            " conv5_block1_1_conv (Conv2D)   (None, 8, 8, 512)    524800      ['conv4_block6_out[0][0]']       \n",
            "                                                                                                  \n",
            " conv5_block1_1_bn (BatchNormal  (None, 8, 8, 512)   2048        ['conv5_block1_1_conv[0][0]']    \n",
            " ization)                                                                                         \n",
            "                                                                                                  \n",
            " conv5_block1_1_relu (Activatio  (None, 8, 8, 512)   0           ['conv5_block1_1_bn[0][0]']      \n",
            " n)                                                                                               \n",
            "                                                                                                  \n",
            " conv5_block1_2_conv (Conv2D)   (None, 8, 8, 512)    2359808     ['conv5_block1_1_relu[0][0]']    \n",
            "                                                                                                  \n",
            " conv5_block1_2_bn (BatchNormal  (None, 8, 8, 512)   2048        ['conv5_block1_2_conv[0][0]']    \n",
            " ization)                                                                                         \n",
            "                                                                                                  \n",
            " conv5_block1_2_relu (Activatio  (None, 8, 8, 512)   0           ['conv5_block1_2_bn[0][0]']      \n",
            " n)                                                                                               \n",
            "                                                                                                  \n",
            " conv5_block1_0_conv (Conv2D)   (None, 8, 8, 2048)   2099200     ['conv4_block6_out[0][0]']       \n",
            "                                                                                                  \n",
            " conv5_block1_3_conv (Conv2D)   (None, 8, 8, 2048)   1050624     ['conv5_block1_2_relu[0][0]']    \n",
            "                                                                                                  \n",
            " conv5_block1_0_bn (BatchNormal  (None, 8, 8, 2048)  8192        ['conv5_block1_0_conv[0][0]']    \n",
            " ization)                                                                                         \n",
            "                                                                                                  \n",
            " conv5_block1_3_bn (BatchNormal  (None, 8, 8, 2048)  8192        ['conv5_block1_3_conv[0][0]']    \n",
            " ization)                                                                                         \n",
            "                                                                                                  \n",
            " conv5_block1_add (Add)         (None, 8, 8, 2048)   0           ['conv5_block1_0_bn[0][0]',      \n",
            "                                                                  'conv5_block1_3_bn[0][0]']      \n",
            "                                                                                                  \n",
            " conv5_block1_out (Activation)  (None, 8, 8, 2048)   0           ['conv5_block1_add[0][0]']       \n",
            "                                                                                                  \n",
            " conv5_block2_1_conv (Conv2D)   (None, 8, 8, 512)    1049088     ['conv5_block1_out[0][0]']       \n",
            "                                                                                                  \n",
            " conv5_block2_1_bn (BatchNormal  (None, 8, 8, 512)   2048        ['conv5_block2_1_conv[0][0]']    \n",
            " ization)                                                                                         \n",
            "                                                                                                  \n",
            " conv5_block2_1_relu (Activatio  (None, 8, 8, 512)   0           ['conv5_block2_1_bn[0][0]']      \n",
            " n)                                                                                               \n",
            "                                                                                                  \n",
            " conv5_block2_2_conv (Conv2D)   (None, 8, 8, 512)    2359808     ['conv5_block2_1_relu[0][0]']    \n",
            "                                                                                                  \n",
            " conv5_block2_2_bn (BatchNormal  (None, 8, 8, 512)   2048        ['conv5_block2_2_conv[0][0]']    \n",
            " ization)                                                                                         \n",
            "                                                                                                  \n",
            " conv5_block2_2_relu (Activatio  (None, 8, 8, 512)   0           ['conv5_block2_2_bn[0][0]']      \n",
            " n)                                                                                               \n",
            "                                                                                                  \n",
            " conv5_block2_3_conv (Conv2D)   (None, 8, 8, 2048)   1050624     ['conv5_block2_2_relu[0][0]']    \n",
            "                                                                                                  \n",
            " conv5_block2_3_bn (BatchNormal  (None, 8, 8, 2048)  8192        ['conv5_block2_3_conv[0][0]']    \n",
            " ization)                                                                                         \n",
            "                                                                                                  \n",
            " conv5_block2_add (Add)         (None, 8, 8, 2048)   0           ['conv5_block1_out[0][0]',       \n",
            "                                                                  'conv5_block2_3_bn[0][0]']      \n",
            "                                                                                                  \n",
            " conv5_block2_out (Activation)  (None, 8, 8, 2048)   0           ['conv5_block2_add[0][0]']       \n",
            "                                                                                                  \n",
            " conv5_block3_1_conv (Conv2D)   (None, 8, 8, 512)    1049088     ['conv5_block2_out[0][0]']       \n",
            "                                                                                                  \n",
            " conv5_block3_1_bn (BatchNormal  (None, 8, 8, 512)   2048        ['conv5_block3_1_conv[0][0]']    \n",
            " ization)                                                                                         \n",
            "                                                                                                  \n",
            " conv5_block3_1_relu (Activatio  (None, 8, 8, 512)   0           ['conv5_block3_1_bn[0][0]']      \n",
            " n)                                                                                               \n",
            "                                                                                                  \n",
            " conv5_block3_2_conv (Conv2D)   (None, 8, 8, 512)    2359808     ['conv5_block3_1_relu[0][0]']    \n",
            "                                                                                                  \n",
            " conv5_block3_2_bn (BatchNormal  (None, 8, 8, 512)   2048        ['conv5_block3_2_conv[0][0]']    \n",
            " ization)                                                                                         \n",
            "                                                                                                  \n",
            " conv5_block3_2_relu (Activatio  (None, 8, 8, 512)   0           ['conv5_block3_2_bn[0][0]']      \n",
            " n)                                                                                               \n",
            "                                                                                                  \n",
            " conv5_block3_3_conv (Conv2D)   (None, 8, 8, 2048)   1050624     ['conv5_block3_2_relu[0][0]']    \n",
            "                                                                                                  \n",
            " conv5_block3_3_bn (BatchNormal  (None, 8, 8, 2048)  8192        ['conv5_block3_3_conv[0][0]']    \n",
            " ization)                                                                                         \n",
            "                                                                                                  \n",
            " conv5_block3_add (Add)         (None, 8, 8, 2048)   0           ['conv5_block2_out[0][0]',       \n",
            "                                                                  'conv5_block3_3_bn[0][0]']      \n",
            "                                                                                                  \n",
            " conv5_block3_out (Activation)  (None, 8, 8, 2048)   0           ['conv5_block3_add[0][0]']       \n",
            "                                                                                                  \n",
            "==================================================================================================\n",
            "Total params: 23,587,712\n",
            "Trainable params: 23,534,592\n",
            "Non-trainable params: 53,120\n",
            "__________________________________________________________________________________________________\n"
          ]
        }
      ],
      "source": [
        "#Check to ensure there is no prediction layer\n",
        "rn50.summary()"
      ]
    },
    {
      "cell_type": "code",
      "execution_count": null,
      "metadata": {
        "id": "aNhh3jmfAzGG"
      },
      "outputs": [],
      "source": [
        "#Instantiate a Sequential model\n",
        "rn50_model = Sequential()\n",
        "\n",
        "#Input Layer\n",
        "rn50_model.add(rn50)\n",
        "\n",
        "rn50_model.add(layers.Flatten())\n",
        "\n",
        "#Add Dense Layer\n",
        "rn50_model.add(layers.Dense(64, activation='relu'))\n",
        "\n",
        "#Output Layer\n",
        "rn50_model.add(layers.Dense(10, activation='softmax'))"
      ]
    },
    {
      "cell_type": "code",
      "execution_count": null,
      "metadata": {
        "colab": {
          "base_uri": "https://localhost:8080/"
        },
        "id": "2VYCAwzwAzGG",
        "outputId": "5c82a66d-dca5-4e71-997c-46b181588044"
      },
      "outputs": [
        {
          "name": "stdout",
          "output_type": "stream",
          "text": [
            "resnet50 True\n",
            "flatten True\n",
            "dense True\n",
            "dense_1 True\n",
            "216\n"
          ]
        }
      ],
      "source": [
        "# Check whether a layer is trainable (or alter its setting) through the layer.trainable attribute\n",
        "for layer in rn50_model.layers:\n",
        "    print(layer.name, layer.trainable)\n",
        "\n",
        "# Similarly, you can check how many trainable weights are in the model\n",
        "print(len(rn50_model.trainable_weights))"
      ]
    },
    {
      "cell_type": "code",
      "execution_count": null,
      "metadata": {
        "colab": {
          "base_uri": "https://localhost:8080/"
        },
        "id": "j-re4Tc-AzGG",
        "outputId": "54b85e8d-3308-421c-e421-a6fd364c2a13"
      },
      "outputs": [
        {
          "name": "stdout",
          "output_type": "stream",
          "text": [
            "resnet50 False\n",
            "flatten True\n",
            "dense True\n",
            "dense_1 True\n"
          ]
        }
      ],
      "source": [
        "# Freeze our RN50 Layer\n",
        "rn50.trainable = False\n",
        "\n",
        "# Sanity Check that RN50 layer is frozen\n",
        "for layer in rn50_model.layers:\n",
        "    print(layer.name, layer.trainable)"
      ]
    },
    {
      "cell_type": "code",
      "execution_count": null,
      "metadata": {
        "colab": {
          "base_uri": "https://localhost:8080/"
        },
        "id": "gbHcmiwYAzGG",
        "outputId": "bed4f156-e2b5-4b1b-a355-54878887a3db"
      },
      "outputs": [
        {
          "name": "stdout",
          "output_type": "stream",
          "text": [
            "Model: \"sequential\"\n",
            "_________________________________________________________________\n",
            " Layer (type)                Output Shape              Param #   \n",
            "=================================================================\n",
            " resnet50 (Functional)       (None, 8, 8, 2048)        23587712  \n",
            "                                                                 \n",
            " flatten (Flatten)           (None, 131072)            0         \n",
            "                                                                 \n",
            " dense (Dense)               (None, 64)                8388672   \n",
            "                                                                 \n",
            " dense_1 (Dense)             (None, 10)                650       \n",
            "                                                                 \n",
            "=================================================================\n",
            "Total params: 31,977,034\n",
            "Trainable params: 8,389,322\n",
            "Non-trainable params: 23,587,712\n",
            "_________________________________________________________________\n"
          ]
        }
      ],
      "source": [
        "#Compile the model- adam optimizer, categorical_crossentropy loss, and set our metric to accuracy\n",
        "rn50_model.compile(optimizer='adam',\n",
        "                       loss='categorical_crossentropy',\n",
        "                       metrics=['accuracy'])\n",
        "\n",
        "# print model summary\n",
        "rn50_model.summary()"
      ]
    },
    {
      "cell_type": "code",
      "execution_count": null,
      "metadata": {
        "colab": {
          "base_uri": "https://localhost:8080/"
        },
        "id": "7EhGd-7bAzGH",
        "outputId": "a4387433-1288-4b4f-d688-006a52dfb713"
      },
      "outputs": [
        {
          "name": "stdout",
          "output_type": "stream",
          "text": [
            "Epoch 1/50\n",
            "148/148 [==============================] - 3674s 25s/step - loss: 2.7104 - accuracy: 0.1414 - val_loss: 2.0903 - val_accuracy: 0.2177\n",
            "Epoch 2/50\n",
            "148/148 [==============================] - 68s 461ms/step - loss: 2.0713 - accuracy: 0.2222 - val_loss: 2.0561 - val_accuracy: 0.2307\n",
            "Epoch 3/50\n",
            "148/148 [==============================] - 69s 463ms/step - loss: 2.0331 - accuracy: 0.2361 - val_loss: 2.0107 - val_accuracy: 0.2403\n",
            "Epoch 4/50\n",
            "148/148 [==============================] - 68s 462ms/step - loss: 2.0083 - accuracy: 0.2370 - val_loss: 1.9929 - val_accuracy: 0.2418\n",
            "Epoch 5/50\n",
            "148/148 [==============================] - 68s 460ms/step - loss: 1.9802 - accuracy: 0.2465 - val_loss: 1.9474 - val_accuracy: 0.2725\n",
            "Epoch 6/50\n",
            "148/148 [==============================] - 68s 459ms/step - loss: 1.9423 - accuracy: 0.2570 - val_loss: 1.9547 - val_accuracy: 0.2403\n",
            "Epoch 7/50\n",
            "148/148 [==============================] - 68s 461ms/step - loss: 1.9135 - accuracy: 0.2568 - val_loss: 1.8815 - val_accuracy: 0.2743\n",
            "Epoch 8/50\n",
            "148/148 [==============================] - 69s 463ms/step - loss: 1.8837 - accuracy: 0.2705 - val_loss: 1.8668 - val_accuracy: 0.2929\n",
            "Epoch 9/50\n",
            "148/148 [==============================] - 68s 461ms/step - loss: 1.8704 - accuracy: 0.2720 - val_loss: 1.8368 - val_accuracy: 0.2951\n",
            "Epoch 10/50\n",
            "148/148 [==============================] - 68s 458ms/step - loss: 1.8393 - accuracy: 0.2836 - val_loss: 1.8173 - val_accuracy: 0.2914\n",
            "Epoch 11/50\n",
            "148/148 [==============================] - 68s 461ms/step - loss: 1.8120 - accuracy: 0.2904 - val_loss: 1.7950 - val_accuracy: 0.2995\n",
            "Epoch 12/50\n",
            "148/148 [==============================] - 68s 457ms/step - loss: 1.8245 - accuracy: 0.2773 - val_loss: 1.8384 - val_accuracy: 0.2558\n",
            "Epoch 13/50\n",
            "148/148 [==============================] - 68s 457ms/step - loss: 1.7899 - accuracy: 0.2879 - val_loss: 1.7876 - val_accuracy: 0.2817\n",
            "Epoch 13: early stopping\n"
          ]
        }
      ],
      "source": [
        "# Define Stopping Criteria\n",
        "valcallback = [EarlyStopping(monitor='val_accuracy', mode='max', verbose = 1, patience = 2),\n",
        "               ModelCheckpoint(filepath='rn50_model.h5', monitor='val_accuracy', save_best_only=True)]\n",
        "\n",
        "\n",
        "# Fit the model\n",
        "rn50_model_history = rn50_model.fit(rn_train_generator,\n",
        "                                  epochs= 50,\n",
        "                                  validation_data = rn_val_generator,\n",
        "                                  callbacks= valcallback,\n",
        "                                  batch_size=128,\n",
        "                                  verbose = 1)"
      ]
    },
    {
      "cell_type": "code",
      "execution_count": null,
      "metadata": {
        "colab": {
          "base_uri": "https://localhost:8080/"
        },
        "id": "-yBPiHb-AzGR",
        "outputId": "85851da8-48c0-4eb5-f371-51608bb52b18"
      },
      "outputs": [
        {
          "name": "stdout",
          "output_type": "stream",
          "text": [
            "43/43 [==============================] - 950s 23s/step - loss: 1.7919 - accuracy: 0.2861\n",
            "Test loss:  1.7918556928634644\n",
            "Test accuracy:  0.28611111640930176\n"
          ]
        }
      ],
      "source": [
        "#Check loss and accuracy on test data\n",
        "test_loss, test_acc = rn50_model.evaluate(rn_test_generator, verbose = 1)\n",
        "\n",
        "print('Test loss: ', test_loss)\n",
        "print('Test accuracy: ', test_acc)"
      ]
    },
    {
      "cell_type": "markdown",
      "metadata": {
        "id": "ti_w0xD2AzGR"
      },
      "source": [
        "This ResNet50 model stopped early and scored poorly (28.6% Test accuracy) but was on the right track with no overfitting. Maybe we need to run a different transfer model that works quicker."
      ]
    },
    {
      "cell_type": "markdown",
      "metadata": {
        "id": "8mrRj_ZHAzGR"
      },
      "source": [
        "### Model 14- Transfer Learning: VGG19"
      ]
    },
    {
      "cell_type": "markdown",
      "metadata": {
        "id": "7rACTFRlC5ns"
      },
      "source": [
        "Next we'll try VGG19 which is supposed to work very well with images."
      ]
    },
    {
      "cell_type": "code",
      "execution_count": null,
      "metadata": {
        "colab": {
          "base_uri": "https://localhost:8080/"
        },
        "id": "4P5nH1fNAzGS",
        "outputId": "2dd489d5-4259-4979-fb08-1a90837b384f"
      },
      "outputs": [
        {
          "name": "stdout",
          "output_type": "stream",
          "text": [
            "Found 18909 images belonging to 10 classes.\n",
            "Found 2701 images belonging to 10 classes.\n",
            "Found 5400 images belonging to 10 classes.\n"
          ]
        }
      ],
      "source": [
        "train_folder = '/content/drive/MyDrive/Data/Land_Cover_Classification_Project/data/split/train'\n",
        "test_folder = '/content/drive/MyDrive/Data/Land_Cover_Classification_Project/data/split/test'\n",
        "\n",
        "# Normalize images\n",
        "train_gen = ImageDataGenerator(rescale=1./255,\n",
        "                               preprocessing_function = tf.keras.applications.vgg19.preprocess_input,\n",
        "                               validation_split = 0.125)\n",
        "test_gen = ImageDataGenerator(rescale=1./255,\n",
        "                              preprocessing_function = tf.keras.applications.vgg19.preprocess_input)\n",
        "\n",
        "#Import data as 70% Train (10% Validation of orginal data set) and 20% Test\n",
        "vgg_train_generator = train_gen.flow_from_directory(train_folder,\n",
        "                                                class_mode = 'categorical',\n",
        "                                                subset ='training',\n",
        "                                                batch_size=128,\n",
        "                                                shuffle=True,\n",
        "                                                seed=42)\n",
        "\n",
        "vgg_val_generator= train_gen.flow_from_directory(train_folder,\n",
        "                                             class_mode= 'categorical',\n",
        "                                             subset = \"validation\",\n",
        "                                             batch_size=128,\n",
        "                                             shuffle=True,\n",
        "                                             seed=42)\n",
        "\n",
        "vgg_test_generator= test_gen.flow_from_directory(test_folder,\n",
        "                                              class_mode= 'categorical',\n",
        "                                              batch_size=128,\n",
        "                                              shuffle=False,\n",
        "                                              seed=42)"
      ]
    },
    {
      "cell_type": "code",
      "execution_count": null,
      "metadata": {
        "colab": {
          "base_uri": "https://localhost:8080/"
        },
        "id": "Aw5iBRHIAzGS",
        "outputId": "44656281-4bb0-4133-f43b-9f21c972ef83"
      },
      "outputs": [
        {
          "name": "stdout",
          "output_type": "stream",
          "text": [
            "Downloading data from https://storage.googleapis.com/tensorflow/keras-applications/vgg19/vgg19_weights_tf_dim_ordering_tf_kernels_notop.h5\n",
            "80134624/80134624 [==============================] - 1s 0us/step\n"
          ]
        }
      ],
      "source": [
        "#Reshape our input\n",
        "vgg19 = VGG19(weights='imagenet',\n",
        "              include_top=False,\n",
        "              input_shape=(256, 256, 3))"
      ]
    },
    {
      "cell_type": "code",
      "execution_count": null,
      "metadata": {
        "colab": {
          "base_uri": "https://localhost:8080/"
        },
        "id": "bSpv7I9_AzGS",
        "outputId": "bab245ea-38c6-4a04-9692-7ace04f0819e"
      },
      "outputs": [
        {
          "name": "stdout",
          "output_type": "stream",
          "text": [
            "Model: \"vgg19\"\n",
            "_________________________________________________________________\n",
            " Layer (type)                Output Shape              Param #   \n",
            "=================================================================\n",
            " input_2 (InputLayer)        [(None, 256, 256, 3)]     0         \n",
            "                                                                 \n",
            " block1_conv1 (Conv2D)       (None, 256, 256, 64)      1792      \n",
            "                                                                 \n",
            " block1_conv2 (Conv2D)       (None, 256, 256, 64)      36928     \n",
            "                                                                 \n",
            " block1_pool (MaxPooling2D)  (None, 128, 128, 64)      0         \n",
            "                                                                 \n",
            " block2_conv1 (Conv2D)       (None, 128, 128, 128)     73856     \n",
            "                                                                 \n",
            " block2_conv2 (Conv2D)       (None, 128, 128, 128)     147584    \n",
            "                                                                 \n",
            " block2_pool (MaxPooling2D)  (None, 64, 64, 128)       0         \n",
            "                                                                 \n",
            " block3_conv1 (Conv2D)       (None, 64, 64, 256)       295168    \n",
            "                                                                 \n",
            " block3_conv2 (Conv2D)       (None, 64, 64, 256)       590080    \n",
            "                                                                 \n",
            " block3_conv3 (Conv2D)       (None, 64, 64, 256)       590080    \n",
            "                                                                 \n",
            " block3_conv4 (Conv2D)       (None, 64, 64, 256)       590080    \n",
            "                                                                 \n",
            " block3_pool (MaxPooling2D)  (None, 32, 32, 256)       0         \n",
            "                                                                 \n",
            " block4_conv1 (Conv2D)       (None, 32, 32, 512)       1180160   \n",
            "                                                                 \n",
            " block4_conv2 (Conv2D)       (None, 32, 32, 512)       2359808   \n",
            "                                                                 \n",
            " block4_conv3 (Conv2D)       (None, 32, 32, 512)       2359808   \n",
            "                                                                 \n",
            " block4_conv4 (Conv2D)       (None, 32, 32, 512)       2359808   \n",
            "                                                                 \n",
            " block4_pool (MaxPooling2D)  (None, 16, 16, 512)       0         \n",
            "                                                                 \n",
            " block5_conv1 (Conv2D)       (None, 16, 16, 512)       2359808   \n",
            "                                                                 \n",
            " block5_conv2 (Conv2D)       (None, 16, 16, 512)       2359808   \n",
            "                                                                 \n",
            " block5_conv3 (Conv2D)       (None, 16, 16, 512)       2359808   \n",
            "                                                                 \n",
            " block5_conv4 (Conv2D)       (None, 16, 16, 512)       2359808   \n",
            "                                                                 \n",
            " block5_pool (MaxPooling2D)  (None, 8, 8, 512)         0         \n",
            "                                                                 \n",
            "=================================================================\n",
            "Total params: 20,024,384\n",
            "Trainable params: 20,024,384\n",
            "Non-trainable params: 0\n",
            "_________________________________________________________________\n"
          ]
        }
      ],
      "source": [
        "#Check to ensure there is no prediction layer\n",
        "vgg19.summary()"
      ]
    },
    {
      "cell_type": "code",
      "execution_count": null,
      "metadata": {
        "id": "m8ckXMWXAzGS"
      },
      "outputs": [],
      "source": [
        "#Instantiate a Sequential model\n",
        "vgg_model = Sequential()\n",
        "\n",
        "#Input Layer\n",
        "# vgg_model.add(vgg)\n",
        "vgg_model.add(vgg19)\n",
        "\n",
        "vgg_model.add(layers.Flatten())\n",
        "\n",
        "#Add Dense Layer\n",
        "vgg_model.add(layers.Dense(64, activation='relu'))\n",
        "\n",
        "#Output Layer\n",
        "vgg_model.add(layers.Dense(10, activation='softmax'))"
      ]
    },
    {
      "cell_type": "code",
      "execution_count": null,
      "metadata": {
        "colab": {
          "base_uri": "https://localhost:8080/"
        },
        "id": "Q9AodJqpAzGW",
        "outputId": "b37839a1-5705-4b0f-84b3-356af7e7aaa3"
      },
      "outputs": [
        {
          "name": "stdout",
          "output_type": "stream",
          "text": [
            "vgg19 True\n",
            "flatten_1 True\n",
            "dense_2 True\n",
            "dense_3 True\n",
            "36\n"
          ]
        }
      ],
      "source": [
        "# Check whether a layer is trainable (or alter its setting) through the layer.trainable attribute\n",
        "for layer in vgg_model.layers:\n",
        "    print(layer.name, layer.trainable)\n",
        "\n",
        "# Similarly, you can check how many trainable weights are in the model\n",
        "print(len(vgg_model.trainable_weights))"
      ]
    },
    {
      "cell_type": "code",
      "execution_count": null,
      "metadata": {
        "colab": {
          "base_uri": "https://localhost:8080/"
        },
        "id": "6f47SHT_AzGW",
        "outputId": "7ed04b92-ede3-401e-de5c-0dd7cd50736c"
      },
      "outputs": [
        {
          "name": "stdout",
          "output_type": "stream",
          "text": [
            "vgg19 False\n",
            "flatten_1 True\n",
            "dense_2 True\n",
            "dense_3 True\n"
          ]
        }
      ],
      "source": [
        "#Freeze our VGG19 Layer\n",
        "vgg19.trainable = False\n",
        "\n",
        "#Sanity check that VGG19 Layer is frozen\n",
        "for layer in vgg_model.layers:\n",
        "    print(layer.name, layer.trainable)"
      ]
    },
    {
      "cell_type": "code",
      "execution_count": null,
      "metadata": {
        "colab": {
          "base_uri": "https://localhost:8080/"
        },
        "id": "Gu-RT8bkAzGW",
        "outputId": "ea3052d4-de88-47df-ff6c-d57e09a9f5e3"
      },
      "outputs": [
        {
          "name": "stdout",
          "output_type": "stream",
          "text": [
            "Model: \"sequential_1\"\n",
            "_________________________________________________________________\n",
            " Layer (type)                Output Shape              Param #   \n",
            "=================================================================\n",
            " vgg19 (Functional)          (None, 8, 8, 512)         20024384  \n",
            "                                                                 \n",
            " flatten_1 (Flatten)         (None, 32768)             0         \n",
            "                                                                 \n",
            " dense_2 (Dense)             (None, 64)                2097216   \n",
            "                                                                 \n",
            " dense_3 (Dense)             (None, 10)                650       \n",
            "                                                                 \n",
            "=================================================================\n",
            "Total params: 22,122,250\n",
            "Trainable params: 2,097,866\n",
            "Non-trainable params: 20,024,384\n",
            "_________________________________________________________________\n"
          ]
        }
      ],
      "source": [
        "#Compile the model- adam optimizer, categorical_crossentropy loss, and set our metric to accuracy\n",
        "vgg_model.compile(optimizer='adam',\n",
        "                       loss='categorical_crossentropy',\n",
        "                       metrics=['accuracy'])\n",
        "\n",
        "# print model summary\n",
        "vgg_model.summary()"
      ]
    },
    {
      "cell_type": "code",
      "execution_count": null,
      "metadata": {
        "colab": {
          "base_uri": "https://localhost:8080/"
        },
        "id": "KDvg4dSOAzGW",
        "outputId": "c8105df0-2d87-48db-df26-941e73d19dbf"
      },
      "outputs": [
        {
          "name": "stdout",
          "output_type": "stream",
          "text": [
            "Epoch 1/50\n",
            "148/148 [==============================] - 77s 483ms/step - loss: 1.3647 - accuracy: 0.5560 - val_loss: 0.8784 - val_accuracy: 0.7116\n",
            "Epoch 2/50\n",
            "148/148 [==============================] - 68s 458ms/step - loss: 0.7692 - accuracy: 0.7433 - val_loss: 0.7042 - val_accuracy: 0.7582\n",
            "Epoch 3/50\n",
            "148/148 [==============================] - 68s 458ms/step - loss: 0.6222 - accuracy: 0.7888 - val_loss: 0.6486 - val_accuracy: 0.7756\n",
            "Epoch 4/50\n",
            "148/148 [==============================] - 68s 457ms/step - loss: 0.5468 - accuracy: 0.8129 - val_loss: 0.6318 - val_accuracy: 0.7816\n",
            "Epoch 5/50\n",
            "148/148 [==============================] - 68s 460ms/step - loss: 0.4730 - accuracy: 0.8388 - val_loss: 0.6117 - val_accuracy: 0.7923\n",
            "Epoch 6/50\n",
            "148/148 [==============================] - 68s 460ms/step - loss: 0.4401 - accuracy: 0.8512 - val_loss: 0.5157 - val_accuracy: 0.8130\n",
            "Epoch 7/50\n",
            "148/148 [==============================] - 68s 460ms/step - loss: 0.3914 - accuracy: 0.8692 - val_loss: 0.5857 - val_accuracy: 0.8034\n",
            "Epoch 8/50\n",
            "148/148 [==============================] - 68s 460ms/step - loss: 0.3659 - accuracy: 0.8762 - val_loss: 0.5061 - val_accuracy: 0.8160\n",
            "Epoch 9/50\n",
            "148/148 [==============================] - 68s 461ms/step - loss: 0.3392 - accuracy: 0.8861 - val_loss: 0.4923 - val_accuracy: 0.8278\n",
            "Epoch 10/50\n",
            "148/148 [==============================] - 68s 462ms/step - loss: 0.3179 - accuracy: 0.8950 - val_loss: 0.4970 - val_accuracy: 0.8319\n",
            "Epoch 11/50\n",
            "148/148 [==============================] - 68s 458ms/step - loss: 0.3194 - accuracy: 0.8934 - val_loss: 0.5266 - val_accuracy: 0.8186\n",
            "Epoch 12/50\n",
            "148/148 [==============================] - 68s 459ms/step - loss: 0.2904 - accuracy: 0.9036 - val_loss: 0.5097 - val_accuracy: 0.8334\n",
            "Epoch 13/50\n",
            "148/148 [==============================] - 68s 459ms/step - loss: 0.2674 - accuracy: 0.9126 - val_loss: 0.5046 - val_accuracy: 0.8193\n",
            "Epoch 14/50\n",
            "148/148 [==============================] - 68s 460ms/step - loss: 0.2558 - accuracy: 0.9161 - val_loss: 0.4686 - val_accuracy: 0.8401\n",
            "Epoch 15/50\n",
            "148/148 [==============================] - 68s 460ms/step - loss: 0.2409 - accuracy: 0.9243 - val_loss: 0.4917 - val_accuracy: 0.8323\n",
            "Epoch 16/50\n",
            "148/148 [==============================] - 68s 456ms/step - loss: 0.2275 - accuracy: 0.9269 - val_loss: 0.4826 - val_accuracy: 0.8330\n",
            "Epoch 16: early stopping\n"
          ]
        }
      ],
      "source": [
        "# Define Stopping Criteria\n",
        "valcallback = [EarlyStopping(monitor='val_accuracy', mode='max', verbose = 1, patience = 5),\n",
        "               ModelCheckpoint(filepath='/content/drive/MyDrive/Data/Land_Cover_Classification_Project/vgg19_model.h5',\n",
        "                               monitor='val_accuracy',\n",
        "                               save_best_only=True,\n",
        "                               mode='max')]\n",
        "\n",
        "\n",
        "# Fit the model\n",
        "vgg_model_history = vgg_model.fit(vgg_train_generator,\n",
        "                                  epochs= 50,\n",
        "                                  validation_data = vgg_val_generator,\n",
        "                                  callbacks= valcallback,\n",
        "                                  batch_size=128,\n",
        "                                  verbose = 1)"
      ]
    },
    {
      "cell_type": "code",
      "execution_count": null,
      "metadata": {
        "colab": {
          "base_uri": "https://localhost:8080/"
        },
        "id": "Ee2jpdBPAzGa",
        "outputId": "92065830-2d02-47f8-d3b2-3717daff1728"
      },
      "outputs": [
        {
          "name": "stdout",
          "output_type": "stream",
          "text": [
            "43/43 [==============================] - 18s 409ms/step - loss: 0.4333 - accuracy: 0.8570\n",
            "Test loss:  0.43328657746315\n",
            "Test accuracy:  0.8570370078086853\n"
          ]
        }
      ],
      "source": [
        "# Check loss and accuracy on test data\n",
        "test_loss, test_acc = vgg_model.evaluate(vgg_test_generator, verbose = 1)\n",
        "\n",
        "print('Test loss: ', test_loss)\n",
        "print('Test accuracy: ', test_acc)"
      ]
    },
    {
      "cell_type": "markdown",
      "metadata": {
        "id": "K25_JB9MAzGb"
      },
      "source": [
        "After only 16 Epochs, VGG19 gave us our best Test accuracy at 85.7%. Overfitting was more prevalent in this model however."
      ]
    },
    {
      "cell_type": "markdown",
      "metadata": {
        "id": "qk5hLTnbhXzg"
      },
      "source": [
        "### Model 14- Transfer Learning: VGG19 with added Dense and Dropout Layers"
      ]
    },
    {
      "cell_type": "markdown",
      "metadata": {
        "id": "wcvWGmSJAGmI"
      },
      "source": [
        "Using the same data input and VGG19 model as Model 13 but with two Dense Layers each with a 0.2 Dropout Layer."
      ]
    },
    {
      "cell_type": "code",
      "execution_count": null,
      "metadata": {
        "id": "Qn1RK_ywhY99"
      },
      "outputs": [],
      "source": [
        "#Instantiate a Sequential model\n",
        "vgg2_model = Sequential()\n",
        "\n",
        "#Input Layer\n",
        "vgg2_model.add(vgg19)\n",
        "\n",
        "vgg2_model.add(layers.Flatten())\n",
        "\n",
        "#Add Dense Layer\n",
        "vgg2_model.add(layers.Dense(512, activation='relu'))\n",
        "vgg2_model.add(layers.Dropout(0.2))\n",
        "\n",
        "#Add Dense Layer\n",
        "vgg2_model.add(layers.Dense(64, activation='relu'))\n",
        "vgg2_model.add(layers.Dropout(0.2))\n",
        "\n",
        "#Output Layer\n",
        "vgg2_model.add(layers.Dense(10, activation='softmax'))"
      ]
    },
    {
      "cell_type": "code",
      "execution_count": null,
      "metadata": {
        "colab": {
          "base_uri": "https://localhost:8080/"
        },
        "id": "CmzHRdLShZBl",
        "outputId": "624cf6ea-eca8-4d7e-88a0-eec0be3f7d0a"
      },
      "outputs": [
        {
          "name": "stdout",
          "output_type": "stream",
          "text": [
            "vgg19 False\n",
            "flatten True\n",
            "dense True\n",
            "dropout True\n",
            "dense_1 True\n",
            "dropout_1 True\n",
            "dense_2 True\n"
          ]
        }
      ],
      "source": [
        "#Freeze our VGG19 Layer\n",
        "vgg19.trainable = False\n",
        "\n",
        "#Sanity check that VGG19 Layer is frozen\n",
        "for layer in vgg2_model.layers:\n",
        "    print(layer.name, layer.trainable)"
      ]
    },
    {
      "cell_type": "code",
      "execution_count": null,
      "metadata": {
        "colab": {
          "base_uri": "https://localhost:8080/"
        },
        "id": "U0PyHY9BhZIL",
        "outputId": "d8b76f8d-2b93-4f83-f5ee-fc0757e94cef"
      },
      "outputs": [
        {
          "name": "stdout",
          "output_type": "stream",
          "text": [
            "Model: \"sequential\"\n",
            "_________________________________________________________________\n",
            " Layer (type)                Output Shape              Param #   \n",
            "=================================================================\n",
            " vgg19 (Functional)          (None, 8, 8, 512)         20024384  \n",
            "                                                                 \n",
            " flatten (Flatten)           (None, 32768)             0         \n",
            "                                                                 \n",
            " dense (Dense)               (None, 512)               16777728  \n",
            "                                                                 \n",
            " dropout (Dropout)           (None, 512)               0         \n",
            "                                                                 \n",
            " dense_1 (Dense)             (None, 64)                32832     \n",
            "                                                                 \n",
            " dropout_1 (Dropout)         (None, 64)                0         \n",
            "                                                                 \n",
            " dense_2 (Dense)             (None, 10)                650       \n",
            "                                                                 \n",
            "=================================================================\n",
            "Total params: 36,835,594\n",
            "Trainable params: 16,811,210\n",
            "Non-trainable params: 20,024,384\n",
            "_________________________________________________________________\n"
          ]
        }
      ],
      "source": [
        "#Compile the model- adam optimizer, categorical_crossentropy loss, and set our metric to accuracy\n",
        "vgg2_model.compile(optimizer='adam',\n",
        "                       loss='categorical_crossentropy',\n",
        "                       metrics=['accuracy'])\n",
        "\n",
        "# print model summary\n",
        "vgg2_model.summary()"
      ]
    },
    {
      "cell_type": "code",
      "execution_count": null,
      "metadata": {
        "colab": {
          "base_uri": "https://localhost:8080/"
        },
        "id": "F6FobtchhZLo",
        "outputId": "b35403e4-94e3-4b4d-8af5-d6c72b677cc2"
      },
      "outputs": [
        {
          "name": "stdout",
          "output_type": "stream",
          "text": [
            "Epoch 1/50\n",
            "148/148 [==============================] - 7391s 50s/step - loss: 1.8231 - accuracy: 0.3587 - val_loss: 1.1090 - val_accuracy: 0.6342\n",
            "Epoch 2/50\n",
            "148/148 [==============================] - 71s 477ms/step - loss: 1.0250 - accuracy: 0.6353 - val_loss: 0.7836 - val_accuracy: 0.7212\n",
            "Epoch 3/50\n",
            "148/148 [==============================] - 68s 458ms/step - loss: 0.8505 - accuracy: 0.7015 - val_loss: 0.8172 - val_accuracy: 0.7212\n",
            "Epoch 4/50\n",
            "148/148 [==============================] - 70s 470ms/step - loss: 0.7852 - accuracy: 0.7258 - val_loss: 0.6257 - val_accuracy: 0.7719\n",
            "Epoch 5/50\n",
            "148/148 [==============================] - 71s 476ms/step - loss: 0.7094 - accuracy: 0.7488 - val_loss: 0.6506 - val_accuracy: 0.7775\n",
            "Epoch 6/50\n",
            "148/148 [==============================] - 71s 476ms/step - loss: 0.6755 - accuracy: 0.7652 - val_loss: 0.5656 - val_accuracy: 0.7967\n",
            "Epoch 7/50\n",
            "148/148 [==============================] - 68s 456ms/step - loss: 0.6507 - accuracy: 0.7722 - val_loss: 0.6156 - val_accuracy: 0.7830\n",
            "Epoch 8/50\n",
            "148/148 [==============================] - 68s 456ms/step - loss: 0.6376 - accuracy: 0.7757 - val_loss: 0.5582 - val_accuracy: 0.7949\n",
            "Epoch 9/50\n",
            "148/148 [==============================] - 70s 473ms/step - loss: 0.6022 - accuracy: 0.7889 - val_loss: 0.5788 - val_accuracy: 0.7990\n",
            "Epoch 10/50\n",
            "148/148 [==============================] - 68s 455ms/step - loss: 0.5796 - accuracy: 0.7971 - val_loss: 0.5911 - val_accuracy: 0.7942\n",
            "Epoch 11/50\n",
            "148/148 [==============================] - 71s 478ms/step - loss: 0.5973 - accuracy: 0.7893 - val_loss: 0.5454 - val_accuracy: 0.8156\n",
            "Epoch 12/50\n",
            "148/148 [==============================] - 68s 457ms/step - loss: 0.5398 - accuracy: 0.8083 - val_loss: 0.5916 - val_accuracy: 0.7964\n",
            "Epoch 13/50\n",
            "148/148 [==============================] - 70s 473ms/step - loss: 0.5536 - accuracy: 0.8065 - val_loss: 0.5270 - val_accuracy: 0.8212\n",
            "Epoch 14/50\n",
            "148/148 [==============================] - 68s 456ms/step - loss: 0.5201 - accuracy: 0.8206 - val_loss: 0.5763 - val_accuracy: 0.7971\n",
            "Epoch 15/50\n",
            "148/148 [==============================] - 68s 457ms/step - loss: 0.4856 - accuracy: 0.8303 - val_loss: 0.5492 - val_accuracy: 0.8130\n",
            "Epoch 16/50\n",
            "148/148 [==============================] - 67s 454ms/step - loss: 0.4797 - accuracy: 0.8303 - val_loss: 0.5361 - val_accuracy: 0.8201\n",
            "Epoch 17/50\n",
            "148/148 [==============================] - 68s 456ms/step - loss: 0.5334 - accuracy: 0.8137 - val_loss: 0.5761 - val_accuracy: 0.8064\n",
            "Epoch 18/50\n",
            "148/148 [==============================] - 68s 456ms/step - loss: 0.5072 - accuracy: 0.8255 - val_loss: 0.5535 - val_accuracy: 0.8119\n",
            "Epoch 18: early stopping\n"
          ]
        }
      ],
      "source": [
        "# Define Stopping Criteria\n",
        "valcallback = [EarlyStopping(monitor='val_accuracy', mode='max', verbose = 1, patience = 5),\n",
        "               ModelCheckpoint(filepath='/content/drive/MyDrive/Data/Land_Cover_Classification_Project/vgg2_model.h5',\n",
        "                               monitor='val_accuracy',\n",
        "                               save_best_only=True,\n",
        "                               mode='max')]\n",
        "\n",
        "\n",
        "# Fit the model\n",
        "vgg2_model_history = vgg2_model.fit(vgg_train_generator,\n",
        "                                  epochs= 50,\n",
        "                                  validation_data = vgg_val_generator,\n",
        "                                  callbacks= valcallback,\n",
        "                                  batch_size=128,\n",
        "                                  verbose = 1)"
      ]
    },
    {
      "cell_type": "code",
      "execution_count": null,
      "metadata": {
        "colab": {
          "base_uri": "https://localhost:8080/"
        },
        "id": "Dee2hscHhZOj",
        "outputId": "dbba47bd-4ca7-4728-aad0-65e0401ed6c1"
      },
      "outputs": [
        {
          "name": "stdout",
          "output_type": "stream",
          "text": [
            "43/43 [==============================] - 1876s 45s/step - loss: 0.5056 - accuracy: 0.8309\n",
            "Test loss:  0.505621612071991\n",
            "Test accuracy:  0.8309259414672852\n"
          ]
        }
      ],
      "source": [
        "# Check loss and accuracy on test data\n",
        "test_loss, test_acc = vgg2_model.evaluate(vgg_test_generator, verbose = 1)\n",
        "\n",
        "print('Test loss: ', test_loss)\n",
        "print('Test accuracy: ', test_acc)"
      ]
    },
    {
      "cell_type": "markdown",
      "metadata": {
        "id": "jLoUolTgC5nu"
      },
      "source": [
        "Our dropout layers seem to fix overfitting but also lowered our accuracy a bit (83.09% Test accuracy)."
      ]
    },
    {
      "cell_type": "markdown",
      "metadata": {
        "id": "d8orbEr3_9t_"
      },
      "source": [
        "### Model 15- Transfer Learning: VGG19 with Augmentation and Regularization"
      ]
    },
    {
      "cell_type": "markdown",
      "metadata": {
        "id": "aQqGzOCY_-Bb"
      },
      "source": [
        "Adding additional images to train on through augmentation and additional dense and dropout layers."
      ]
    },
    {
      "cell_type": "code",
      "execution_count": null,
      "metadata": {
        "colab": {
          "base_uri": "https://localhost:8080/"
        },
        "id": "d8sP-WjzAzGb",
        "outputId": "a14f0262-0fe9-4dec-d735-0995096f068d"
      },
      "outputs": [
        {
          "name": "stdout",
          "output_type": "stream",
          "text": [
            "Found 18909 images belonging to 10 classes.\n",
            "Found 2701 images belonging to 10 classes.\n"
          ]
        }
      ],
      "source": [
        "# Add augmentation (horizontal and vertical flips) to training data but not validation data.\n",
        "\n",
        "train_folder = '/content/drive/MyDrive/Data/Land_Cover_Classification_Project/data/split/train'\n",
        "\n",
        "\n",
        "# Normalize images and Augment with Horizontal and Vertical Flips\n",
        "aug_train_gen = ImageDataGenerator(rescale=1./255,\n",
        "                               horizontal_flip=True,\n",
        "                               vertical_flip=True,\n",
        "                               validation_split = 0.125,\n",
        "                               preprocessing_function = tf.keras.applications.vgg19.preprocess_input)\n",
        "\n",
        "aug_val_gen = ImageDataGenerator(rescale=1./255,\n",
        "                                 validation_split = 0.125,\n",
        "                                 preprocessing_function = tf.keras.applications.vgg19.preprocess_input)\n",
        "\n",
        "\n",
        "#Augment the train data\n",
        "aug_train_generator = aug_train_gen.flow_from_directory(train_folder,\n",
        "                                                class_mode = 'categorical',\n",
        "                                                subset ='training',\n",
        "                                                batch_size=128,\n",
        "                                                shuffle=False,\n",
        "                                                seed=42)\n",
        "\n",
        "aug_val_generator= aug_val_gen.flow_from_directory(train_folder,\n",
        "                                                   class_mode= 'categorical',\n",
        "                                                   subset = \"validation\",\n",
        "                                                   batch_size=128,\n",
        "                                                   shuffle=False,\n",
        "                                                   seed=42)"
      ]
    },
    {
      "cell_type": "code",
      "execution_count": null,
      "metadata": {
        "colab": {
          "base_uri": "https://localhost:8080/"
        },
        "id": "0yJi_1C_-yA1",
        "outputId": "95b4c908-5854-4fe9-9f63-01890bbc9710"
      },
      "outputs": [
        {
          "name": "stdout",
          "output_type": "stream",
          "text": [
            "Downloading data from https://storage.googleapis.com/tensorflow/keras-applications/vgg19/vgg19_weights_tf_dim_ordering_tf_kernels_notop.h5\n",
            "80134624/80134624 [==============================] - 0s 0us/step\n"
          ]
        }
      ],
      "source": [
        "#Reshape our input\n",
        "vgg19 = VGG19(weights='imagenet',\n",
        "              include_top=False,\n",
        "              input_shape=(256, 256, 3))"
      ]
    },
    {
      "cell_type": "code",
      "execution_count": null,
      "metadata": {
        "colab": {
          "base_uri": "https://localhost:8080/"
        },
        "id": "DmFA4-LA-y7L",
        "outputId": "ed6a6f83-77a9-47c8-837f-5ee77d538c9c"
      },
      "outputs": [
        {
          "name": "stdout",
          "output_type": "stream",
          "text": [
            "Model: \"vgg19\"\n",
            "_________________________________________________________________\n",
            " Layer (type)                Output Shape              Param #   \n",
            "=================================================================\n",
            " input_1 (InputLayer)        [(None, 256, 256, 3)]     0         \n",
            "                                                                 \n",
            " block1_conv1 (Conv2D)       (None, 256, 256, 64)      1792      \n",
            "                                                                 \n",
            " block1_conv2 (Conv2D)       (None, 256, 256, 64)      36928     \n",
            "                                                                 \n",
            " block1_pool (MaxPooling2D)  (None, 128, 128, 64)      0         \n",
            "                                                                 \n",
            " block2_conv1 (Conv2D)       (None, 128, 128, 128)     73856     \n",
            "                                                                 \n",
            " block2_conv2 (Conv2D)       (None, 128, 128, 128)     147584    \n",
            "                                                                 \n",
            " block2_pool (MaxPooling2D)  (None, 64, 64, 128)       0         \n",
            "                                                                 \n",
            " block3_conv1 (Conv2D)       (None, 64, 64, 256)       295168    \n",
            "                                                                 \n",
            " block3_conv2 (Conv2D)       (None, 64, 64, 256)       590080    \n",
            "                                                                 \n",
            " block3_conv3 (Conv2D)       (None, 64, 64, 256)       590080    \n",
            "                                                                 \n",
            " block3_conv4 (Conv2D)       (None, 64, 64, 256)       590080    \n",
            "                                                                 \n",
            " block3_pool (MaxPooling2D)  (None, 32, 32, 256)       0         \n",
            "                                                                 \n",
            " block4_conv1 (Conv2D)       (None, 32, 32, 512)       1180160   \n",
            "                                                                 \n",
            " block4_conv2 (Conv2D)       (None, 32, 32, 512)       2359808   \n",
            "                                                                 \n",
            " block4_conv3 (Conv2D)       (None, 32, 32, 512)       2359808   \n",
            "                                                                 \n",
            " block4_conv4 (Conv2D)       (None, 32, 32, 512)       2359808   \n",
            "                                                                 \n",
            " block4_pool (MaxPooling2D)  (None, 16, 16, 512)       0         \n",
            "                                                                 \n",
            " block5_conv1 (Conv2D)       (None, 16, 16, 512)       2359808   \n",
            "                                                                 \n",
            " block5_conv2 (Conv2D)       (None, 16, 16, 512)       2359808   \n",
            "                                                                 \n",
            " block5_conv3 (Conv2D)       (None, 16, 16, 512)       2359808   \n",
            "                                                                 \n",
            " block5_conv4 (Conv2D)       (None, 16, 16, 512)       2359808   \n",
            "                                                                 \n",
            " block5_pool (MaxPooling2D)  (None, 8, 8, 512)         0         \n",
            "                                                                 \n",
            "=================================================================\n",
            "Total params: 20,024,384\n",
            "Trainable params: 20,024,384\n",
            "Non-trainable params: 0\n",
            "_________________________________________________________________\n"
          ]
        }
      ],
      "source": [
        "#Check to ensure there is no prediction layer\n",
        "vgg19.summary()"
      ]
    },
    {
      "cell_type": "code",
      "execution_count": null,
      "metadata": {
        "id": "38McZMdR-zAN"
      },
      "outputs": [],
      "source": [
        "#Instantiate a Sequential model\n",
        "aug_vgg_model = Sequential()\n",
        "\n",
        "#Input Layer\n",
        "aug_vgg_model.add(vgg19)\n",
        "\n",
        "aug_vgg_model.add(layers.Flatten())\n",
        "\n",
        "#Add Dense Layer\n",
        "aug_vgg_model.add(layers.Dense(512, activation='relu'))\n",
        "aug_vgg_model.add(layers.Dropout(0.2))\n",
        "\n",
        "#Add Dense Layer\n",
        "aug_vgg_model.add(layers.Dense(256, activation='relu'))\n",
        "aug_vgg_model.add(layers.Dropout(0.2))\n",
        "\n",
        "#Add Dense Layer\n",
        "aug_vgg_model.add(layers.Dense(128, activation='relu'))\n",
        "aug_vgg_model.add(layers.Dropout(0.2))\n",
        "\n",
        "#Add Dense Layer\n",
        "aug_vgg_model.add(layers.Dense(64, activation='relu'))\n",
        "aug_vgg_model.add(layers.Dropout(0.2))\n",
        "\n",
        "#Add Dense Layer\n",
        "aug_vgg_model.add(layers.Dense(32, activation='relu'))\n",
        "\n",
        "#Output Layer\n",
        "aug_vgg_model.add(layers.Dense(10, activation='softmax'))"
      ]
    },
    {
      "cell_type": "code",
      "execution_count": null,
      "metadata": {
        "colab": {
          "base_uri": "https://localhost:8080/"
        },
        "id": "_Vgo0cUP-zD8",
        "outputId": "9880803a-5f13-4d12-842e-e164a4d0da15"
      },
      "outputs": [
        {
          "name": "stdout",
          "output_type": "stream",
          "text": [
            "vgg19 True\n",
            "flatten True\n",
            "dense True\n",
            "dropout True\n",
            "dense_1 True\n",
            "dropout_1 True\n",
            "dense_2 True\n",
            "dropout_2 True\n",
            "dense_3 True\n",
            "dropout_3 True\n",
            "dense_4 True\n",
            "dense_5 True\n",
            "44\n"
          ]
        }
      ],
      "source": [
        "# Check whether a layer is trainable (or alter its setting) through the layer.trainable attribute\n",
        "for layer in aug_vgg_model.layers:\n",
        "    print(layer.name, layer.trainable)\n",
        "\n",
        "# Similarly, you can check how many trainable weights are in the model\n",
        "print(len(aug_vgg_model.trainable_weights))"
      ]
    },
    {
      "cell_type": "code",
      "execution_count": null,
      "metadata": {
        "colab": {
          "base_uri": "https://localhost:8080/"
        },
        "id": "bpJdhEOo-zJH",
        "outputId": "5867ac4e-f7ca-49fe-f70a-51f0623e387d"
      },
      "outputs": [
        {
          "name": "stdout",
          "output_type": "stream",
          "text": [
            "vgg19 False\n",
            "flatten True\n",
            "dense True\n",
            "dropout True\n",
            "dense_1 True\n",
            "dropout_1 True\n",
            "dense_2 True\n",
            "dropout_2 True\n",
            "dense_3 True\n",
            "dropout_3 True\n",
            "dense_4 True\n",
            "dense_5 True\n"
          ]
        }
      ],
      "source": [
        "#Freeze our VGG19 Layer\n",
        "vgg19.trainable = False\n",
        "\n",
        "#Sanity check that VGG19 Layer is frozen\n",
        "for layer in aug_vgg_model.layers:\n",
        "    print(layer.name, layer.trainable)"
      ]
    },
    {
      "cell_type": "code",
      "execution_count": null,
      "metadata": {
        "colab": {
          "base_uri": "https://localhost:8080/"
        },
        "id": "DdRoQR5b-zOr",
        "outputId": "ba7fc377-7fe7-49ae-8c5d-cd083052a0ab"
      },
      "outputs": [
        {
          "name": "stdout",
          "output_type": "stream",
          "text": [
            "Model: \"sequential\"\n",
            "_________________________________________________________________\n",
            " Layer (type)                Output Shape              Param #   \n",
            "=================================================================\n",
            " vgg19 (Functional)          (None, 8, 8, 512)         20024384  \n",
            "                                                                 \n",
            " flatten (Flatten)           (None, 32768)             0         \n",
            "                                                                 \n",
            " dense (Dense)               (None, 512)               16777728  \n",
            "                                                                 \n",
            " dropout (Dropout)           (None, 512)               0         \n",
            "                                                                 \n",
            " dense_1 (Dense)             (None, 256)               131328    \n",
            "                                                                 \n",
            " dropout_1 (Dropout)         (None, 256)               0         \n",
            "                                                                 \n",
            " dense_2 (Dense)             (None, 128)               32896     \n",
            "                                                                 \n",
            " dropout_2 (Dropout)         (None, 128)               0         \n",
            "                                                                 \n",
            " dense_3 (Dense)             (None, 64)                8256      \n",
            "                                                                 \n",
            " dropout_3 (Dropout)         (None, 64)                0         \n",
            "                                                                 \n",
            " dense_4 (Dense)             (None, 32)                2080      \n",
            "                                                                 \n",
            " dense_5 (Dense)             (None, 10)                330       \n",
            "                                                                 \n",
            "=================================================================\n",
            "Total params: 36,977,002\n",
            "Trainable params: 16,952,618\n",
            "Non-trainable params: 20,024,384\n",
            "_________________________________________________________________\n"
          ]
        }
      ],
      "source": [
        "#Compile the model- adam optimizer, categorical_crossentropy loss, and set our metric to accuracy\n",
        "aug_vgg_model.compile(optimizer='adam',\n",
        "                       loss='categorical_crossentropy',\n",
        "                       metrics=['accuracy'])\n",
        "\n",
        "# print model summary\n",
        "aug_vgg_model.summary()"
      ]
    },
    {
      "cell_type": "code",
      "execution_count": null,
      "metadata": {
        "colab": {
          "base_uri": "https://localhost:8080/"
        },
        "id": "Q-iroh06-zTN",
        "outputId": "2c40d2e3-4522-453c-cdbb-4a3192872297"
      },
      "outputs": [
        {
          "name": "stdout",
          "output_type": "stream",
          "text": [
            "Epoch 1/50\n",
            "148/148 [==============================] - 4033s 27s/step - loss: 2.4683 - accuracy: 0.1145 - val_loss: 2.1912 - val_accuracy: 0.2125\n",
            "Epoch 2/50\n",
            "148/148 [==============================] - 67s 452ms/step - loss: 2.1773 - accuracy: 0.1759 - val_loss: 2.2147 - val_accuracy: 0.2518\n",
            "Epoch 3/50\n",
            "148/148 [==============================] - 65s 435ms/step - loss: 2.1135 - accuracy: 0.2230 - val_loss: 2.1316 - val_accuracy: 0.2251\n",
            "Epoch 4/50\n",
            "148/148 [==============================] - 67s 454ms/step - loss: 2.0631 - accuracy: 0.2228 - val_loss: 1.9457 - val_accuracy: 0.2529\n",
            "Epoch 5/50\n",
            "148/148 [==============================] - 68s 455ms/step - loss: 1.8891 - accuracy: 0.2583 - val_loss: 1.7734 - val_accuracy: 0.3750\n",
            "Epoch 6/50\n",
            "148/148 [==============================] - 65s 435ms/step - loss: 1.8275 - accuracy: 0.3054 - val_loss: 1.6181 - val_accuracy: 0.3165\n",
            "Epoch 7/50\n",
            "148/148 [==============================] - 67s 451ms/step - loss: 1.8027 - accuracy: 0.2902 - val_loss: 1.6009 - val_accuracy: 0.4310\n",
            "Epoch 8/50\n",
            "148/148 [==============================] - 65s 436ms/step - loss: 1.7047 - accuracy: 0.3412 - val_loss: 1.4837 - val_accuracy: 0.4284\n",
            "Epoch 9/50\n",
            "148/148 [==============================] - 66s 448ms/step - loss: 1.6826 - accuracy: 0.3634 - val_loss: 1.4805 - val_accuracy: 0.4654\n",
            "Epoch 10/50\n",
            "148/148 [==============================] - 67s 454ms/step - loss: 1.6289 - accuracy: 0.3944 - val_loss: 1.4898 - val_accuracy: 0.4683\n",
            "Epoch 11/50\n",
            "148/148 [==============================] - 64s 433ms/step - loss: 1.6040 - accuracy: 0.3866 - val_loss: 1.4064 - val_accuracy: 0.4654\n",
            "Epoch 12/50\n",
            "148/148 [==============================] - 64s 435ms/step - loss: 1.5536 - accuracy: 0.3980 - val_loss: 1.4072 - val_accuracy: 0.4561\n",
            "Epoch 13/50\n",
            "148/148 [==============================] - 67s 454ms/step - loss: 1.5452 - accuracy: 0.3930 - val_loss: 1.3648 - val_accuracy: 0.4750\n",
            "Epoch 14/50\n",
            "148/148 [==============================] - 67s 451ms/step - loss: 1.4794 - accuracy: 0.4136 - val_loss: 1.3372 - val_accuracy: 0.4861\n",
            "Epoch 15/50\n",
            "148/148 [==============================] - 67s 451ms/step - loss: 1.5183 - accuracy: 0.4124 - val_loss: 1.3653 - val_accuracy: 0.5050\n",
            "Epoch 16/50\n",
            "148/148 [==============================] - 67s 453ms/step - loss: 1.5151 - accuracy: 0.4348 - val_loss: 1.2526 - val_accuracy: 0.5305\n",
            "Epoch 17/50\n",
            "148/148 [==============================] - 65s 436ms/step - loss: 1.4658 - accuracy: 0.4110 - val_loss: 1.2804 - val_accuracy: 0.5120\n",
            "Epoch 18/50\n",
            "148/148 [==============================] - 66s 448ms/step - loss: 1.4752 - accuracy: 0.4128 - val_loss: 1.2525 - val_accuracy: 0.5524\n",
            "Epoch 19/50\n",
            "148/148 [==============================] - 64s 434ms/step - loss: 1.4468 - accuracy: 0.4454 - val_loss: 1.2845 - val_accuracy: 0.5354\n",
            "Epoch 20/50\n",
            "148/148 [==============================] - 65s 436ms/step - loss: 1.4595 - accuracy: 0.4283 - val_loss: 1.2861 - val_accuracy: 0.5246\n",
            "Epoch 21/50\n",
            "148/148 [==============================] - 64s 434ms/step - loss: 1.4350 - accuracy: 0.4468 - val_loss: 1.2683 - val_accuracy: 0.5420\n",
            "Epoch 22/50\n",
            "148/148 [==============================] - 64s 434ms/step - loss: 1.4268 - accuracy: 0.4540 - val_loss: 1.2199 - val_accuracy: 0.5361\n",
            "Epoch 23/50\n",
            "148/148 [==============================] - 67s 453ms/step - loss: 1.3640 - accuracy: 0.4600 - val_loss: 1.2746 - val_accuracy: 0.5646\n",
            "Epoch 24/50\n",
            "148/148 [==============================] - 64s 433ms/step - loss: 1.3972 - accuracy: 0.4775 - val_loss: 1.2285 - val_accuracy: 0.5405\n",
            "Epoch 25/50\n",
            "148/148 [==============================] - 64s 433ms/step - loss: 1.3656 - accuracy: 0.4937 - val_loss: 1.1499 - val_accuracy: 0.5476\n",
            "Epoch 26/50\n",
            "148/148 [==============================] - 67s 454ms/step - loss: 1.3322 - accuracy: 0.5058 - val_loss: 1.1110 - val_accuracy: 0.6224\n",
            "Epoch 27/50\n",
            "148/148 [==============================] - 65s 435ms/step - loss: 1.3772 - accuracy: 0.4971 - val_loss: 1.1192 - val_accuracy: 0.6168\n",
            "Epoch 28/50\n",
            "148/148 [==============================] - 64s 434ms/step - loss: 1.4133 - accuracy: 0.4799 - val_loss: 1.1677 - val_accuracy: 0.6013\n",
            "Epoch 29/50\n",
            "148/148 [==============================] - 67s 455ms/step - loss: 1.3065 - accuracy: 0.5246 - val_loss: 1.0822 - val_accuracy: 0.6390\n",
            "Epoch 30/50\n",
            "148/148 [==============================] - 64s 433ms/step - loss: 1.3355 - accuracy: 0.5152 - val_loss: 1.2733 - val_accuracy: 0.5553\n",
            "Epoch 31/50\n",
            "148/148 [==============================] - 64s 434ms/step - loss: 1.3202 - accuracy: 0.5199 - val_loss: 1.2862 - val_accuracy: 0.5331\n",
            "Epoch 32/50\n",
            "148/148 [==============================] - 64s 435ms/step - loss: 1.3994 - accuracy: 0.4692 - val_loss: 1.3445 - val_accuracy: 0.5313\n",
            "Epoch 33/50\n",
            "148/148 [==============================] - 64s 433ms/step - loss: 1.3605 - accuracy: 0.4693 - val_loss: 1.1464 - val_accuracy: 0.5939\n",
            "Epoch 34/50\n",
            "148/148 [==============================] - 64s 434ms/step - loss: 1.3081 - accuracy: 0.5159 - val_loss: 1.2755 - val_accuracy: 0.5320\n",
            "Epoch 34: early stopping\n"
          ]
        }
      ],
      "source": [
        "# Define Stopping Criteria\n",
        "\n",
        "valcallback = [EarlyStopping(monitor='val_accuracy', mode='max', verbose = 1, patience = 5),\n",
        "               ModelCheckpoint(filepath='/content/drive/MyDrive/Data/Land_Cover_Classification_Project/aug_vgg19_model.h5',\n",
        "                               monitor='val_accuracy',\n",
        "                               save_best_only=True,\n",
        "                               mode='max')]\n",
        "\n",
        "\n",
        "# Fit the model\n",
        "aug_vgg_model_history = aug_vgg_model.fit(aug_train_generator,\n",
        "                                  epochs= 50,\n",
        "                                  validation_data = aug_val_generator,\n",
        "                                  callbacks= valcallback,\n",
        "                                  batch_size=128,\n",
        "                                  verbose = 1)"
      ]
    },
    {
      "cell_type": "code",
      "execution_count": null,
      "metadata": {
        "colab": {
          "base_uri": "https://localhost:8080/"
        },
        "id": "vyIRJ27M-zbB",
        "outputId": "f42a7e8e-7fbf-4e51-8562-c1dee3cfe2a7"
      },
      "outputs": [
        {
          "name": "stdout",
          "output_type": "stream",
          "text": [
            "43/43 [==============================] - 1023s 24s/step - loss: 1.2468 - accuracy: 0.5502\n",
            "Test loss:  1.2468000650405884\n",
            "Test accuracy:  0.5501852035522461\n"
          ]
        }
      ],
      "source": [
        "# Check loss and accuracy on test data\n",
        "test_loss, test_acc = aug_vgg_model.evaluate(vgg_test_generator, verbose = 1)\n",
        "\n",
        "print('Test loss: ', test_loss)\n",
        "print('Test accuracy: ', test_acc)"
      ]
    },
    {
      "cell_type": "markdown",
      "metadata": {
        "id": "sNAGeBBy_Qf_"
      },
      "source": [
        "This model performed poorly with only 55% Test accruacy. Maybe we added too many layers and made the model more complex than needed."
      ]
    },
    {
      "cell_type": "markdown",
      "metadata": {
        "id": "HqG3WuJw-q6j"
      },
      "source": [
        "### Model 15- Transfer Learning: VGG16"
      ]
    },
    {
      "cell_type": "markdown",
      "metadata": {
        "id": "vEIuMF_b-rPp"
      },
      "source": [
        "Simple VGG16 model with 2 Dense and Dropout Layers"
      ]
    },
    {
      "cell_type": "code",
      "execution_count": null,
      "metadata": {
        "colab": {
          "base_uri": "https://localhost:8080/"
        },
        "id": "_DBVK7bI_QvS",
        "outputId": "70c9646f-d31e-407f-9ce1-3a9fe6b1c0ea"
      },
      "outputs": [
        {
          "name": "stdout",
          "output_type": "stream",
          "text": [
            "Found 18909 images belonging to 10 classes.\n",
            "Found 2701 images belonging to 10 classes.\n",
            "Found 5400 images belonging to 10 classes.\n"
          ]
        }
      ],
      "source": [
        "train_folder = '/content/drive/MyDrive/Data/Land_Cover_Classification_Project/data/split/train'\n",
        "test_folder = '/content/drive/MyDrive/Data/Land_Cover_Classification_Project/data/split/test'\n",
        "\n",
        "# Normalize images\n",
        "train16_gen = ImageDataGenerator(rescale=1./255,\n",
        "                               preprocessing_function = tf.keras.applications.vgg16.preprocess_input,\n",
        "                               validation_split = 0.125)\n",
        "test16_gen = ImageDataGenerator(rescale=1./255,\n",
        "                              preprocessing_function = tf.keras.applications.vgg16.preprocess_input)\n",
        "\n",
        "#Import data as 70% Train (10% Validation of orginal data set) and 20% Test\n",
        "vgg16_train_generator = train16_gen.flow_from_directory(train_folder,\n",
        "                                                class_mode = 'categorical',\n",
        "                                                subset ='training',\n",
        "                                                batch_size=128,\n",
        "                                                shuffle=True,\n",
        "                                                seed=42)\n",
        "\n",
        "vgg16_val_generator= train16_gen.flow_from_directory(train_folder,\n",
        "                                             class_mode= 'categorical',\n",
        "                                             subset = \"validation\",\n",
        "                                             batch_size=128,\n",
        "                                             shuffle=True,\n",
        "                                             seed=42)\n",
        "\n",
        "vgg16_test_generator= test16_gen.flow_from_directory(test_folder,\n",
        "                                              class_mode= 'categorical',\n",
        "                                              batch_size=128,\n",
        "                                              shuffle=False,\n",
        "                                              seed=42)"
      ]
    },
    {
      "cell_type": "code",
      "execution_count": null,
      "metadata": {
        "colab": {
          "base_uri": "https://localhost:8080/"
        },
        "id": "Aj6OfquoAeUx",
        "outputId": "47c248c7-2ce9-4948-937f-d33867e8577a"
      },
      "outputs": [
        {
          "name": "stdout",
          "output_type": "stream",
          "text": [
            "Downloading data from https://storage.googleapis.com/tensorflow/keras-applications/vgg16/vgg16_weights_tf_dim_ordering_tf_kernels_notop.h5\n",
            "58889256/58889256 [==============================] - 0s 0us/step\n"
          ]
        }
      ],
      "source": [
        "#Reshape our input\n",
        "vgg16 = VGG16(weights='imagenet',\n",
        "              include_top=False,\n",
        "              input_shape=(256, 256, 3))"
      ]
    },
    {
      "cell_type": "code",
      "execution_count": null,
      "metadata": {
        "colab": {
          "base_uri": "https://localhost:8080/"
        },
        "id": "La-p35JEAegx",
        "outputId": "c0199754-654a-48af-9b1a-7b5b3ad2562a"
      },
      "outputs": [
        {
          "name": "stdout",
          "output_type": "stream",
          "text": [
            "Model: \"vgg16\"\n",
            "_________________________________________________________________\n",
            " Layer (type)                Output Shape              Param #   \n",
            "=================================================================\n",
            " input_2 (InputLayer)        [(None, 256, 256, 3)]     0         \n",
            "                                                                 \n",
            " block1_conv1 (Conv2D)       (None, 256, 256, 64)      1792      \n",
            "                                                                 \n",
            " block1_conv2 (Conv2D)       (None, 256, 256, 64)      36928     \n",
            "                                                                 \n",
            " block1_pool (MaxPooling2D)  (None, 128, 128, 64)      0         \n",
            "                                                                 \n",
            " block2_conv1 (Conv2D)       (None, 128, 128, 128)     73856     \n",
            "                                                                 \n",
            " block2_conv2 (Conv2D)       (None, 128, 128, 128)     147584    \n",
            "                                                                 \n",
            " block2_pool (MaxPooling2D)  (None, 64, 64, 128)       0         \n",
            "                                                                 \n",
            " block3_conv1 (Conv2D)       (None, 64, 64, 256)       295168    \n",
            "                                                                 \n",
            " block3_conv2 (Conv2D)       (None, 64, 64, 256)       590080    \n",
            "                                                                 \n",
            " block3_conv3 (Conv2D)       (None, 64, 64, 256)       590080    \n",
            "                                                                 \n",
            " block3_pool (MaxPooling2D)  (None, 32, 32, 256)       0         \n",
            "                                                                 \n",
            " block4_conv1 (Conv2D)       (None, 32, 32, 512)       1180160   \n",
            "                                                                 \n",
            " block4_conv2 (Conv2D)       (None, 32, 32, 512)       2359808   \n",
            "                                                                 \n",
            " block4_conv3 (Conv2D)       (None, 32, 32, 512)       2359808   \n",
            "                                                                 \n",
            " block4_pool (MaxPooling2D)  (None, 16, 16, 512)       0         \n",
            "                                                                 \n",
            " block5_conv1 (Conv2D)       (None, 16, 16, 512)       2359808   \n",
            "                                                                 \n",
            " block5_conv2 (Conv2D)       (None, 16, 16, 512)       2359808   \n",
            "                                                                 \n",
            " block5_conv3 (Conv2D)       (None, 16, 16, 512)       2359808   \n",
            "                                                                 \n",
            " block5_pool (MaxPooling2D)  (None, 8, 8, 512)         0         \n",
            "                                                                 \n",
            "=================================================================\n",
            "Total params: 14,714,688\n",
            "Trainable params: 14,714,688\n",
            "Non-trainable params: 0\n",
            "_________________________________________________________________\n"
          ]
        }
      ],
      "source": [
        "#Check to ensure there is no prediction layer\n",
        "vgg16.summary()"
      ]
    },
    {
      "cell_type": "code",
      "execution_count": null,
      "metadata": {
        "id": "32bIqeFJAepN"
      },
      "outputs": [],
      "source": [
        "#Instantiate a Sequential model\n",
        "vgg16_model = Sequential()\n",
        "\n",
        "#Input Layer\n",
        "vgg16_model.add(vgg16)\n",
        "\n",
        "vgg16_model.add(layers.Flatten())\n",
        "\n",
        "#Add Dense Layer\n",
        "vgg16_model.add(layers.Dense(512, activation='relu'))\n",
        "vgg16_model.add(layers.Dropout(0.2))\n",
        "\n",
        "#Add Dense Layer\n",
        "vgg16_model.add(layers.Dense(64, activation='relu'))\n",
        "vgg16_model.add(layers.Dropout(0.2))\n",
        "\n",
        "#Output Layer\n",
        "vgg16_model.add(layers.Dense(10, activation='softmax'))"
      ]
    },
    {
      "cell_type": "code",
      "execution_count": null,
      "metadata": {
        "colab": {
          "base_uri": "https://localhost:8080/"
        },
        "id": "bRRHrE9eAel7",
        "outputId": "809bacf9-0b47-495f-8caa-30ffa45e2937"
      },
      "outputs": [
        {
          "name": "stdout",
          "output_type": "stream",
          "text": [
            "vgg16 False\n",
            "flatten_1 True\n",
            "dense_3 True\n",
            "dropout_2 True\n",
            "dense_4 True\n",
            "dropout_3 True\n",
            "dense_5 True\n"
          ]
        }
      ],
      "source": [
        "#Freeze our VGG19 Layer\n",
        "vgg16.trainable = False\n",
        "\n",
        "#Sanity check that VGG19 Layer is frozen\n",
        "for layer in vgg16_model.layers:\n",
        "    print(layer.name, layer.trainable)"
      ]
    },
    {
      "cell_type": "code",
      "execution_count": null,
      "metadata": {
        "colab": {
          "base_uri": "https://localhost:8080/"
        },
        "id": "lT7Mk3tsAesA",
        "outputId": "86cc5b06-cba9-4f8b-f884-d21f2e832134"
      },
      "outputs": [
        {
          "name": "stdout",
          "output_type": "stream",
          "text": [
            "Model: \"sequential_1\"\n",
            "_________________________________________________________________\n",
            " Layer (type)                Output Shape              Param #   \n",
            "=================================================================\n",
            " vgg16 (Functional)          (None, 8, 8, 512)         14714688  \n",
            "                                                                 \n",
            " flatten_1 (Flatten)         (None, 32768)             0         \n",
            "                                                                 \n",
            " dense_3 (Dense)             (None, 512)               16777728  \n",
            "                                                                 \n",
            " dropout_2 (Dropout)         (None, 512)               0         \n",
            "                                                                 \n",
            " dense_4 (Dense)             (None, 64)                32832     \n",
            "                                                                 \n",
            " dropout_3 (Dropout)         (None, 64)                0         \n",
            "                                                                 \n",
            " dense_5 (Dense)             (None, 10)                650       \n",
            "                                                                 \n",
            "=================================================================\n",
            "Total params: 31,525,898\n",
            "Trainable params: 16,811,210\n",
            "Non-trainable params: 14,714,688\n",
            "_________________________________________________________________\n"
          ]
        }
      ],
      "source": [
        "#Compile the model- adam optimizer, categorical_crossentropy loss, and set our metric to accuracy\n",
        "vgg16_model.compile(optimizer='adam',\n",
        "                       loss='categorical_crossentropy',\n",
        "                       metrics=['accuracy'])\n",
        "\n",
        "# print model summary\n",
        "vgg16_model.summary()"
      ]
    },
    {
      "cell_type": "code",
      "execution_count": null,
      "metadata": {
        "colab": {
          "base_uri": "https://localhost:8080/"
        },
        "id": "fRiOyXdAAeu8",
        "outputId": "c0b1ef89-2786-43b1-ebfc-0f43adafc950"
      },
      "outputs": [
        {
          "name": "stdout",
          "output_type": "stream",
          "text": [
            "Epoch 1/50\n",
            "148/148 [==============================] - 70s 461ms/step - loss: 1.4968 - accuracy: 0.4737 - val_loss: 0.7148 - val_accuracy: 0.7675\n",
            "Epoch 2/50\n",
            "148/148 [==============================] - 70s 470ms/step - loss: 0.7753 - accuracy: 0.7271 - val_loss: 0.5783 - val_accuracy: 0.8038\n",
            "Epoch 3/50\n",
            "148/148 [==============================] - 70s 469ms/step - loss: 0.6284 - accuracy: 0.7804 - val_loss: 0.5246 - val_accuracy: 0.8156\n",
            "Epoch 4/50\n",
            "148/148 [==============================] - 70s 472ms/step - loss: 0.5559 - accuracy: 0.8043 - val_loss: 0.5170 - val_accuracy: 0.8160\n",
            "Epoch 5/50\n",
            "148/148 [==============================] - 71s 476ms/step - loss: 0.5159 - accuracy: 0.8263 - val_loss: 0.4605 - val_accuracy: 0.8397\n",
            "Epoch 6/50\n",
            "148/148 [==============================] - 70s 469ms/step - loss: 0.4507 - accuracy: 0.8454 - val_loss: 0.4459 - val_accuracy: 0.8493\n",
            "Epoch 7/50\n",
            "148/148 [==============================] - 70s 474ms/step - loss: 0.4404 - accuracy: 0.8517 - val_loss: 0.4254 - val_accuracy: 0.8597\n",
            "Epoch 8/50\n",
            "148/148 [==============================] - 68s 457ms/step - loss: 0.4074 - accuracy: 0.8603 - val_loss: 0.4751 - val_accuracy: 0.8430\n",
            "Epoch 9/50\n",
            "148/148 [==============================] - 68s 457ms/step - loss: 0.4188 - accuracy: 0.8564 - val_loss: 0.4291 - val_accuracy: 0.8589\n",
            "Epoch 10/50\n",
            "148/148 [==============================] - 68s 457ms/step - loss: 0.3892 - accuracy: 0.8661 - val_loss: 0.4388 - val_accuracy: 0.8475\n",
            "Epoch 11/50\n",
            "148/148 [==============================] - 69s 469ms/step - loss: 0.3533 - accuracy: 0.8798 - val_loss: 0.4027 - val_accuracy: 0.8712\n",
            "Epoch 12/50\n",
            "148/148 [==============================] - 68s 456ms/step - loss: 0.3344 - accuracy: 0.8837 - val_loss: 0.4674 - val_accuracy: 0.8526\n",
            "Epoch 13/50\n",
            "148/148 [==============================] - 68s 456ms/step - loss: 0.3458 - accuracy: 0.8787 - val_loss: 0.4229 - val_accuracy: 0.8641\n",
            "Epoch 14/50\n",
            "148/148 [==============================] - 68s 458ms/step - loss: 0.3318 - accuracy: 0.8854 - val_loss: 0.4151 - val_accuracy: 0.8652\n",
            "Epoch 15/50\n",
            "148/148 [==============================] - 67s 453ms/step - loss: 0.3464 - accuracy: 0.8823 - val_loss: 0.4519 - val_accuracy: 0.8571\n",
            "Epoch 16/50\n",
            "148/148 [==============================] - 69s 468ms/step - loss: 0.2912 - accuracy: 0.9024 - val_loss: 0.4059 - val_accuracy: 0.8749\n",
            "Epoch 17/50\n",
            "148/148 [==============================] - 68s 461ms/step - loss: 0.3001 - accuracy: 0.8986 - val_loss: 0.4241 - val_accuracy: 0.8734\n",
            "Epoch 18/50\n",
            "148/148 [==============================] - 68s 456ms/step - loss: 0.2951 - accuracy: 0.8972 - val_loss: 0.4375 - val_accuracy: 0.8671\n",
            "Epoch 19/50\n",
            "148/148 [==============================] - 67s 455ms/step - loss: 0.2767 - accuracy: 0.9050 - val_loss: 0.4163 - val_accuracy: 0.8734\n",
            "Epoch 20/50\n",
            "148/148 [==============================] - 67s 455ms/step - loss: 0.2947 - accuracy: 0.9009 - val_loss: 0.4462 - val_accuracy: 0.8715\n",
            "Epoch 21/50\n",
            "148/148 [==============================] - 67s 454ms/step - loss: 0.2714 - accuracy: 0.9075 - val_loss: 0.4851 - val_accuracy: 0.8497\n",
            "Epoch 21: early stopping\n"
          ]
        }
      ],
      "source": [
        "# Define Stopping Criteria\n",
        "valcallback = [EarlyStopping(monitor='val_accuracy', mode='max', verbose = 1, patience = 5),\n",
        "               ModelCheckpoint(filepath='/content/drive/MyDrive/Data/Land_Cover_Classification_Project/vgg16_model.h5',\n",
        "                               monitor='val_accuracy',\n",
        "                               save_best_only=True,\n",
        "                               mode='max')]\n",
        "\n",
        "\n",
        "# Fit the model\n",
        "vgg16_model_history = vgg16_model.fit(vgg16_train_generator,\n",
        "                                  epochs= 50,\n",
        "                                  validation_data = vgg16_val_generator,\n",
        "                                  callbacks= valcallback,\n",
        "                                  batch_size=128,\n",
        "                                  verbose = 1)"
      ]
    },
    {
      "cell_type": "code",
      "execution_count": null,
      "metadata": {
        "colab": {
          "base_uri": "https://localhost:8080/"
        },
        "id": "rGM5iQmLAexd",
        "outputId": "77d93789-e4d5-49c5-94b1-253035597f46"
      },
      "outputs": [
        {
          "name": "stdout",
          "output_type": "stream",
          "text": [
            "43/43 [==============================] - 17s 387ms/step - loss: 0.4698 - accuracy: 0.8593\n",
            "Test loss:  0.46979963779449463\n",
            "Test accuracy:  0.8592592477798462\n"
          ]
        }
      ],
      "source": [
        "# Check loss and accuracy on test data\n",
        "test_loss, test_acc = vgg16_model.evaluate(vgg16_test_generator, verbose = 1)\n",
        "\n",
        "print('Test loss: ', test_loss)\n",
        "print('Test accuracy: ', test_acc)"
      ]
    },
    {
      "cell_type": "markdown",
      "metadata": {
        "id": "Kh4mYUaAyEEy"
      },
      "source": [
        "The VGG16 model seems to work the best of all so far, giving us an even better Test accuracy of 85.9%."
      ]
    },
    {
      "cell_type": "markdown",
      "metadata": {
        "id": "F4G3UPog9sVu"
      },
      "source": [
        "### Model 16- Transfer Learning: VGG16 with Augmentation and Fine Tuning"
      ]
    },
    {
      "cell_type": "markdown",
      "metadata": {
        "id": "9WvtP6qc9sbx"
      },
      "source": [
        "Let's try adding in additional data through augmentation. We also will fine tune (unfreeze the final 5 layers) the VGG16 model and use 0.3 Dropout Regularization. Let's also change the patience to 10 so that the model trains for longer."
      ]
    },
    {
      "cell_type": "code",
      "execution_count": null,
      "metadata": {
        "colab": {
          "base_uri": "https://localhost:8080/"
        },
        "id": "_e4TmoJNERye",
        "outputId": "a729da4b-2fa3-4967-d522-2a1715549ebc"
      },
      "outputs": [
        {
          "name": "stdout",
          "output_type": "stream",
          "text": [
            "Found 18909 images belonging to 10 classes.\n",
            "Found 2701 images belonging to 10 classes.\n",
            "Found 5400 images belonging to 10 classes.\n"
          ]
        }
      ],
      "source": [
        "train_folder = '/content/drive/MyDrive/Data/Land_Cover_Classification_Project/data/split/train'\n",
        "test_folder = '/content/drive/MyDrive/Data/Land_Cover_Classification_Project/data/split/test'\n",
        "\n",
        "# Normalize images\n",
        "train_aug16_gen = ImageDataGenerator(rescale=1./255,\n",
        "                                     zoom_range=0.3,\n",
        "                                     rotation_range=50,\n",
        "                                     width_shift_range=0.2,\n",
        "                                     height_shift_range=0.2,\n",
        "                                     shear_range=0.2,\n",
        "                                     horizontal_flip=True,\n",
        "                                     fill_mode='nearest',\n",
        "                                     preprocessing_function = tf.keras.applications.vgg16.preprocess_input,\n",
        "                                     validation_split = 0.125)\n",
        "\n",
        "val_aug16_gen = ImageDataGenerator(rescale=1./255,\n",
        "                               preprocessing_function = tf.keras.applications.vgg16.preprocess_input,\n",
        "                               validation_split = 0.125)\n",
        "\n",
        "test_aug16_gen = ImageDataGenerator(rescale=1./255,\n",
        "                              preprocessing_function = tf.keras.applications.vgg16.preprocess_input)\n",
        "\n",
        "#Import data as 70% Train (10% Validation of orginal data set) and 20% Test\n",
        "aug16_train_generator = train_aug16_gen.flow_from_directory(train_folder,\n",
        "                                                class_mode = 'categorical',\n",
        "                                                subset ='training',\n",
        "                                                batch_size=128,\n",
        "                                                shuffle=True,\n",
        "                                                seed=42)\n",
        "\n",
        "aug16_val_generator= val_aug16_gen.flow_from_directory(train_folder,\n",
        "                                             class_mode= 'categorical',\n",
        "                                             subset = \"validation\",\n",
        "                                             batch_size=128,\n",
        "                                             shuffle=True,\n",
        "                                             seed=42)\n",
        "\n",
        "aug16_test_generator= test_aug16_gen.flow_from_directory(test_folder,\n",
        "                                              class_mode= 'categorical',\n",
        "                                              batch_size=128,\n",
        "                                              shuffle=False,\n",
        "                                              seed=42)"
      ]
    },
    {
      "cell_type": "code",
      "execution_count": null,
      "metadata": {
        "colab": {
          "base_uri": "https://localhost:8080/"
        },
        "id": "Rq5nCIKYAe0n",
        "outputId": "11066327-47d4-42bc-f198-c5faa74f27bb"
      },
      "outputs": [
        {
          "name": "stdout",
          "output_type": "stream",
          "text": [
            "Downloading data from https://storage.googleapis.com/tensorflow/keras-applications/vgg16/vgg16_weights_tf_dim_ordering_tf_kernels_notop.h5\n",
            "58889256/58889256 [==============================] - 2s 0us/step\n"
          ]
        }
      ],
      "source": [
        "#Reshape our input\n",
        "vgg16 = VGG16(weights='imagenet',\n",
        "              include_top=False,\n",
        "              input_shape=(256, 256, 3))"
      ]
    },
    {
      "cell_type": "code",
      "execution_count": null,
      "metadata": {
        "id": "fs8gJ1eCAe2d"
      },
      "outputs": [],
      "source": [
        "#Instantiate a Sequential model\n",
        "aug_vgg16_model = Sequential()\n",
        "\n",
        "#Input Layer\n",
        "aug_vgg16_model.add(vgg16)\n",
        "\n",
        "aug_vgg16_model.add(layers.Flatten())\n",
        "\n",
        "#Add Dense Layer\n",
        "aug_vgg16_model.add(layers.Dense(512, activation='relu'))\n",
        "aug_vgg16_model.add(layers.Dropout(0.3))\n",
        "\n",
        "#Add Dense Layer\n",
        "aug_vgg16_model.add(layers.Dense(64, activation='relu'))\n",
        "aug_vgg16_model.add(layers.Dropout(0.3))\n",
        "\n",
        "#Output Layer\n",
        "aug_vgg16_model.add(layers.Dense(10, activation='softmax'))"
      ]
    },
    {
      "cell_type": "code",
      "execution_count": null,
      "metadata": {
        "colab": {
          "base_uri": "https://localhost:8080/"
        },
        "id": "i3ED_y_cAe52",
        "outputId": "fba4759f-6085-47a1-fb39-a178c9330307"
      },
      "outputs": [
        {
          "name": "stdout",
          "output_type": "stream",
          "text": [
            "Number of layers in the VGG16 base model:  19\n"
          ]
        }
      ],
      "source": [
        "# View number of layers in the vgg16 base model\n",
        "print(\"Number of layers in the VGG16 base model: \", len(vgg16.layers))"
      ]
    },
    {
      "cell_type": "code",
      "execution_count": null,
      "metadata": {
        "id": "-ywMVPsmAe8a"
      },
      "outputs": [],
      "source": [
        "# Fine-tune from layer 15 onwards\n",
        "fine_tune_at = 15\n",
        "\n",
        "# Freeze all the layers before the `fine_tune_at` layer\n",
        "for layer in vgg16.layers[:fine_tune_at]:\n",
        "  layer.trainable = False"
      ]
    },
    {
      "cell_type": "code",
      "execution_count": null,
      "metadata": {
        "colab": {
          "base_uri": "https://localhost:8080/"
        },
        "id": "EdVpXKrEAfJN",
        "outputId": "82b7565b-512f-473e-9cf3-1be21b0290b2"
      },
      "outputs": [
        {
          "name": "stdout",
          "output_type": "stream",
          "text": [
            "vgg16 True\n",
            "flatten True\n",
            "dense True\n",
            "dropout True\n",
            "dense_1 True\n",
            "dropout_1 True\n",
            "dense_2 True\n"
          ]
        }
      ],
      "source": [
        "#Sanity check that VGG19 Layer is frozen\n",
        "for layer in aug_vgg16_model.layers:\n",
        "    print(layer.name, layer.trainable)"
      ]
    },
    {
      "cell_type": "code",
      "execution_count": null,
      "metadata": {
        "colab": {
          "base_uri": "https://localhost:8080/"
        },
        "id": "Ozi28YuN-q8k",
        "outputId": "fed291ea-8ad4-4c84-9770-2f3c6b0b1db3"
      },
      "outputs": [
        {
          "name": "stdout",
          "output_type": "stream",
          "text": [
            "Model: \"vgg16\"\n",
            "_________________________________________________________________\n",
            " Layer (type)                Output Shape              Param #   \n",
            "=================================================================\n",
            " input_1 (InputLayer)        [(None, 256, 256, 3)]     0         \n",
            "                                                                 \n",
            " block1_conv1 (Conv2D)       (None, 256, 256, 64)      1792      \n",
            "                                                                 \n",
            " block1_conv2 (Conv2D)       (None, 256, 256, 64)      36928     \n",
            "                                                                 \n",
            " block1_pool (MaxPooling2D)  (None, 128, 128, 64)      0         \n",
            "                                                                 \n",
            " block2_conv1 (Conv2D)       (None, 128, 128, 128)     73856     \n",
            "                                                                 \n",
            " block2_conv2 (Conv2D)       (None, 128, 128, 128)     147584    \n",
            "                                                                 \n",
            " block2_pool (MaxPooling2D)  (None, 64, 64, 128)       0         \n",
            "                                                                 \n",
            " block3_conv1 (Conv2D)       (None, 64, 64, 256)       295168    \n",
            "                                                                 \n",
            " block3_conv2 (Conv2D)       (None, 64, 64, 256)       590080    \n",
            "                                                                 \n",
            " block3_conv3 (Conv2D)       (None, 64, 64, 256)       590080    \n",
            "                                                                 \n",
            " block3_pool (MaxPooling2D)  (None, 32, 32, 256)       0         \n",
            "                                                                 \n",
            " block4_conv1 (Conv2D)       (None, 32, 32, 512)       1180160   \n",
            "                                                                 \n",
            " block4_conv2 (Conv2D)       (None, 32, 32, 512)       2359808   \n",
            "                                                                 \n",
            " block4_conv3 (Conv2D)       (None, 32, 32, 512)       2359808   \n",
            "                                                                 \n",
            " block4_pool (MaxPooling2D)  (None, 16, 16, 512)       0         \n",
            "                                                                 \n",
            " block5_conv1 (Conv2D)       (None, 16, 16, 512)       2359808   \n",
            "                                                                 \n",
            " block5_conv2 (Conv2D)       (None, 16, 16, 512)       2359808   \n",
            "                                                                 \n",
            " block5_conv3 (Conv2D)       (None, 16, 16, 512)       2359808   \n",
            "                                                                 \n",
            " block5_pool (MaxPooling2D)  (None, 8, 8, 512)         0         \n",
            "                                                                 \n",
            "=================================================================\n",
            "Total params: 14,714,688\n",
            "Trainable params: 7,079,424\n",
            "Non-trainable params: 7,635,264\n",
            "_________________________________________________________________\n"
          ]
        }
      ],
      "source": [
        "#Check that there is no prediction layer and the split between trainable/non-trainable parameters.\n",
        "vgg16.summary()"
      ]
    },
    {
      "cell_type": "code",
      "execution_count": null,
      "metadata": {
        "colab": {
          "base_uri": "https://localhost:8080/"
        },
        "id": "SHZnHz6Y-q_u",
        "outputId": "e875ef7d-ffe2-4f72-9eb8-b6826732f9ef"
      },
      "outputs": [
        {
          "name": "stdout",
          "output_type": "stream",
          "text": [
            "Model: \"sequential\"\n",
            "_________________________________________________________________\n",
            " Layer (type)                Output Shape              Param #   \n",
            "=================================================================\n",
            " vgg16 (Functional)          (None, 8, 8, 512)         14714688  \n",
            "                                                                 \n",
            " flatten (Flatten)           (None, 32768)             0         \n",
            "                                                                 \n",
            " dense (Dense)               (None, 512)               16777728  \n",
            "                                                                 \n",
            " dropout (Dropout)           (None, 512)               0         \n",
            "                                                                 \n",
            " dense_1 (Dense)             (None, 64)                32832     \n",
            "                                                                 \n",
            " dropout_1 (Dropout)         (None, 64)                0         \n",
            "                                                                 \n",
            " dense_2 (Dense)             (None, 10)                650       \n",
            "                                                                 \n",
            "=================================================================\n",
            "Total params: 31,525,898\n",
            "Trainable params: 23,890,634\n",
            "Non-trainable params: 7,635,264\n",
            "_________________________________________________________________\n"
          ]
        }
      ],
      "source": [
        "#Compile the model- adam optimizer, categorical_crossentropy loss, and set our metric to accuracy\n",
        "aug_vgg16_model.compile(optimizer='adam',\n",
        "                       loss='categorical_crossentropy',\n",
        "                       metrics=['accuracy'])\n",
        "\n",
        "# print model summary\n",
        "aug_vgg16_model.summary()"
      ]
    },
    {
      "cell_type": "code",
      "execution_count": null,
      "metadata": {
        "colab": {
          "base_uri": "https://localhost:8080/"
        },
        "id": "79NHnNuv-rC3",
        "outputId": "6b3a83b0-8360-4af3-f5d7-ac096843d55d",
        "scrolled": false
      },
      "outputs": [
        {
          "name": "stdout",
          "output_type": "stream",
          "text": [
            "Epoch 1/50\n",
            "148/148 [==============================] - 8367s 56s/step - loss: 1.7496 - accuracy: 0.3366 - val_loss: 1.1980 - val_accuracy: 0.5387\n",
            "Epoch 2/50\n",
            "148/148 [==============================] - 285s 2s/step - loss: 1.0871 - accuracy: 0.6081 - val_loss: 1.1515 - val_accuracy: 0.6453\n",
            "Epoch 3/50\n",
            "148/148 [==============================] - 286s 2s/step - loss: 0.8536 - accuracy: 0.6998 - val_loss: 0.9231 - val_accuracy: 0.6716\n",
            "Epoch 4/50\n",
            "148/148 [==============================] - 289s 2s/step - loss: 0.7507 - accuracy: 0.7347 - val_loss: 0.7040 - val_accuracy: 0.7445\n",
            "Epoch 5/50\n",
            "148/148 [==============================] - 286s 2s/step - loss: 0.6526 - accuracy: 0.7799 - val_loss: 0.5437 - val_accuracy: 0.8208\n",
            "Epoch 6/50\n",
            "148/148 [==============================] - 283s 2s/step - loss: 0.5978 - accuracy: 0.7995 - val_loss: 0.5423 - val_accuracy: 0.8160\n",
            "Epoch 7/50\n",
            "148/148 [==============================] - 286s 2s/step - loss: 0.5293 - accuracy: 0.8281 - val_loss: 0.3958 - val_accuracy: 0.8675\n",
            "Epoch 8/50\n",
            "148/148 [==============================] - 283s 2s/step - loss: 0.5013 - accuracy: 0.8392 - val_loss: 0.4993 - val_accuracy: 0.8267\n",
            "Epoch 9/50\n",
            "148/148 [==============================] - 283s 2s/step - loss: 0.4737 - accuracy: 0.8488 - val_loss: 0.5097 - val_accuracy: 0.8538\n",
            "Epoch 10/50\n",
            "148/148 [==============================] - 283s 2s/step - loss: 0.4872 - accuracy: 0.8481 - val_loss: 0.4229 - val_accuracy: 0.8582\n",
            "Epoch 11/50\n",
            "148/148 [==============================] - 283s 2s/step - loss: 0.4271 - accuracy: 0.8622 - val_loss: 0.7218 - val_accuracy: 0.7853\n",
            "Epoch 12/50\n",
            "148/148 [==============================] - 285s 2s/step - loss: 0.4265 - accuracy: 0.8628 - val_loss: 0.4060 - val_accuracy: 0.8726\n",
            "Epoch 13/50\n",
            "148/148 [==============================] - 283s 2s/step - loss: 0.4233 - accuracy: 0.8666 - val_loss: 0.4610 - val_accuracy: 0.8401\n",
            "Epoch 14/50\n",
            "148/148 [==============================] - 285s 2s/step - loss: 0.3896 - accuracy: 0.8767 - val_loss: 0.3028 - val_accuracy: 0.8949\n",
            "Epoch 15/50\n",
            "148/148 [==============================] - 284s 2s/step - loss: 0.4005 - accuracy: 0.8720 - val_loss: 0.3957 - val_accuracy: 0.8812\n",
            "Epoch 16/50\n",
            "148/148 [==============================] - 283s 2s/step - loss: 0.3749 - accuracy: 0.8809 - val_loss: 0.4535 - val_accuracy: 0.8608\n",
            "Epoch 17/50\n",
            "148/148 [==============================] - 286s 2s/step - loss: 0.3541 - accuracy: 0.8879 - val_loss: 0.2991 - val_accuracy: 0.9067\n",
            "Epoch 18/50\n",
            "148/148 [==============================] - 283s 2s/step - loss: 0.3481 - accuracy: 0.8901 - val_loss: 0.3464 - val_accuracy: 0.8852\n",
            "Epoch 19/50\n",
            "148/148 [==============================] - 283s 2s/step - loss: 0.3572 - accuracy: 0.8895 - val_loss: 0.3469 - val_accuracy: 0.8830\n",
            "Epoch 20/50\n",
            "148/148 [==============================] - 282s 2s/step - loss: 0.3553 - accuracy: 0.8887 - val_loss: 0.3928 - val_accuracy: 0.8726\n",
            "Epoch 21/50\n",
            "148/148 [==============================] - 283s 2s/step - loss: 0.3419 - accuracy: 0.8944 - val_loss: 0.3417 - val_accuracy: 0.8926\n",
            "Epoch 22/50\n",
            "148/148 [==============================] - 283s 2s/step - loss: 0.3295 - accuracy: 0.8954 - val_loss: 0.4395 - val_accuracy: 0.8756\n",
            "Epoch 23/50\n",
            "148/148 [==============================] - 283s 2s/step - loss: 0.3301 - accuracy: 0.8965 - val_loss: 0.3028 - val_accuracy: 0.8997\n",
            "Epoch 24/50\n",
            "148/148 [==============================] - 286s 2s/step - loss: 0.3297 - accuracy: 0.8984 - val_loss: 0.2455 - val_accuracy: 0.9148\n",
            "Epoch 25/50\n",
            "148/148 [==============================] - 283s 2s/step - loss: 0.3085 - accuracy: 0.9002 - val_loss: 0.3220 - val_accuracy: 0.8934\n",
            "Epoch 26/50\n",
            "148/148 [==============================] - 283s 2s/step - loss: 0.3220 - accuracy: 0.9007 - val_loss: 0.5104 - val_accuracy: 0.8619\n",
            "Epoch 27/50\n",
            "148/148 [==============================] - 284s 2s/step - loss: 0.3161 - accuracy: 0.9006 - val_loss: 0.3670 - val_accuracy: 0.8874\n",
            "Epoch 28/50\n",
            "148/148 [==============================] - 283s 2s/step - loss: 0.3073 - accuracy: 0.9034 - val_loss: 0.3145 - val_accuracy: 0.8886\n",
            "Epoch 29/50\n",
            "148/148 [==============================] - 286s 2s/step - loss: 0.2956 - accuracy: 0.9067 - val_loss: 0.2675 - val_accuracy: 0.9152\n",
            "Epoch 30/50\n",
            "148/148 [==============================] - 283s 2s/step - loss: 0.2952 - accuracy: 0.9073 - val_loss: 0.2814 - val_accuracy: 0.9041\n",
            "Epoch 31/50\n",
            "148/148 [==============================] - 283s 2s/step - loss: 0.2889 - accuracy: 0.9085 - val_loss: 0.3113 - val_accuracy: 0.9089\n",
            "Epoch 32/50\n",
            "148/148 [==============================] - 283s 2s/step - loss: 0.2909 - accuracy: 0.9099 - val_loss: 0.3269 - val_accuracy: 0.8982\n",
            "Epoch 33/50\n",
            "148/148 [==============================] - 283s 2s/step - loss: 0.2763 - accuracy: 0.9117 - val_loss: 0.3594 - val_accuracy: 0.9026\n",
            "Epoch 34/50\n",
            "148/148 [==============================] - 283s 2s/step - loss: 0.2975 - accuracy: 0.9077 - val_loss: 0.2817 - val_accuracy: 0.9141\n",
            "Epoch 35/50\n",
            "148/148 [==============================] - 283s 2s/step - loss: 0.2722 - accuracy: 0.9147 - val_loss: 0.2786 - val_accuracy: 0.9111\n",
            "Epoch 36/50\n",
            "148/148 [==============================] - 286s 2s/step - loss: 0.2688 - accuracy: 0.9162 - val_loss: 0.2631 - val_accuracy: 0.9171\n",
            "Epoch 37/50\n",
            "148/148 [==============================] - 283s 2s/step - loss: 0.2712 - accuracy: 0.9120 - val_loss: 0.3186 - val_accuracy: 0.9115\n",
            "Epoch 38/50\n",
            "148/148 [==============================] - 285s 2s/step - loss: 0.2603 - accuracy: 0.9189 - val_loss: 0.2681 - val_accuracy: 0.9182\n",
            "Epoch 39/50\n",
            "148/148 [==============================] - 284s 2s/step - loss: 0.2675 - accuracy: 0.9138 - val_loss: 0.3744 - val_accuracy: 0.8908\n",
            "Epoch 40/50\n",
            "148/148 [==============================] - 283s 2s/step - loss: 0.2537 - accuracy: 0.9196 - val_loss: 0.3276 - val_accuracy: 0.9045\n",
            "Epoch 41/50\n",
            "148/148 [==============================] - 286s 2s/step - loss: 0.2559 - accuracy: 0.9182 - val_loss: 0.2479 - val_accuracy: 0.9241\n",
            "Epoch 42/50\n",
            "148/148 [==============================] - 284s 2s/step - loss: 0.2581 - accuracy: 0.9198 - val_loss: 0.2709 - val_accuracy: 0.9082\n",
            "Epoch 43/50\n",
            "148/148 [==============================] - 285s 2s/step - loss: 0.2613 - accuracy: 0.9167 - val_loss: 0.2894 - val_accuracy: 0.9119\n",
            "Epoch 44/50\n",
            "148/148 [==============================] - 288s 2s/step - loss: 0.2523 - accuracy: 0.9196 - val_loss: 0.2451 - val_accuracy: 0.9260\n",
            "Epoch 45/50\n",
            "148/148 [==============================] - 284s 2s/step - loss: 0.2526 - accuracy: 0.9188 - val_loss: 0.3035 - val_accuracy: 0.9023\n",
            "Epoch 46/50\n",
            "148/148 [==============================] - 283s 2s/step - loss: 0.2704 - accuracy: 0.9167 - val_loss: 0.5039 - val_accuracy: 0.8563\n",
            "Epoch 47/50\n",
            "148/148 [==============================] - 286s 2s/step - loss: 0.2524 - accuracy: 0.9190 - val_loss: 0.2450 - val_accuracy: 0.9282\n",
            "Epoch 48/50\n",
            "148/148 [==============================] - 283s 2s/step - loss: 0.2429 - accuracy: 0.9211 - val_loss: 0.2900 - val_accuracy: 0.9074\n",
            "Epoch 49/50\n",
            "148/148 [==============================] - 285s 2s/step - loss: 0.2966 - accuracy: 0.9147 - val_loss: 0.2834 - val_accuracy: 0.9193\n",
            "Epoch 50/50\n",
            "148/148 [==============================] - 283s 2s/step - loss: 0.2471 - accuracy: 0.9202 - val_loss: 0.2905 - val_accuracy: 0.9111\n"
          ]
        }
      ],
      "source": [
        "# Define Stopping Criteria- changed patience to 10\n",
        "valcallback = [EarlyStopping(monitor='val_accuracy', mode='max', verbose = 1, patience = 10),\n",
        "               ModelCheckpoint(filepath='/content/drive/MyDrive/Data/Land_Cover_Classification_Project/aug_vgg16_model.h5',\n",
        "                               monitor='val_accuracy',\n",
        "                               save_best_only=True,\n",
        "                               mode='max')]\n",
        "\n",
        "\n",
        "# Fit the model\n",
        "aug_vgg16_model_history = aug_vgg16_model.fit(aug16_train_generator,\n",
        "                                  epochs= 50,\n",
        "                                  validation_data = aug16_val_generator,\n",
        "                                  callbacks= valcallback,\n",
        "                                  batch_size=128,\n",
        "                                  verbose = 1)"
      ]
    },
    {
      "cell_type": "code",
      "execution_count": null,
      "metadata": {
        "colab": {
          "base_uri": "https://localhost:8080/"
        },
        "id": "XKXe1qgi-rFw",
        "outputId": "3a8615fe-ff4e-4a0e-f665-f79203fbe891"
      },
      "outputs": [
        {
          "name": "stdout",
          "output_type": "stream",
          "text": [
            "43/43 [==============================] - 2138s 51s/step - loss: 0.2987 - accuracy: 0.9146\n",
            "Test loss:  0.2986944913864136\n",
            "Test accuracy:  0.9146296381950378\n"
          ]
        }
      ],
      "source": [
        "# Check loss and accuracy on test data\n",
        "test_loss, test_acc = aug_vgg16_model.evaluate(aug16_test_generator, verbose = 1)\n",
        "\n",
        "print('Test loss: ', test_loss)\n",
        "print('Test accuracy: ', test_acc)"
      ]
    },
    {
      "cell_type": "markdown",
      "metadata": {
        "id": "8ldoDoVg_Wkn"
      },
      "source": [
        "Fine tuning the model seems to help a lot as this is our best Test Accuracy at 91.46%."
      ]
    },
    {
      "cell_type": "markdown",
      "metadata": {
        "id": "_lImGI7BxVzs"
      },
      "source": [
        "## Evaluation"
      ]
    },
    {
      "cell_type": "markdown",
      "metadata": {
        "id": "QKM1Gv_MxWC5"
      },
      "source": [
        "Compared to my Baseline Model's performance of 74.1% Test accuracy, my final model was Model 16 with a 91.4% Test accuracy."
      ]
    },
    {
      "cell_type": "code",
      "execution_count": null,
      "metadata": {
        "id": "I3NL1ACxUXUU"
      },
      "outputs": [],
      "source": [
        "#Plot training and validation results of a model\n",
        "def visualize_training_results(results):\n",
        "    history = results.history\n",
        "    plt.figure()\n",
        "    plt.plot(history['val_loss'])\n",
        "    plt.plot(history['loss'])\n",
        "    plt.legend(['val_loss', 'loss'])\n",
        "    plt.title('Loss')\n",
        "    plt.xlabel('Epochs')\n",
        "    plt.ylabel('Loss')\n",
        "    plt.show()\n",
        "\n",
        "    plt.figure()\n",
        "    plt.plot(history['val_accuracy'])\n",
        "    plt.plot(history['accuracy'])\n",
        "    plt.legend(['val_accuracy', 'accuracy'])\n",
        "    plt.title('Accuracy')\n",
        "    plt.xlabel('Epochs')\n",
        "    plt.ylabel('Accuracy')\n",
        "    plt.show()"
      ]
    },
    {
      "cell_type": "code",
      "execution_count": null,
      "metadata": {
        "colab": {
          "base_uri": "https://localhost:8080/",
          "height": 927
        },
        "id": "HZtImPsXUXau",
        "outputId": "72bc2d9a-ce44-43f2-be9e-9b8e2749b0eb"
      },
      "outputs": [
        {
          "data": {
            "image/png": "[encoded data removed]",
            "text/plain": [
              "<Figure size 640x480 with 1 Axes>"
            ]
          },
          "metadata": {},
          "output_type": "display_data"
        },
        {
          "data": {
            "image/png": "[encoded data removed]",
            "text/plain": [
              "<Figure size 640x480 with 1 Axes>"
            ]
          },
          "metadata": {},
          "output_type": "display_data"
        }
      ],
      "source": [
        "#Plot the traning/validation results of our best model- Model 16\n",
        "visualize_training_results(aug_vgg16_model_history)"
      ]
    },
    {
      "cell_type": "markdown",
      "metadata": {
        "id": "ca8sgZgAxibZ"
      },
      "source": [
        "Looking at the loss and accuracy graphs above we can see that the training and validation data follow each other fairly closely indicating a good fit. After 7 Epochs, improvement slowed in general but continued gradually. The validation accuracy peaked at Epoch 47 at 92.82%."
      ]
    },
    {
      "cell_type": "markdown",
      "metadata": {
        "id": "PivHPGN8xjgg"
      },
      "source": [
        "Let's look at our predictions by class for our final model (Model 16)"
      ]
    },
    {
      "cell_type": "code",
      "execution_count": null,
      "metadata": {
        "id": "Gru7RuIeUXmd"
      },
      "outputs": [],
      "source": [
        "#Model load for Jupyter Notebook\n",
        "# final_model = tf.keras.models.load_model('aug_vgg16_model.h5', compile=False)\n",
        "\n",
        "#Model load for Google Colab Notebook\n",
        "final_model = \\\n",
        "tf.keras.models.load_model('/content/drive/MyDrive/Data/Land_Cover_Classification_Project/aug_vgg16_model.h5',\n",
        "                           compile=False)"
      ]
    },
    {
      "cell_type": "code",
      "execution_count": null,
      "metadata": {
        "colab": {
          "base_uri": "https://localhost:8080/"
        },
        "id": "unCWRUmwDTQk",
        "outputId": "650da202-f0fc-47db-a889-ec8a8fe2b063"
      },
      "outputs": [
        {
          "name": "stdout",
          "output_type": "stream",
          "text": [
            "43/43 [==============================] - 17s 387ms/step\n"
          ]
        },
        {
          "data": {
            "text/plain": [
              "array([[9.9993384e-01, 4.6584977e-19, 5.0097464e-09, ..., 2.2567428e-28,\n",
              "        5.9878697e-05, 7.7555752e-13],\n",
              "       [9.7196454e-01, 3.0293207e-18, 5.4901119e-07, ..., 1.4873510e-18,\n",
              "        1.4426853e-04, 1.2356460e-12],\n",
              "       [9.7947717e-01, 1.5439530e-14, 2.7877314e-09, ..., 1.5500134e-22,\n",
              "        2.0497765e-02, 1.1870964e-07],\n",
              "       ...,\n",
              "       [6.2766770e-09, 1.4805388e-08, 6.3541819e-08, ..., 1.4938526e-32,\n",
              "        8.1292528e-10, 9.9999988e-01],\n",
              "       [1.3209623e-07, 1.4492950e-06, 1.7620501e-05, ..., 1.1771010e-24,\n",
              "        4.6592753e-08, 9.9998081e-01],\n",
              "       [1.9305061e-07, 1.4823042e-06, 3.7175105e-06, ..., 1.6827297e-25,\n",
              "        2.9074213e-08, 9.9999464e-01]], dtype=float32)"
            ]
          },
          "execution_count": 18,
          "metadata": {},
          "output_type": "execute_result"
        }
      ],
      "source": [
        "#Predictions on entire test data\n",
        "batch_size = 128\n",
        "num_of_test_samples = 43\n",
        "predictions = final_model.predict(aug16_test_generator,  num_of_test_samples // batch_size+1)\n",
        "predictions"
      ]
    },
    {
      "cell_type": "code",
      "execution_count": null,
      "metadata": {
        "colab": {
          "base_uri": "https://localhost:8080/"
        },
        "id": "BEYqaqRMDTQk",
        "outputId": "fe0b2e51-dbce-4b71-eabf-582adc8bfc11"
      },
      "outputs": [
        {
          "name": "stdout",
          "output_type": "stream",
          "text": [
            "                      precision    recall  f1-score   support\n",
            "\n",
            "          AnnualCrop       0.96      0.90      0.93       600\n",
            "              Forest       0.89      0.99      0.94       600\n",
            "HerbaceousVegetation       0.88      0.89      0.88       600\n",
            "             Highway       0.86      0.89      0.88       500\n",
            "          Industrial       0.93      0.97      0.95       500\n",
            "             Pasture       0.94      0.81      0.87       400\n",
            "       PermanentCrop       0.87      0.89      0.88       500\n",
            "         Residential       0.94      0.99      0.96       600\n",
            "               River       0.93      0.85      0.89       500\n",
            "             SeaLake       0.99      0.95      0.97       600\n",
            "\n",
            "            accuracy                           0.92      5400\n",
            "           macro avg       0.92      0.91      0.92      5400\n",
            "        weighted avg       0.92      0.92      0.92      5400\n",
            "\n"
          ]
        }
      ],
      "source": [
        "#Take our highest predicted class as our prediction\n",
        "y_pred = np.argmax(predictions, axis=1)\n",
        "\n",
        "#Define our X_test or Test Classes\n",
        "true_classes = aug16_test_generator.classes\n",
        "\n",
        "#Define our y_test or Test Labels\n",
        "class_labels = list(aug16_test_generator.class_indices.keys())\n",
        "\n",
        "#View a classification report to see how accurate our predicition were\n",
        "report = classification_report(true_classes, y_pred, target_names=class_labels)\n",
        "print(report)"
      ]
    },
    {
      "cell_type": "markdown",
      "metadata": {
        "id": "4AV1tJOuC5nx"
      },
      "source": [
        "Our results are promising with every class having above 85% on both precision and recall. It will be interesting to see if certain classes were commonly confused."
      ]
    },
    {
      "cell_type": "code",
      "execution_count": null,
      "metadata": {
        "colab": {
          "base_uri": "https://localhost:8080/"
        },
        "id": "1pq6kQ2AJnUE",
        "outputId": "a0002aaf-0975-470c-e4ee-7f00d715d6c8"
      },
      "outputs": [
        {
          "data": {
            "text/plain": [
              "{'AnnualCrop': 0,\n",
              " 'Forest': 1,\n",
              " 'HerbaceousVegetation': 2,\n",
              " 'Highway': 3,\n",
              " 'Industrial': 4,\n",
              " 'Pasture': 5,\n",
              " 'PermanentCrop': 6,\n",
              " 'Residential': 7,\n",
              " 'River': 8,\n",
              " 'SeaLake': 9}"
            ]
          },
          "execution_count": 35,
          "metadata": {},
          "output_type": "execute_result"
        }
      ],
      "source": [
        "#View our class names and indexes\n",
        "aug16_test_generator.class_indices"
      ]
    },
    {
      "cell_type": "code",
      "execution_count": null,
      "metadata": {
        "colab": {
          "base_uri": "https://localhost:8080/"
        },
        "id": "mpLr2wUYNfyf",
        "outputId": "7f6d7b90-073d-47ff-f5bf-e3cd73f5a9ae"
      },
      "outputs": [
        {
          "data": {
            "text/plain": [
              "['AnnualCrop',\n",
              " 'Forest',\n",
              " 'HerbaceousVegetation',\n",
              " 'Highway',\n",
              " 'Industrial',\n",
              " 'Pasture',\n",
              " 'PermanentCrop',\n",
              " 'Residential',\n",
              " 'River',\n",
              " 'SeaLake']"
            ]
          },
          "execution_count": 36,
          "metadata": {},
          "output_type": "execute_result"
        }
      ],
      "source": [
        "#Separate class names from indexes\n",
        "cm_labels = list(aug16_test_generator.class_indices.keys())\n",
        "cm_labels"
      ]
    },
    {
      "cell_type": "code",
      "execution_count": null,
      "metadata": {
        "colab": {
          "base_uri": "https://localhost:8080/",
          "height": 593
        },
        "id": "LHBRURk9x0rl",
        "outputId": "9587db50-b97e-4d40-ccb1-02ea2d3465a1"
      },
      "outputs": [
        {
          "data": {
            "image/png": "[encoded data removed]",
            "text/plain": [
              "<Figure size 640x480 with 2 Axes>"
            ]
          },
          "metadata": {},
          "output_type": "display_data"
        }
      ],
      "source": [
        "#View confusion matrix of test predictions\n",
        "final_disp = ConfusionMatrixDisplay.from_predictions(true_classes, y_pred,\n",
        "                                                     display_labels=cm_labels,\n",
        "                                                     xticks_rotation=\"vertical\",\n",
        "                                                     cmap=plt.cm.Blues)"
      ]
    },
    {
      "cell_type": "markdown",
      "metadata": {
        "id": "PVm8RBw6UXt7"
      },
      "source": [
        "As we saw in our classification report, the model did fairly well overall. From the confusion matrix, we can see there are some common misclassifications- Rivers for Highways (maybe due to their similar shape) and Pastures for Forests (maybe due to their abdundance of green). Improving differentiation between these classes will be a goal moving forward."
      ]
    },
    {
      "cell_type": "markdown",
      "metadata": {
        "id": "R2iIoxXrAzGb"
      },
      "source": [
        "## Conclusion"
      ]
    },
    {
      "cell_type": "markdown",
      "metadata": {
        "id": "KptBbdkcAzGb"
      },
      "source": [
        "### Recommendations"
      ]
    },
    {
      "cell_type": "markdown",
      "metadata": {
        "id": "eisyP48jAzGb"
      },
      "source": [
        "I would recommend TNC use this land cover classifier tool on images of the same land area over time and focus deforestation prevention efforts on known wildlife corridor areas where an image’s class has changed over time. By doing so, the information would be a helpful alert of encroaching land development."
      ]
    },
    {
      "cell_type": "markdown",
      "metadata": {
        "id": "OI_-biIrAzGc"
      },
      "source": [
        "### Next Steps"
      ]
    },
    {
      "cell_type": "markdown",
      "metadata": {
        "id": "pf1nBjxCAzGc"
      },
      "source": [
        "Next, I would work to refine my model to better differientiate between confused classes (i.e. river and highway), possibly through preprocessing. Additionally, I would like to incorporate object detection into this project to help classify multiple areas of land cover within a singular image."
      ]
    },
    {
      "cell_type": "markdown",
      "metadata": {
        "id": "32ZvJbltAzGc"
      },
      "source": [
        "### References"
      ]
    },
    {
      "cell_type": "markdown",
      "metadata": {
        "id": "vOPDOPMEAzGc"
      },
      "source": [
        "[1] Eurosat: A novel dataset and deep learning benchmark for land use and land cover classification. Patrick Helber, Benjamin Bischke, Andreas Dengel, Damian Borth. IEEE Journal of Selected Topics in Applied Earth Observations and Remote Sensing, 2019."
      ]
    },
    {
      "cell_type": "markdown",
      "metadata": {
        "id": "26AxyM_xAzGc"
      },
      "source": [
        "[2] Introducing EuroSAT: A Novel Dataset and Deep Learning Benchmark for Land Use and Land Cover Classification. Patrick Helber, Benjamin Bischke, Andreas Dengel. 2018 IEEE International Geoscience and Remote Sensing Symposium, 2018."
      ]
    },
    {
      "cell_type": "code",
      "execution_count": null,
      "metadata": {
        "id": "XEuxSFHMAzGc"
      },
      "outputs": [],
      "source": []
    }
  ],
  "metadata": {
    "accelerator": "GPU",
    "colab": {
      "machine_shape": "hm",
      "provenance": [],
      "gpuClass": "premium"
    },
    "gpuClass": "premium",
    "kernelspec": {
      "display_name": "Python 3",
      "language": "python",
      "name": "python3"
    },
    "language_info": {
      "codemirror_mode": {
        "name": "ipython",
        "version": 3
      },
      "file_extension": ".py",
      "mimetype": "text/x-python",
      "name": "python",
      "nbconvert_exporter": "python",
      "pygments_lexer": "ipython3",
      "version": "3.8.5"
    }
  },
  "nbformat": 4,
  "nbformat_minor": 0
}